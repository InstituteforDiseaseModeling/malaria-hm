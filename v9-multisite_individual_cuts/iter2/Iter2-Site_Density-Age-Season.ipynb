{
 "cells": [
  {
   "cell_type": "markdown",
   "metadata": {},
   "source": [
    "# Malaria addInputEIR calibration"
   ]
  },
  {
   "cell_type": "markdown",
   "metadata": {},
   "source": [
    "### A history matching approach to calibrating an empirical model of malaria infection and immunity\n",
    "### For iter0 we will cut down parameter space by using the distribution of malaria prevalence by season, age and density bins from a moderate high transmission setting in Sugungum, Garki, Nigeria"
   ]
  },
  {
   "cell_type": "markdown",
   "metadata": {},
   "source": [
    "# Import block"
   ]
  },
  {
   "cell_type": "code",
   "execution_count": 1,
   "metadata": {
    "scrolled": true
   },
   "outputs": [
    {
     "name": "stdout",
     "output_type": "stream",
     "text": [
      "Looks like you don't have CUDA, that's okay, we'll try using CPU but it will be SLOW!\n",
      "Looks like you don't have CUDA, that's okay, we'll try using CPU but it will be SLOW!\n"
     ]
    }
   ],
   "source": [
    "from IPython.extensions import autoreload\n",
    "%load_ext autoreload\n",
    "%autoreload 2\n",
    "import os, glob, re, sys, json\n",
    "import pandas as pd\n",
    "import numpy as np\n",
    "import matplotlib.pyplot as plt\n",
    "import seaborn as sns\n",
    "from collections import OrderedDict\n",
    "import itertools\n",
    "from calibtool.analyzers.Helpers import \\\n",
    "    convert_to_counts, age_from_birth_cohort, season_from_time, aggregate_on_index\n",
    "\n",
    "# from wand.image import Image as WImage\n",
    "from IPython.display import IFrame, display\n",
    "\n",
    "from pyDOE import lhs\n",
    "from history_matching import HistoryMatching, HistoryMatchingCut, quick_read, Basis\n",
    "sns.set(font_scale=2)\n",
    "sns.set_style(\"white\")"
   ]
  },
  {
   "cell_type": "code",
   "execution_count": 2,
   "metadata": {},
   "outputs": [],
   "source": [
    "def fix_glob(pth):\n",
    "    return re.sub('([\\[\\]])','[\\\\1]', pth)"
   ]
  },
  {
   "cell_type": "markdown",
   "metadata": {},
   "source": [
    "# Configure parameters and data for history matching"
   ]
  },
  {
   "cell_type": "code",
   "execution_count": 3,
   "metadata": {},
   "outputs": [],
   "source": [
    "site = 'Matsari'\n",
    "season_cut = 'W2'\n",
    "age_bin_cut = 8\n",
    "density_bin_cut = 2000000\n",
    "\n",
    "cut_name = f'{density_bin_cut}_{age_bin_cut}_{season_cut}_{site}'\n",
    "\n",
    "# iteration = int(re.search(r'iter(\\d+)', os.getcwd())) # Index of the current iteration\n",
    "iteration = 1 \n",
    "#list of exp_ids/folders that correspond to exp_ids from which our emulation will draw\n",
    "exp_ids = ['f814758f-713d-ea11-a2c3-c4346bcb1551'] # TODO: only uses first for now, should loop\n",
    "basedir = 'C:\\git\\Malaria-Uganda-PRISM'\n",
    "datafile = os.path.join('..','reference data', 'Garki_df.csv')"
   ]
  },
  {
   "cell_type": "code",
   "execution_count": 4,
   "metadata": {},
   "outputs": [],
   "source": [
    "# The implausibility threshold determines how willing we are to retain regions\n",
    "# of parameter space that are inconsistent with the underlying data. A higher\n",
    "# threshold is more risk averse in that potentially good regions are less likely\n",
    "# to be rejected, however it will take more iterations/simulations to achieve results.\n",
    "implausibility_threshold = 3\n",
    "training_fraction = 0.75 # Fraction of simulations to use as training\n",
    "discrepancy_std = 0.0 # Accounts for uncertainty w.r.t model structure\n",
    "n_samples_to_generate_for_next_iter = 1000 # Number of simulations to conduct on this iteration"
   ]
  },
  {
   "cell_type": "code",
   "execution_count": 5,
   "metadata": {},
   "outputs": [
    {
     "name": "stdout",
     "output_type": "stream",
     "text": [
      "Reading Params from ..\\Params_7bac51da3efef654c885a1cf0fac989d.hd5\n"
     ]
    },
    {
     "data": {
      "text/html": [
       "<div>\n",
       "<style scoped>\n",
       "    .dataframe tbody tr th:only-of-type {\n",
       "        vertical-align: middle;\n",
       "    }\n",
       "\n",
       "    .dataframe tbody tr th {\n",
       "        vertical-align: top;\n",
       "    }\n",
       "\n",
       "    .dataframe thead th {\n",
       "        text-align: right;\n",
       "    }\n",
       "</style>\n",
       "<table border=\"1\" class=\"dataframe\">\n",
       "  <thead>\n",
       "    <tr style=\"text-align: right;\">\n",
       "      <th></th>\n",
       "      <th>Min</th>\n",
       "      <th>Max</th>\n",
       "      <th>MapTo</th>\n",
       "    </tr>\n",
       "    <tr>\n",
       "      <th>Name</th>\n",
       "      <th></th>\n",
       "      <th></th>\n",
       "      <th></th>\n",
       "    </tr>\n",
       "  </thead>\n",
       "  <tbody>\n",
       "    <tr>\n",
       "      <th>Biological_Age_Immune_Coefficient_PPP</th>\n",
       "      <td>0.000</td>\n",
       "      <td>20.0</td>\n",
       "      <td>Biological_Age_Immune_Coefficient_PPP</td>\n",
       "    </tr>\n",
       "    <tr>\n",
       "      <th>Biological_Age_Immune_Coefficient_TM</th>\n",
       "      <td>0.000</td>\n",
       "      <td>2.0</td>\n",
       "      <td>Biological_Age_Immune_Coefficient_TM</td>\n",
       "    </tr>\n",
       "    <tr>\n",
       "      <th>Cumulative_Exposure_Immune_Coefficient_PPP</th>\n",
       "      <td>0.000</td>\n",
       "      <td>20.0</td>\n",
       "      <td>Cumulative_Exposure_Immune_Coefficient_PPP</td>\n",
       "    </tr>\n",
       "    <tr>\n",
       "      <th>Cumulative_Exposure_Immune_Coefficient_TM</th>\n",
       "      <td>0.000</td>\n",
       "      <td>2.0</td>\n",
       "      <td>Cumulative_Exposure_Immune_Coefficient_TM</td>\n",
       "    </tr>\n",
       "    <tr>\n",
       "      <th>Scale_Factor_Age_a</th>\n",
       "      <td>3.000</td>\n",
       "      <td>5.0</td>\n",
       "      <td>Scale_Factor_Age_a</td>\n",
       "    </tr>\n",
       "    <tr>\n",
       "      <th>Scale_Factor_Age_b</th>\n",
       "      <td>0.100</td>\n",
       "      <td>0.3</td>\n",
       "      <td>Scale_Factor_Age_b</td>\n",
       "    </tr>\n",
       "    <tr>\n",
       "      <th>Scale_Factor_Cum_Exp_shape</th>\n",
       "      <td>0.100</td>\n",
       "      <td>100.0</td>\n",
       "      <td>Scale_Factor_Cum_Exp_shape</td>\n",
       "    </tr>\n",
       "    <tr>\n",
       "      <th>Concurrent_Infections_c</th>\n",
       "      <td>20.000</td>\n",
       "      <td>30.0</td>\n",
       "      <td>Concurrent_Infections_c</td>\n",
       "    </tr>\n",
       "    <tr>\n",
       "      <th>Wave_Vs_Infection_Relative_Weight</th>\n",
       "      <td>0.001</td>\n",
       "      <td>100.0</td>\n",
       "      <td>Wave_Vs_Infection_Relative_Weight</td>\n",
       "    </tr>\n",
       "    <tr>\n",
       "      <th>Parasite_Density_Wave_Sigma</th>\n",
       "      <td>0.600</td>\n",
       "      <td>6.0</td>\n",
       "      <td>Parasite_Density_Wave_Sigma</td>\n",
       "    </tr>\n",
       "  </tbody>\n",
       "</table>\n",
       "</div>"
      ],
      "text/plain": [
       "                                               Min    Max  \\\n",
       "Name                                                        \n",
       "Biological_Age_Immune_Coefficient_PPP        0.000   20.0   \n",
       "Biological_Age_Immune_Coefficient_TM         0.000    2.0   \n",
       "Cumulative_Exposure_Immune_Coefficient_PPP   0.000   20.0   \n",
       "Cumulative_Exposure_Immune_Coefficient_TM    0.000    2.0   \n",
       "Scale_Factor_Age_a                           3.000    5.0   \n",
       "Scale_Factor_Age_b                           0.100    0.3   \n",
       "Scale_Factor_Cum_Exp_shape                   0.100  100.0   \n",
       "Concurrent_Infections_c                     20.000   30.0   \n",
       "Wave_Vs_Infection_Relative_Weight            0.001  100.0   \n",
       "Parasite_Density_Wave_Sigma                  0.600    6.0   \n",
       "\n",
       "                                                                                 MapTo  \n",
       "Name                                                                                    \n",
       "Biological_Age_Immune_Coefficient_PPP            Biological_Age_Immune_Coefficient_PPP  \n",
       "Biological_Age_Immune_Coefficient_TM              Biological_Age_Immune_Coefficient_TM  \n",
       "Cumulative_Exposure_Immune_Coefficient_PPP  Cumulative_Exposure_Immune_Coefficient_PPP  \n",
       "Cumulative_Exposure_Immune_Coefficient_TM    Cumulative_Exposure_Immune_Coefficient_TM  \n",
       "Scale_Factor_Age_a                                                  Scale_Factor_Age_a  \n",
       "Scale_Factor_Age_b                                                  Scale_Factor_Age_b  \n",
       "Scale_Factor_Cum_Exp_shape                                  Scale_Factor_Cum_Exp_shape  \n",
       "Concurrent_Infections_c                                        Concurrent_Infections_c  \n",
       "Wave_Vs_Infection_Relative_Weight                    Wave_Vs_Infection_Relative_Weight  \n",
       "Parasite_Density_Wave_Sigma                                Parasite_Density_Wave_Sigma  "
      ]
     },
     "metadata": {},
     "output_type": "display_data"
    }
   ],
   "source": [
    "# Here we define the parameter names and ranges\n",
    "params_file = os.path.join('..','Params.xlsx')\n",
    "param_info = quick_read(params_file, 'Params').set_index('Name')\n",
    "param_names = param_info.index.tolist()\n",
    "\n",
    "params = param_info.index.values\n",
    "n_params = param_info.shape[0] # We'll use this one place later\n",
    "display(param_info)"
   ]
  },
  {
   "cell_type": "markdown",
   "metadata": {},
   "source": [
    "## Read in Sim Results"
   ]
  },
  {
   "cell_type": "code",
   "execution_count": 6,
   "metadata": {},
   "outputs": [
    {
     "name": "stdout",
     "output_type": "stream",
     "text": [
      "-------------------------------------------------------------------------------- \n",
      "Experiment: f814758f-713d-ea11-a2c3-c4346bcb1551\n",
      "f814758f-713d-ea11-a2c3-c4346bcb1551\\full_analyzer_results.csv\n",
      "     Unnamed: 0  sample                                sim_id season  age_bin  \\\n",
      "58            0       2  8303339c-713d-ea11-a2c3-c4346bcb1551     W2        8   \n",
      "121           0       6  8703339c-713d-ea11-a2c3-c4346bcb1551     W2        8   \n",
      "184           0      17  9203339c-713d-ea11-a2c3-c4346bcb1551     W2        8   \n",
      "247           0      11  8c03339c-713d-ea11-a2c3-c4346bcb1551     W2        8   \n",
      "310           0      41  9603339c-713d-ea11-a2c3-c4346bcb1551     W2        8   \n",
      "\n",
      "     density_bin     value  \n",
      "58       2000000  0.274699  \n",
      "121      2000000  0.000000  \n",
      "184      2000000  0.020952  \n",
      "247      2000000  0.008333  \n",
      "310      2000000  0.022917  \n",
      "<class 'pandas.core.frame.DataFrame'>\n"
     ]
    },
    {
     "data": {
      "text/html": [
       "<div>\n",
       "<style scoped>\n",
       "    .dataframe tbody tr th:only-of-type {\n",
       "        vertical-align: middle;\n",
       "    }\n",
       "\n",
       "    .dataframe tbody tr th {\n",
       "        vertical-align: top;\n",
       "    }\n",
       "\n",
       "    .dataframe thead th {\n",
       "        text-align: right;\n",
       "    }\n",
       "</style>\n",
       "<table border=\"1\" class=\"dataframe\">\n",
       "  <thead>\n",
       "    <tr style=\"text-align: right;\">\n",
       "      <th></th>\n",
       "      <th></th>\n",
       "      <th>Sim_Result</th>\n",
       "    </tr>\n",
       "    <tr>\n",
       "      <th>Sample_Id</th>\n",
       "      <th>Sim_Id</th>\n",
       "      <th></th>\n",
       "    </tr>\n",
       "  </thead>\n",
       "  <tbody>\n",
       "    <tr>\n",
       "      <th>f814758f-713d-ea11-a2c3-c4346bcb1551.000000</th>\n",
       "      <th>8103339c-713d-ea11-a2c3-c4346bcb1551</th>\n",
       "      <td>0.292982</td>\n",
       "    </tr>\n",
       "    <tr>\n",
       "      <th>f814758f-713d-ea11-a2c3-c4346bcb1551.000001</th>\n",
       "      <th>8203339c-713d-ea11-a2c3-c4346bcb1551</th>\n",
       "      <td>0.130319</td>\n",
       "    </tr>\n",
       "    <tr>\n",
       "      <th>f814758f-713d-ea11-a2c3-c4346bcb1551.000002</th>\n",
       "      <th>8303339c-713d-ea11-a2c3-c4346bcb1551</th>\n",
       "      <td>0.274699</td>\n",
       "    </tr>\n",
       "    <tr>\n",
       "      <th>f814758f-713d-ea11-a2c3-c4346bcb1551.000003</th>\n",
       "      <th>8403339c-713d-ea11-a2c3-c4346bcb1551</th>\n",
       "      <td>0.083636</td>\n",
       "    </tr>\n",
       "    <tr>\n",
       "      <th>f814758f-713d-ea11-a2c3-c4346bcb1551.000004</th>\n",
       "      <th>8503339c-713d-ea11-a2c3-c4346bcb1551</th>\n",
       "      <td>0.152542</td>\n",
       "    </tr>\n",
       "  </tbody>\n",
       "</table>\n",
       "</div>"
      ],
      "text/plain": [
       "                                                                                  Sim_Result\n",
       "Sample_Id                                   Sim_Id                                          \n",
       "f814758f-713d-ea11-a2c3-c4346bcb1551.000000 8103339c-713d-ea11-a2c3-c4346bcb1551    0.292982\n",
       "f814758f-713d-ea11-a2c3-c4346bcb1551.000001 8203339c-713d-ea11-a2c3-c4346bcb1551    0.130319\n",
       "f814758f-713d-ea11-a2c3-c4346bcb1551.000002 8303339c-713d-ea11-a2c3-c4346bcb1551    0.274699\n",
       "f814758f-713d-ea11-a2c3-c4346bcb1551.000003 8403339c-713d-ea11-a2c3-c4346bcb1551    0.083636\n",
       "f814758f-713d-ea11-a2c3-c4346bcb1551.000004 8503339c-713d-ea11-a2c3-c4346bcb1551    0.152542"
      ]
     },
     "metadata": {},
     "output_type": "display_data"
    }
   ],
   "source": [
    "all_samples = []\n",
    "all_results = []\n",
    "for exp_id in exp_ids:\n",
    "    \n",
    "    print('-'*80, '\\nExperiment:', exp_id)\n",
    "    sim_results_fn = os.path.join(exp_id, 'full_analyzer_results.csv')\n",
    "    print(sim_results_fn)\n",
    "    sr = pd.read_csv(sim_results_fn, skipinitialspace=True)\n",
    "    \n",
    "    sr = sr[(sr.season == season_cut)&(sr.age_bin ==age_bin_cut)&(sr.density_bin==density_bin_cut)]\n",
    "    print(sr.head())\n",
    "    sr['Sample_Id'] = sr['sample'].apply(lambda x: '%s.%06d' % (exp_id, x))\n",
    "    sr.rename(columns = {'sim_id': 'Sim_Id','value':'Result'}, inplace=True)\n",
    "    all_results.append( sr )\n",
    "    #read in tags making a samples.xlsx file \n",
    "    s = pd.read_excel(os.path.join(exp_id, 'Samples.xlsx'))\n",
    "    # s.drop('Sim_Id', axis=1, inplace=True)\n",
    "    s['Sample_Id'] = s['Sample'].apply(lambda x: '%s.%06d' % (exp_id, x))\n",
    "    all_samples.append( s )\n",
    "\n",
    "#.rename(columns={'level_1': 'Year', 0: 'Cases'}) \\\n",
    "all_results = pd.concat(all_results) \\\n",
    "    .set_index(['Sample_Id', 'Sim_Id']) \\\n",
    "    [['Result']] \\\n",
    "    .sort_index()\n",
    "\n",
    "samples = pd.concat(all_samples).set_index('Sample_Id').sort_index() # Bad because sample will be repeated across exp_id!\n",
    "                       \n",
    "samples.to_csv('Samples.csv')\n",
    "all_results.to_csv('Results.csv')\n",
    "results = all_results['Result']\n",
    "\n",
    "results = all_results \\\n",
    "    .groupby(['Sample_Id', 'Sim_Id']) \\\n",
    "    .mean()\n",
    "\n",
    "    \n",
    "results.rename(columns={'Result':'Sim_Result'}, inplace=True)\n",
    "print(type(results))\n",
    "display(results.head())"
   ]
  },
  {
   "cell_type": "code",
   "execution_count": 7,
   "metadata": {},
   "outputs": [],
   "source": [
    "def grouped_df(df, pfprdict, index, column_keep, column_del):\n",
    "    \"\"\"\n",
    "    Recut dataframe to recategorize data into desired age and parasitemia bins\n",
    "\n",
    "    Args:\n",
    "        df: Dataframe to be rebinned\n",
    "        pfprdict: Dictionary mapping postive counts per slide view (http://garkiproject.nd.edu/demographic-parasitological-surveys.html)\n",
    "                to density of parasites/gametocytes per uL\n",
    "        index: Multi index into which 'df' is rebinned\n",
    "        column_keep: Column (e.g. parasitemia) to keep\n",
    "        column_del: Column (e.g. gametocytemia) to delete\n",
    "    \"\"\"\n",
    "    dftemp = df.copy()\n",
    "    del dftemp[column_del]\n",
    "\n",
    "    dftemp['PfPR Bin'] = df[column_keep]\n",
    "    dftemp = aggregate_on_index(dftemp, index)\n",
    "\n",
    "    dfGrouped = dftemp.groupby(['Season', 'Age Bin', 'PfPR Bin'])\n",
    "\n",
    "    dftemp = dfGrouped[column_keep].count()\n",
    "    dftemp = dftemp.unstack().fillna(0).stack()\n",
    "    dftemp = dftemp.rename(column_keep).reset_index()\n",
    "    dftemp['PfPR Bin'] = [pfprdict[p] for p in dftemp['PfPR Bin']]\n",
    "\n",
    "    dftemp = dftemp.set_index(['Season', 'Age Bin', 'PfPR Bin'])\n",
    "\n",
    "    return dftemp"
   ]
  },
  {
   "cell_type": "code",
   "execution_count": 8,
   "metadata": {},
   "outputs": [
    {
     "name": "stderr",
     "output_type": "stream",
     "text": [
      "c:\\venv\\malaria-ug-icemr\\lib\\site-packages\\ipykernel_launcher.py:16: UserWarning: Pandas doesn't allow columns to be created via a new attribute name - see https://pandas.pydata.org/pandas-docs/stable/indexing.html#attribute-access\n",
      "  app.launch_new_instance()\n",
      "c:\\venv\\malaria-ug-icemr\\lib\\site-packages\\pandas\\core\\generic.py:4405: SettingWithCopyWarning: \n",
      "A value is trying to be set on a copy of a slice from a DataFrame.\n",
      "Try using .loc[row_indexer,col_indexer] = value instead\n",
      "\n",
      "See the caveats in the documentation: http://pandas.pydata.org/pandas-docs/stable/indexing.html#indexing-view-versus-copy\n",
      "  self[name] = value\n"
     ]
    },
    {
     "name": "stdout",
     "output_type": "stream",
     "text": [
      "                             Channel Season Age Bin  PfPR Bin  bin_pop  \\\n",
      "189  PfPR by Parasitemia and Age Bin     W2       8   2000000     47.0   \n",
      "\n",
      "     proportion  binomial error  \n",
      "189    0.255319        0.063603  \n",
      "Before logit, desired result is 0.255 [0.128, 0.383]: \n"
     ]
    }
   ],
   "source": [
    "ref_data_path = os.path.join('..','reference data','Garki_df.csv')\n",
    "df = pd.read_csv(ref_data_path)\n",
    "\n",
    "self = pd.DataFrame()\n",
    "self.metadata =  {\n",
    "        'density_bins': [0, 50, 200, 500, 2000000],  # (, 0] (0, 50] ... (50000, ]\n",
    "        'density_bin_edges':['0', '50', '200', '500'],\n",
    "        'age_bins': [0, 1, 4, 8, 18, 28, 43, 125],  # (, 5] (5, 15] (15, ],\n",
    "        'age_bin_labels':['<1', '1-4', '4-8', '8-18', '18-28', '28-43', '>43'],\n",
    "        'seasons': ['DC2', 'DH2', 'W2'],\n",
    "        'seasons_by_month': {\n",
    "            'Apr': 'DH2',\n",
    "            'June/Aug': 'W2',\n",
    "            'Dec/Jan': 'DC2'\n",
    "        },\n",
    "        'village': 'Matsari'\n",
    "    }\n",
    "\n",
    "df = df.loc[df['Village']==self.metadata['village']]\n",
    "pfprBinsDensity = self.metadata['density_bins']\n",
    "uL_per_field = 0.5 / 200.0  # from Garki PDF - page 111 - 0.5 uL per 200 views\n",
    "pfprBins = 1 - np.exp(-np.asarray(pfprBinsDensity) * uL_per_field)\n",
    "seasons = self.metadata['seasons']\n",
    "pfprdict = dict(zip(pfprBins, pfprBinsDensity))\n",
    "\n",
    "bins = OrderedDict([\n",
    "    ('Season', self.metadata['seasons']),\n",
    "    ('Age Bin', self.metadata['age_bins']),\n",
    "    ('PfPR Bin', pfprBins)\n",
    "])\n",
    "bin_tuples = list(itertools.product(*bins.values()))\n",
    "index = pd.MultiIndex.from_tuples(bin_tuples, names=bins.keys())\n",
    "\n",
    "df = df.loc[df['Seasons'].isin(seasons)]\n",
    "df = df.rename(columns={'Seasons': 'Season', 'Age': 'Age Bin'})\n",
    "\n",
    "df2 = grouped_df(df, pfprdict, index, 'Parasitemia', 'Gametocytemia')\n",
    "df3 = grouped_df(df, pfprdict, index, 'Gametocytemia', 'Parasitemia')\n",
    "dfJoined = df2.join(df3).fillna(0)\n",
    "dfJoined = pd.concat([dfJoined['Gametocytemia'], dfJoined['Parasitemia']])\n",
    "dfJoined.name = 'Counts'\n",
    "dftemp = dfJoined.reset_index()\n",
    "dftemp['Channel'] = 'PfPR by Gametocytemia and Age Bin'\n",
    "dftemp.loc[len(dftemp) / 2:, 'Channel'] = 'PfPR by Parasitemia and Age Bin'\n",
    "dftemp = dftemp.rename(columns={'Seasons': 'Season', 'PfPR Bins': 'PfPR Bin', 'Age Bins': 'Age Bin'})\n",
    "dftemp = dftemp.set_index(['Channel', 'Season', 'Age Bin', 'PfPR Bin'])\n",
    "\n",
    "# how to set the cwd\n",
    "ref_data =dftemp\n",
    "ref_data['bin_pop'] = ref_data.groupby(by=['Channel', 'Season', 'Age Bin'])['Counts'].sum()\n",
    "ref_data['proportion'] = ref_data['Counts'] / ref_data['bin_pop']\n",
    "ref_data.reset_index(inplace=True)\n",
    "ref_data = ref_data[ref_data['Channel'] == 'PfPR by Parasitemia and Age Bin']\n",
    "\n",
    "new_ref_df = pd.DataFrame()\n",
    "for i, grouping in ref_data.groupby(by=['Channel', 'Season', 'Age Bin']):\n",
    "    group_subset = pd.DataFrame()\n",
    "    \n",
    "    low = grouping[grouping['PfPR Bin'] == 50]\n",
    "    low.proportion += grouping[grouping['PfPR Bin'] == 0]['proportion'].values[0]\n",
    "        \n",
    "    middle = grouping[grouping['PfPR Bin'] == 500]\n",
    "    middle.proportion += grouping[grouping['PfPR Bin'] == 200]['proportion'].values[0]\n",
    "    \n",
    "    high = grouping[grouping['PfPR Bin'] == 2000000]\n",
    "    new_ref_df = pd.concat([new_ref_df,low,middle,high])\n",
    "new_ref_df.drop('Counts',axis = 1, inplace=True)    \n",
    "new_ref_df = new_ref_df[(new_ref_df.Season == season_cut) & (new_ref_df['Age Bin'] == age_bin_cut) & (new_ref_df['PfPR Bin'] == density_bin_cut)]\n",
    "new_ref_df['binomial error'] = np.sqrt((new_ref_df['proportion']*(1-new_ref_df['proportion']))/new_ref_df['bin_pop'])\n",
    "print(new_ref_df)\n",
    "mean = new_ref_df.proportion\n",
    "error = new_ref_df['binomial error']\n",
    "\n",
    "\n",
    "desired_result = mean.values[0]\n",
    "desired_result_std = error.values[0]\n",
    "\n",
    "print('Before logit, desired result is %.3f [%.3f, %.3f]: ' % (desired_result, desired_result-2*desired_result_std, desired_result+2*desired_result_std))\n"
   ]
  },
  {
   "cell_type": "code",
   "execution_count": 9,
   "metadata": {},
   "outputs": [
    {
     "data": {
      "image/png": "[encoded data removed]",
      "text/plain": [
       "<Figure size 432x432 with 1 Axes>"
      ]
     },
     "metadata": {
      "needs_background": "light"
     },
     "output_type": "display_data"
    }
   ],
   "source": [
    "z = pd.merge(samples, results, on='Sample_Id') # Return to Sample_Id\n",
    "\n",
    "#sub in variables here, can be list of tuples\n",
    "xyvars = [('Parasite_Density_Wave_Sigma',\t'Biological_Age_Immune_Coefficient_TM'\n",
    ")]\n",
    "for (xvar, yvar) in xyvars:\n",
    "    fig = plt.figure(figsize=(6,6))\n",
    "    plt.scatter(z[xvar], z[yvar], c=100*z['Sim_Result'], s=5*z['Sim_Result'], cmap='jet')\n",
    "    plt.xlabel(xvar); plt.ylabel(yvar)\n",
    "    plt.xlim([param_info.loc[xvar, 'Min'], param_info.loc[xvar, 'Max']])\n",
    "    plt.ylim([param_info.loc[yvar, 'Min'], param_info.loc[yvar, 'Max']])\n",
    "    # TODO: Show as surface and plot desired result as isocline\n",
    "plt.show()"
   ]
  },
  {
   "cell_type": "code",
   "execution_count": 10,
   "metadata": {},
   "outputs": [
    {
     "name": "stdout",
     "output_type": "stream",
     "text": [
      "<class 'pandas.core.frame.DataFrame'>\n",
      "Welcome to IDM History Matching!\n",
      "Found 200 unique parameter configurations, each of which is repeated 1 time(s).\n",
      "--> Training with 150 unique parameter configurations ( 150  simulations including replicates)\n",
      "--> Testing  with 50  unique parameter configurations ( 50 simulations including replicates)\n"
     ]
    }
   ],
   "source": [
    "# Finally we get to do some History Matching!\n",
    "# Begin by creating an instance of the HistoryMatching class\n",
    "print(type(results))\n",
    "ext = 'svg' # Filetype for figures produced by history matching\n",
    "hm = HistoryMatching(\n",
    "    cut_name = cut_name,\n",
    "    param_info = param_info,\n",
    "    inputs = samples,\n",
    "    results = results.squeeze(),\n",
    "    desired_result = desired_result,\n",
    "    desired_result_var = desired_result_std**2,\n",
    "    iteration = iteration,\n",
    "    implausibility_threshold = implausibility_threshold,\n",
    "    discrepancy_var = discrepancy_std**2,\n",
    "    training_fraction = training_fraction,\n",
    "    fig_type = ext\n",
    ")\n",
    "hm.save() # Save to disk"
   ]
  },
  {
   "cell_type": "code",
   "execution_count": 11,
   "metadata": {},
   "outputs": [
    {
     "name": "stdout",
     "output_type": "stream",
     "text": [
      "Regularize:  0  of  15\n",
      "Regularize:  1  of  15\n",
      "Regularize:  2  of  15\n",
      "Regularize:  3  of  15\n",
      "Regularize:  4  of  15\n",
      "Regularize:  5  of  15\n",
      "Regularize:  6  of  15\n",
      "Regularize:  7  of  15\n",
      "Regularize:  8  of  15\n",
      "Regularize:  9  of  15\n",
      "Regularize:  10  of  15\n",
      "Regularize:  11  of  15\n",
      "Regularize:  12  of  15\n",
      "Regularize:  13  of  15\n",
      "Regularize:  14  of  15\n"
     ]
    },
    {
     "data": {
      "image/png": "[encoded data removed]",
      "text/plain": [
       "<Figure size 432x288 with 2 Axes>"
      ]
     },
     "metadata": {},
     "output_type": "display_data"
    },
    {
     "name": "stdout",
     "output_type": "stream",
     "text": [
      "What would you like to use for the GLM regularization parameter, alpha_glm = 2e-3\n",
      "User selected alpha = 0.002000\n",
      "Non-Zero: 12 of 66\n",
      "Regularization for GLM selected:\n",
      "  * Intercept\n",
      " * Biological_Age_Immune_Coefficient_PPP\n",
      " * Cumulative_Exposure_Immune_Coefficient_PPP\n",
      " * Scale_Factor_Age_b\n",
      " * Parasite_Density_Wave_Sigma\n",
      " * Biological_Age_Immune_Coefficient_PPP ** 2\n",
      " * Cumulative_Exposure_Immune_Coefficient_PPP ** 2\n",
      " * Biological_Age_Immune_Coefficient_PPP * Parasite_Density_Wave_Sigma\n",
      " * Cumulative_Exposure_Immune_Coefficient_PPP * Cumulative_Exposure_Immune_Coefficient_TM\n",
      " * Cumulative_Exposure_Immune_Coefficient_PPP * Scale_Factor_Age_a\n",
      " * Cumulative_Exposure_Immune_Coefficient_PPP * Scale_Factor_Age_b\n",
      " * Scale_Factor_Age_a * Wave_Vs_Infection_Relative_Weight\n"
     ]
    },
    {
     "ename": "FileNotFoundError",
     "evalue": "[Errno 2] No such file or directory: 'Cuts\\\\2000000_8_W2_Matsari\\\\basis_glm.json'",
     "output_type": "error",
     "traceback": [
      "\u001b[0;31m---------------------------------------------------------------------------\u001b[0m",
      "\u001b[0;31mFileNotFoundError\u001b[0m                         Traceback (most recent call last)",
      "\u001b[0;32m<ipython-input-11-103f5e21267e>\u001b[0m in \u001b[0;36m<module>\u001b[0;34m()\u001b[0m\n\u001b[1;32m     26\u001b[0m     \u001b[0mfitted_values\u001b[0m \u001b[0;34m=\u001b[0m \u001b[0mbasis_glm\u001b[0m\u001b[0;34m.\u001b[0m\u001b[0mregularize\u001b[0m\u001b[0;34m(\u001b[0m\u001b[0msamples\u001b[0m\u001b[0;34m,\u001b[0m \u001b[0mresults\u001b[0m\u001b[0;34m,\u001b[0m \u001b[0malpha\u001b[0m \u001b[0;34m=\u001b[0m \u001b[0malpha_glm\u001b[0m\u001b[0;34m,\u001b[0m \u001b[0mscaleX\u001b[0m\u001b[0;34m=\u001b[0m\u001b[0;32mTrue\u001b[0m\u001b[0;34m)\u001b[0m\u001b[0;34m\u001b[0m\u001b[0m\n\u001b[1;32m     27\u001b[0m     \u001b[0mprint\u001b[0m\u001b[0;34m(\u001b[0m\u001b[0;34m'Regularization for GLM selected:\\n'\u001b[0m\u001b[0;34m,\u001b[0m \u001b[0;34m' *'\u001b[0m\u001b[0;34m,\u001b[0m\u001b[0;34m'\\n * '\u001b[0m\u001b[0;34m.\u001b[0m\u001b[0mjoin\u001b[0m\u001b[0;34m(\u001b[0m\u001b[0mbasis_glm\u001b[0m\u001b[0;34m.\u001b[0m\u001b[0mget_terms\u001b[0m\u001b[0;34m(\u001b[0m\u001b[0;34m)\u001b[0m\u001b[0;34m)\u001b[0m\u001b[0;34m)\u001b[0m\u001b[0;34m\u001b[0m\u001b[0m\n\u001b[0;32m---> 28\u001b[0;31m     \u001b[0;32mwith\u001b[0m \u001b[0mopen\u001b[0m\u001b[0;34m(\u001b[0m\u001b[0mos\u001b[0m\u001b[0;34m.\u001b[0m\u001b[0mpath\u001b[0m\u001b[0;34m.\u001b[0m\u001b[0mjoin\u001b[0m\u001b[0;34m(\u001b[0m\u001b[0;34m'Cuts'\u001b[0m\u001b[0;34m,\u001b[0m \u001b[0mcut_name\u001b[0m\u001b[0;34m,\u001b[0m \u001b[0;34m'basis_glm.json'\u001b[0m\u001b[0;34m)\u001b[0m\u001b[0;34m,\u001b[0m \u001b[0;34m'w'\u001b[0m\u001b[0;34m)\u001b[0m \u001b[0;32mas\u001b[0m \u001b[0mfout\u001b[0m\u001b[0;34m:\u001b[0m\u001b[0;34m\u001b[0m\u001b[0m\n\u001b[0m\u001b[1;32m     29\u001b[0m         json.dump( {\n\u001b[1;32m     30\u001b[0m             \u001b[0;34m'Basis'\u001b[0m\u001b[0;34m:\u001b[0m \u001b[0mbasis_glm\u001b[0m\u001b[0;34m.\u001b[0m\u001b[0mserialize\u001b[0m\u001b[0;34m(\u001b[0m\u001b[0;34m)\u001b[0m\u001b[0;34m,\u001b[0m\u001b[0;34m\u001b[0m\u001b[0m\n",
      "\u001b[0;31mFileNotFoundError\u001b[0m: [Errno 2] No such file or directory: 'Cuts\\\\2000000_8_W2_Matsari\\\\basis_glm.json'"
     ]
    }
   ],
   "source": [
    "try:\n",
    "    existing_basis = True\n",
    "    need_basis = True\n",
    "    with open(os.path.join('Cuts', cut_name, 'basis_glm.json')) as data_file:\n",
    "        config = json.load( data_file )\n",
    "        basis_glm = Basis.deserialize(config['Basis'])\n",
    "        fitted_values = pd.read_json(config['Fitted_Values'], orient='split').set_index(['Sample_Id', 'Sim_Id']).squeeze()\n",
    "except:\n",
    "    existing_basis = False\n",
    "    \n",
    "if existing_basis:\n",
    "    print('Found existing GLM basis with the following terms:')\n",
    "    display(basis_glm.model_terms)\n",
    "    reply = input('Would you like to use this basis? [Y]/n: ')\n",
    "    \n",
    "    if reply.lower() != 'n':\n",
    "        need_basis = False\n",
    "    \n",
    "if need_basis:\n",
    "    basis_glm = Basis.polynomial_basis(params=param_names, intercept = True, first_order=True, second_order=True, third_order=False, param_info=param_info)\n",
    "\n",
    "    basis_glm.plot_regularize(samples, results, alpha = np.logspace(-5, -2, 15), scaleX=True)\n",
    "    alpha_glm = float(input('What would you like to use for the GLM regularization parameter, alpha_glm = '))\n",
    "#     alpha_glm = 1e-1\n",
    "    \n",
    "    fitted_values = basis_glm.regularize(samples, results, alpha = alpha_glm, scaleX=True)\n",
    "    print('Regularization for GLM selected:\\n', ' *','\\n * '.join(basis_glm.get_terms()))\n",
    "    with open(os.path.join('Cuts', cut_name, 'basis_glm.json'), 'w') as fout:\n",
    "        json.dump( {\n",
    "            'Basis': basis_glm.serialize(),\n",
    "            'Fitted_Values': fitted_values.reset_index().to_json(orient='split')\n",
    "        }, fout, indent=4)"
   ]
  },
  {
   "cell_type": "code",
   "execution_count": null,
   "metadata": {},
   "outputs": [],
   "source": [
    "# Now fit the glm and plot\n",
    "\n",
    "### GLM ###############################################################\n",
    "print(\"=\"*80, \"\\nGeneralized Linear Modeling\\n\", \"=\"*80)\n",
    "#######################################################################\n",
    "f = hm.glm(\n",
    "    basis = basis_glm,\n",
    "    family = 'Poisson',\n",
    "    force_optimize_glm = True,\n",
    "    glm_fit_maxiter = 1000,\n",
    "    plot = True, #force_optimize_glm,\n",
    "    plot_data = True\n",
    ")"
   ]
  },
  {
   "cell_type": "code",
   "execution_count": null,
   "metadata": {},
   "outputs": [],
   "source": [
    "for file in glob.glob(fix_glob(os.path.join(hm.glmdir, \"PairwiseResults\", \"*.%s\"%ext))):\n",
    "    img = IFrame(file, width=800, height=600)\n",
    "    print(file)\n",
    "    display(img)"
   ]
  },
  {
   "cell_type": "code",
   "execution_count": null,
   "metadata": {},
   "outputs": [],
   "source": [
    "# Results get saved to disk, so load and display:\n",
    "for file in glob.glob(fix_glob(os.path.join(hm.glmdir, \"GLM Predicted vs Actual*.%s\"%ext))):\n",
    "    img = IFrame(file, width=800, height=600)\n",
    "    print(file)\n",
    "    display(img)"
   ]
  },
  {
   "cell_type": "code",
   "execution_count": null,
   "metadata": {},
   "outputs": [],
   "source": [
    "basis_gpr = Basis.polynomial_basis(\n",
    "    params =  ['Scale_Factor_Age_a', 'Scale_Factor_Age_b','Biological_Age_Immune_Coefficient_PPP',\n",
    "'Biological_Age_Immune_Coefficient_TM',\n",
    "'Cumulative_Exposure_Immune_Coefficient_PPP',\n",
    "'Cumulative_Exposure_Immune_Coefficient_TM'\n",
    "              ],\n",
    "#     params = param_info.index.values, #\n",
    "    intercept = False, \n",
    "    first_order = True, \n",
    "    param_info=param_info)"
   ]
  },
  {
   "cell_type": "code",
   "execution_count": null,
   "metadata": {},
   "outputs": [],
   "source": [
    "\n",
    "### GPR ###############################################################\n",
    "print(\"=\"*80, \"\\nGaussian Process Regression\\n\", \"=\"*80)\n",
    "#######################################################################\n",
    "hm.gpr(\n",
    "    basis = basis_gpr,\n",
    "    force_optimize_gpr = True,\n",
    "\n",
    "    sigma2_f_guess = 0.6,\n",
    "    sigma2_f_bounds = (0.1, 1000),\n",
    "    sigma2_n_guess =  2.0,\n",
    "    sigma2_n_bounds = (0.01, 100),\n",
    "\n",
    "    #lengthscale_guess = [0.09844299, 0.1256657, 0.0976875, 0.09889085, 0.1051974, 0.0950809, 0.10032171, 0.10599185, 0.10627393, 0.09950996, 0.09445544, 0.10285915, 0.10007409, 0.09847433, 0.08963389, 0.10205652, 0.09360044, 0.1024141, 0.09786228, 0.10247492, 0.09852253, 0.09632744, 0.09997534, 0.10767302, 0.10095249, 0.09941825, 0.10214923, 0.10221497, 0.09734157, 0.09093285, 0.10780673, 0.09881377, 0.10597152],\n",
    "    lengthscale_guess = 0.25,\n",
    "    lengthscale_bounds = (0.01, 100),\n",
    "\n",
    "    optimize_sigma2_n = True,\n",
    "    log_transform = False,\n",
    "\n",
    "    verbose = True,\n",
    "    optimizer_options = {\n",
    "        'eps': 5e-3,\n",
    "        'disp': True,\n",
    "        'maxiter': 15000,\n",
    "        'ftol': 2 * np.finfo(float).eps,\n",
    "        'gtol': 2 * np.finfo(float).eps,\n",
    "    },\n",
    "    plot = True, #force_optimize_gpr,\n",
    "    plot_data = False\n",
    ")"
   ]
  },
  {
   "cell_type": "code",
   "execution_count": null,
   "metadata": {},
   "outputs": [],
   "source": [
    "pi = param_info.loc[basis_gpr.param_dict.keys()].reset_index()\n",
    "pi['Lengthscale'] = hm.gpr_model.theta[2:]\n",
    "print(pi[['Name', 'Lengthscale']].sort_values('Lengthscale'))"
   ]
  },
  {
   "cell_type": "code",
   "execution_count": null,
   "metadata": {},
   "outputs": [],
   "source": [
    "# Results get saved to disk, so load and display:\n",
    "for file in glob.glob(fix_glob(os.path.join(hm.gprdir, \"PairwiseResults\", \"*.%s\"%ext))):\n",
    "    img = IFrame(file, width=800, height=600)\n",
    "    print(file)\n",
    "    display(img)"
   ]
  },
  {
   "cell_type": "code",
   "execution_count": null,
   "metadata": {},
   "outputs": [],
   "source": [
    "### Implausibility ############################################################\n",
    "print(\"=\"*80, \"\\nImplausibility\\n\", \"=\"*80)\n",
    "###############################################################################\n",
    "hm.calc_and_plot_implausibility(\n",
    "    plot = True,\n",
    "    do_plot_data = False,\n",
    "    plot_data_highlight = pd.DataFrame() #hm.test_data.loc['prime.000049']\n",
    ") \n",
    "    #plot_data_highlight=pd.DataFrame() # plot_data_highlight=hm.training_data.loc['prime.000049']\n",
    "\n",
    "hm.training_data.to_excel(os.path.join('Cuts', cut_name, 'train_data.xlsx'))\n",
    "hm.test_data.to_excel(os.path.join('Cuts', cut_name, 'test_data.xlsx'))\n",
    "\n",
    "print('Good')"
   ]
  },
  {
   "cell_type": "code",
   "execution_count": null,
   "metadata": {},
   "outputs": [],
   "source": [
    "# Results get saved to disk, so load and display:\n",
    "for file in glob.glob(fix_glob(os.path.join(hm.combineddir, \"*.%s\"%ext))):\n",
    "    img = IFrame(file, width=800, height=600)\n",
    "    print(file)\n",
    "    display(img)"
   ]
  },
  {
   "cell_type": "code",
   "execution_count": null,
   "metadata": {},
   "outputs": [],
   "source": [
    "ar = all_results.reset_index()\n",
    "\n",
    "data = ar.loc[ar['AgeBin']==age_bin[0]].groupby(['Sample_Id','AgeBin'])['Result'].mean().reset_index().set_index('Sample_Id')\n",
    "\n",
    "train = hm.training_data\n",
    "train['Train'] = True\n",
    "test = hm.test_data\n",
    "test['Train'] = False\n",
    "train_test = pd.concat([train, test])\n",
    "\n",
    "fig, ax = plt.subplots(figsize=(16,10))\n",
    "\n",
    "# Reference\n",
    "#ref_by_year = reference_data[['Prevalence']].reset_index()\n",
    "\n",
    "ref_by_year = ref_df.loc[ref_df['Age bin'] == int(age_bin[0][:2])] \\\n",
    "    .groupby('Age bin') \\\n",
    "    .mean() \\\n",
    "    .reset_index()\n",
    "print(ref_by_year)\n",
    "print(data)\n",
    "sns.lineplot(data=ref_by_year, x='Age bin', y='Mean', color='k', marker='o', alpha=1, lw=2, zorder=1);\n",
    "\n",
    "# Sims\n",
    "tmp = data.merge(train_test[['Sample_Orig', 'Implausible', 'Train']], left_on='Sample_Id', right_on='Sample_Orig')\n",
    "print(tmp.head())\n",
    "sns.lineplot(data=tmp, x='AgeBin', y='Result', hue='Implausible', style='Train', \n",
    "             units='Sample_Orig', estimator=None, alpha=0.5, lw=0.5,\n",
    "             ax=ax, zorder=-1)\n",
    "ax.set_xlabel('AgeBin');\n",
    "ax.set_ylabel('Duration');\n",
    "ax.set_xticks(ref_by_year['Age bin'].unique());"
   ]
  },
  {
   "cell_type": "code",
   "execution_count": null,
   "metadata": {},
   "outputs": [],
   "source": []
  }
 ],
 "metadata": {
  "kernelspec": {
   "display_name": "Python 3",
   "language": "python",
   "name": "python3"
  },
  "language_info": {
   "codemirror_mode": {
    "name": "ipython",
    "version": 3
   },
   "file_extension": ".py",
   "mimetype": "text/x-python",
   "name": "python",
   "nbconvert_exporter": "python",
   "pygments_lexer": "ipython3",
   "version": "3.6.6"
  }
 },
 "nbformat": 4,
 "nbformat_minor": 2
}
