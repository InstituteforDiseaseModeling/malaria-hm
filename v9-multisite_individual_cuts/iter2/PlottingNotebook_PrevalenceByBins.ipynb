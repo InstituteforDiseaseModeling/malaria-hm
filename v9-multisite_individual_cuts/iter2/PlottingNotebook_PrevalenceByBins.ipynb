{
 "cells": [
  {
   "cell_type": "markdown",
   "metadata": {},
   "source": [
    "## Plotting Notebook\n",
    "#### for visalizing binned prevalence of malaria from hm sims and cuts"
   ]
  },
  {
   "cell_type": "markdown",
   "metadata": {},
   "source": [
    "## Import Block"
   ]
  },
  {
   "cell_type": "code",
   "execution_count": 1,
   "metadata": {},
   "outputs": [],
   "source": [
    "import itertools\n",
    "import os, re\n",
    "import sqlite3\n",
    "from collections import OrderedDict\n",
    "\n",
    "import pandas as pd\n",
    "import numpy as np\n",
    "import seaborn as sns\n",
    "\n",
    "import matplotlib.pyplot as plt\n",
    "from scipy.special import gammaln\n",
    "\n",
    "from collections import OrderedDict\n",
    "import itertools\n",
    "from calibtool.analyzers.Helpers import \\\n",
    "    convert_to_counts, age_from_birth_cohort, season_from_time, aggregate_on_index"
   ]
  },
  {
   "cell_type": "markdown",
   "metadata": {},
   "source": [
    "## Specify experiment to analyze"
   ]
  },
  {
   "cell_type": "code",
   "execution_count": 2,
   "metadata": {},
   "outputs": [],
   "source": [
    "exp_id = '98af4394-c143-ea11-a2c3-c4346bcb1551'"
   ]
  },
  {
   "cell_type": "markdown",
   "metadata": {},
   "source": [
    "## Load in experiment analyzer_results"
   ]
  },
  {
   "cell_type": "code",
   "execution_count": 3,
   "metadata": {},
   "outputs": [
    {
     "name": "stdout",
     "output_type": "stream",
     "text": [
      "[     50     500 2000000]\n",
      "   Unnamed: 0  sample                                sim_id Season  Age Bin  \\\n",
      "0           0      14  070c449a-c143-ea11-a2c3-c4346bcb1551    DC2        1   \n",
      "1           0      14  070c449a-c143-ea11-a2c3-c4346bcb1551    DC2        4   \n",
      "2           0      14  070c449a-c143-ea11-a2c3-c4346bcb1551    DC2        8   \n",
      "3           0      14  070c449a-c143-ea11-a2c3-c4346bcb1551    DC2       18   \n",
      "4           0      14  070c449a-c143-ea11-a2c3-c4346bcb1551    DC2       28   \n",
      "\n",
      "   PfPR Bin  sim_proportion  log10 PfPR Bin  \n",
      "0        50        0.675000         1.69897  \n",
      "1        50        0.027190         1.69897  \n",
      "2        50        0.171472         1.69897  \n",
      "3        50        0.450505         1.69897  \n",
      "4        50        0.544444         1.69897  \n"
     ]
    }
   ],
   "source": [
    "results_df = pd.read_csv(os.path.join(exp_id,'full_analyzer_results.csv'))\n",
    "results_df.rename(columns ={'age_bin':'Age Bin','density_bin': 'PfPR Bin','season':'Season','value':'sim_proportion'},inplace=True)\n",
    "results_df['log10 PfPR Bin'] = np.log10(results_df['PfPR Bin'])\n",
    "\n",
    "print(results_df['PfPR Bin'].unique())\n",
    "\n",
    "print(results_df.head())"
   ]
  },
  {
   "cell_type": "markdown",
   "metadata": {},
   "source": [
    "## Read reference data"
   ]
  },
  {
   "cell_type": "code",
   "execution_count": 4,
   "metadata": {},
   "outputs": [],
   "source": [
    "def grouped_df(df, pfprdict, index, column_keep, column_del):\n",
    "    \"\"\"\n",
    "    Recut dataframe to recategorize data into desired age and parasitemia bins\n",
    "\n",
    "    Args:\n",
    "        df: Dataframe to be rebinned\n",
    "        pfprdict: Dictionary mapping postive counts per slide view (http://garkiproject.nd.edu/demographic-parasitological-surveys.html)\n",
    "                to density of parasites/gametocytes per uL\n",
    "        index: Multi index into which 'df' is rebinned\n",
    "        column_keep: Column (e.g. parasitemia) to keep\n",
    "        column_del: Column (e.g. gametocytemia) to delete\n",
    "    \"\"\"\n",
    "    dftemp = df.copy()\n",
    "    del dftemp[column_del]\n",
    "\n",
    "    dftemp['PfPR Bin'] = df[column_keep]\n",
    "    dftemp = aggregate_on_index(dftemp, index)\n",
    "\n",
    "    dfGrouped = dftemp.groupby(['Season', 'Age Bin', 'PfPR Bin'])\n",
    "\n",
    "    dftemp = dfGrouped[column_keep].count()\n",
    "    dftemp = dftemp.unstack().fillna(0).stack()\n",
    "    dftemp = dftemp.rename(column_keep).reset_index()\n",
    "    dftemp['PfPR Bin'] = [pfprdict[p] for p in dftemp['PfPR Bin']]\n",
    "\n",
    "    dftemp = dftemp.set_index(['Season', 'Age Bin', 'PfPR Bin'])\n",
    "\n",
    "    return dftemp"
   ]
  },
  {
   "cell_type": "code",
   "execution_count": 5,
   "metadata": {},
   "outputs": [
    {
     "name": "stderr",
     "output_type": "stream",
     "text": [
      "c:\\venv\\malaria-ug-icemr\\lib\\site-packages\\ipykernel_launcher.py:14: UserWarning: Pandas doesn't allow columns to be created via a new attribute name - see https://pandas.pydata.org/pandas-docs/stable/indexing.html#attribute-access\n",
      "  \n",
      "c:\\venv\\malaria-ug-icemr\\lib\\site-packages\\pandas\\core\\generic.py:4405: SettingWithCopyWarning: \n",
      "A value is trying to be set on a copy of a slice from a DataFrame.\n",
      "Try using .loc[row_indexer,col_indexer] = value instead\n",
      "\n",
      "See the caveats in the documentation: http://pandas.pydata.org/pandas-docs/stable/indexing.html#indexing-view-versus-copy\n",
      "  self[name] = value\n"
     ]
    },
    {
     "name": "stdout",
     "output_type": "stream",
     "text": [
      "                             Channel Season Age Bin  PfPR Bin  bin_pop  \\\n",
      "106  PfPR by Parasitemia and Age Bin    DC2       1        50     25.0   \n",
      "108  PfPR by Parasitemia and Age Bin    DC2       1       500     25.0   \n",
      "109  PfPR by Parasitemia and Age Bin    DC2       1   2000000     25.0   \n",
      "111  PfPR by Parasitemia and Age Bin    DC2       4        50     44.0   \n",
      "113  PfPR by Parasitemia and Age Bin    DC2       4       500     44.0   \n",
      "114  PfPR by Parasitemia and Age Bin    DC2       4   2000000     44.0   \n",
      "116  PfPR by Parasitemia and Age Bin    DC2       8        50     70.0   \n",
      "118  PfPR by Parasitemia and Age Bin    DC2       8       500     70.0   \n",
      "119  PfPR by Parasitemia and Age Bin    DC2       8   2000000     70.0   \n",
      "121  PfPR by Parasitemia and Age Bin    DC2      18        50     64.0   \n",
      "123  PfPR by Parasitemia and Age Bin    DC2      18       500     64.0   \n",
      "124  PfPR by Parasitemia and Age Bin    DC2      18   2000000     64.0   \n",
      "126  PfPR by Parasitemia and Age Bin    DC2      28        50    115.0   \n",
      "128  PfPR by Parasitemia and Age Bin    DC2      28       500    115.0   \n",
      "129  PfPR by Parasitemia and Age Bin    DC2      28   2000000    115.0   \n",
      "131  PfPR by Parasitemia and Age Bin    DC2      43        50    180.0   \n",
      "\n",
      "     proportion  log10 PfPR Bin  \n",
      "106    0.240000         1.69897  \n",
      "108    0.360000         2.69897  \n",
      "109    0.400000         6.30103  \n",
      "111    0.113636         1.69897  \n",
      "113    0.431818         2.69897  \n",
      "114    0.454545         6.30103  \n",
      "116    0.285714         1.69897  \n",
      "118    0.514286         2.69897  \n",
      "119    0.200000         6.30103  \n",
      "121    0.625000         1.69897  \n",
      "123    0.281250         2.69897  \n",
      "124    0.093750         6.30103  \n",
      "126    0.817391         1.69897  \n",
      "128    0.156522         2.69897  \n",
      "129    0.026087         6.30103  \n",
      "131    0.877778         1.69897  \n"
     ]
    }
   ],
   "source": [
    "df = pd.read_csv(os.path.join('..','reference data','Garki_df.csv'))\n",
    "self = pd.DataFrame()\n",
    "self.metadata =  {\n",
    "        'density_bins': [0, 50, 200, 500, 2000000],  # (, 0] (0, 50] ... (50000, ]\n",
    "        'density_bin_edges':['0', '50', '200', '500'],\n",
    "        'age_bins': [1, 4, 8, 18, 28, 43, 125],  # (, 5] (5, 15] (15, ],\n",
    "        'age_bin_labels':['<1', '1-4', '4-8', '8-18', '18-28', '28-43', '>43'],\n",
    "        'seasons': ['DC2', 'DH2', 'W2'],\n",
    "        'seasons_by_month': {\n",
    "            'Apr': 'DH2',\n",
    "            'June/Aug': 'W2',\n",
    "            'Dec/Jan': 'DC2'\n",
    "        },\n",
    "        'village': 'Matsari'\n",
    "    }\n",
    "\n",
    "df = df.loc[df['Village']==self.metadata['village']]\n",
    "pfprBinsDensity = self.metadata['density_bins']\n",
    "uL_per_field = 0.5 / 200.0  # from Garki PDF - page 111 - 0.5 uL per 200 views\n",
    "pfprBins = 1 - np.exp(-np.asarray(pfprBinsDensity) * uL_per_field)\n",
    "seasons = self.metadata['seasons']\n",
    "pfprdict = dict(zip(pfprBins, pfprBinsDensity))\n",
    "\n",
    "bins = OrderedDict([\n",
    "    ('Season', self.metadata['seasons']),\n",
    "    ('Age Bin', self.metadata['age_bins']),\n",
    "    ('PfPR Bin', pfprBins)\n",
    "])\n",
    "bin_tuples = list(itertools.product(*bins.values()))\n",
    "index = pd.MultiIndex.from_tuples(bin_tuples, names=bins.keys())\n",
    "\n",
    "df = df.loc[df['Seasons'].isin(seasons)]\n",
    "df = df.rename(columns={'Seasons': 'Season', 'Age': 'Age Bin'})\n",
    "\n",
    "df2 = grouped_df(df, pfprdict, index, 'Parasitemia', 'Gametocytemia')\n",
    "df3 = grouped_df(df, pfprdict, index, 'Gametocytemia', 'Parasitemia')\n",
    "dfJoined = df2.join(df3).fillna(0)\n",
    "dfJoined = pd.concat([dfJoined['Gametocytemia'], dfJoined['Parasitemia']])\n",
    "dfJoined.name = 'Counts'\n",
    "dftemp = dfJoined.reset_index()\n",
    "dftemp['Channel'] = 'PfPR by Gametocytemia and Age Bin'\n",
    "dftemp.loc[len(dftemp) / 2:, 'Channel'] = 'PfPR by Parasitemia and Age Bin'\n",
    "dftemp = dftemp.rename(columns={'Seasons': 'Season', 'PfPR Bins': 'PfPR Bin', 'Age Bins': 'Age Bin'})\n",
    "dftemp = dftemp.set_index(['Channel', 'Season', 'Age Bin', 'PfPR Bin'])\n",
    "\n",
    "ref_data =dftemp.copy(deep = True)\n",
    "\n",
    "\n",
    "ref_data['bin_pop'] = ref_data.groupby(by=['Channel', 'Season', 'Age Bin'])['Counts'].sum()\n",
    "ref_data['proportion'] = ref_data['Counts'] / ref_data['bin_pop']\n",
    "ref_data.reset_index(inplace=True)\n",
    "ref_data = ref_data[ref_data['Channel'] == 'PfPR by Parasitemia and Age Bin']\n",
    "new_ref_df = pd.DataFrame()\n",
    "new_ref_df = pd.DataFrame()\n",
    "for i, grouping in ref_data.groupby(by=['Channel', 'Season', 'Age Bin']):\n",
    "    group_subset = pd.DataFrame()\n",
    "    \n",
    "    low = grouping[grouping['PfPR Bin'] == 50]\n",
    "    low.proportion += grouping[grouping['PfPR Bin'] == 0]['proportion'].values[0]\n",
    "    \n",
    "    middle = grouping[grouping['PfPR Bin'] == 500]\n",
    "    middle.proportion += grouping[grouping['PfPR Bin'] == 200]['proportion'].values[0]\n",
    "    \n",
    "    high = grouping[grouping['PfPR Bin'] == 2000000]\n",
    "    new_ref_df = pd.concat([new_ref_df,low,middle,high])\n",
    "new_ref_df.drop('Counts',axis = 1, inplace=True)   \n",
    "new_ref_df['log10 PfPR Bin'] = np.log10(new_ref_df['PfPR Bin'])\n",
    "print(new_ref_df.head(16))\n",
    "# new_ref_df.to_csv('C:/git/Malaria-Uganda-PRISM/v8-multisite/reference data/test_ref_df.csv')"
   ]
  },
  {
   "cell_type": "markdown",
   "metadata": {},
   "source": [
    "## Compare sim and ref df"
   ]
  },
  {
   "cell_type": "code",
   "execution_count": 51,
   "metadata": {},
   "outputs": [
    {
     "name": "stdout",
     "output_type": "stream",
     "text": [
      "                           Channel Season  Age Bin  PfPR Bin  bin_pop  \\\n",
      "0  PfPR by Parasitemia and Age Bin    DC2        1        50     25.0   \n",
      "1  PfPR by Parasitemia and Age Bin    DC2        1        50     25.0   \n",
      "2  PfPR by Parasitemia and Age Bin    DC2        1        50     25.0   \n",
      "3  PfPR by Parasitemia and Age Bin    DC2        1        50     25.0   \n",
      "4  PfPR by Parasitemia and Age Bin    DC2        1        50     25.0   \n",
      "\n",
      "   proportion  log10 PfPR Bin  binomial error  Unnamed: 0  sample  \\\n",
      "0        0.24         1.69897        0.085417           0      14   \n",
      "1        0.24         1.69897        0.085417           0       2   \n",
      "2        0.24         1.69897        0.085417           0      59   \n",
      "3        0.24         1.69897        0.085417           0       6   \n",
      "4        0.24         1.69897        0.085417           0      19   \n",
      "\n",
      "                                 sim_id  sim_proportion  \n",
      "0  070c449a-c143-ea11-a2c3-c4346bcb1551        0.675000  \n",
      "1  fb0b449a-c143-ea11-a2c3-c4346bcb1551        0.361991  \n",
      "2  300c449a-c143-ea11-a2c3-c4346bcb1551        0.630208  \n",
      "3  ff0b449a-c143-ea11-a2c3-c4346bcb1551        0.624490  \n",
      "4  0c0c449a-c143-ea11-a2c3-c4346bcb1551        0.450000  \n"
     ]
    }
   ],
   "source": [
    "# print(results_df.head())\n",
    "# print(ref_df.head())\n",
    "new_ref_df['Age Bin'] = new_ref_df['Age Bin'].astype(int)\n",
    "new_ref_df['binomial error'] = np.sqrt((new_ref_df['proportion']*(1-new_ref_df['proportion']))/new_ref_df['bin_pop'])\n",
    "\n",
    "merged_df = new_ref_df.merge(results_df)\n",
    "\n",
    "cut_seasons = ['W2','DC2','DH2']\n",
    "cut_ages = [1, 4, 8, 18, 28, 43, 125]\n",
    "cut_pfprs = [50,500,2000000]\n",
    "cut_lists = [cut_seasons, cut_ages, cut_pfprs]\n",
    "\n",
    "print(merged_df.head())"
   ]
  },
  {
   "cell_type": "markdown",
   "metadata": {},
   "source": [
    "### Plot sim results against data by best result per age bin\n"
   ]
  },
  {
   "cell_type": "code",
   "execution_count": 84,
   "metadata": {},
   "outputs": [
    {
     "name": "stdout",
     "output_type": "stream",
     "text": [
      "                                 sim_id  age\n",
      "1  84d83ea0-c143-ea11-a2c3-c4346bcb1551    1\n",
      "1  58d83ea0-c143-ea11-a2c3-c4346bcb1551    4\n",
      "1  1c0c449a-c143-ea11-a2c3-c4346bcb1551    8\n",
      "1  72d83ea0-c143-ea11-a2c3-c4346bcb1551   18\n",
      "1  acd83ea0-c143-ea11-a2c3-c4346bcb1551   28\n",
      "1  6bd83ea0-c143-ea11-a2c3-c4346bcb1551   43\n",
      "1  250c449a-c143-ea11-a2c3-c4346bcb1551  125\n"
     ]
    },
    {
     "data": {
      "text/plain": [
       "<Figure size 432x288 with 0 Axes>"
      ]
     },
     "metadata": {},
     "output_type": "display_data"
    }
   ],
   "source": [
    "# for (cut_season,cut_age) in itertools.product(*cut_lists[0:2]):\n",
    "#     season = cut_season\n",
    "#     wetset = restricted_df[restricted_df.Season == season]\n",
    "#     wet_ref =  new_ref_df[new_ref_df.Season == season]\n",
    "#     sim_norms = pd.DataFrame()\n",
    "\n",
    "#calculate the norm across all density bins and seasons for each age bin for each sim\n",
    "\n",
    "for ((simid, age),df) in merged_df.groupby(by = ['sim_id','Age Bin']):\n",
    "    norm = np.linalg.norm(np.array(df.proportion - df.sim_proportion))\n",
    "    value = pd.DataFrame({'sim_id': simid,'age':age,'norm':norm},index = [0])\n",
    "    sim_norms = pd.concat([sim_norms, value])\n",
    "\n",
    "#identify the min norm value for each age bin\n",
    "best_sims_by_age_bin = pd.DataFrame() \n",
    "for age,norms in sim_norms.groupby(by= ['age']):\n",
    "    min_norm_sim = norms[norms['norm'] ==norms['norm'].min()]['sim_id'].unique()[0]\n",
    "    tmp = pd.DataFrame({'sim_id': min_norm_sim,'age':age},index = [1])\n",
    "    best_sims_by_age_bin = pd.concat([best_sims_by_age_bin,tmp])\n",
    "    \n",
    "print(best_sims_by_age_bin)\n",
    "\n",
    "#plot the full sim results for the sim_ids selected for each age bin\n",
    "for agebin in cut_ages:\n",
    "    best_sim_id = best_sims_by_age_bin[best_sims_by_age_bin.age == agebin]['sim_id']\n",
    "    restricted_df = merged_df[merged_df['sim_id'].isin(list(best_sim_id))]\n",
    "    season = 'W2'\n",
    "    wetset = restricted_df[restricted_df.Season == season]\n",
    "    wet_ref =  new_ref_df[new_ref_df.Season == season]\n",
    "#     print(restricted_df)\n",
    "    plt.clf()\n",
    "    fig, ax = plt.subplots(nrows = len(self.metadata['age_bins']),ncols = 1,figsize = (5,20))\n",
    "\n",
    "    for i, group in wetset.groupby(by = ['sim_id','Age Bin']):\n",
    "        age = i[1]\n",
    "        age_bin_index, = np.where(self.metadata['age_bins'] == age)[0]\n",
    "        ax[age_bin_index].plot(group['log10 PfPR Bin'],group['sim_proportion'],color = 'b', alpha = 1,linewidth = 2)\n",
    "\n",
    "    for j, ref_group in wet_ref.groupby(by = ['Channel','Age Bin']):\n",
    "        age = j[1]\n",
    "        age_bin_index, = np.where(self.metadata['age_bins'] == age)[0]\n",
    "        ax[age_bin_index].errorbar(ref_group['log10 PfPR Bin'],ref_group['proportion'],yerr =ref_group['binomial error'] ,fmt='o', capsize = 5,color = 'r', alpha = 1)\n",
    "\n",
    "    village = self.metadata['village']\n",
    "    fig_output_path = rf'C:\\Users\\jorussell.INTERNAL\\Dropbox (IDM)\\Malaria Team Folder\\projects\\updated_infection_and_immunity\\malaria-two-pt-oh\\figures\\Garki_hm_cuts_comparison\\cut_by_age_bin\\{village}\\{exp_id}'\n",
    "    os.makedirs(fig_output_path, exist_ok = True)\n",
    "    plt.savefig(os.path.join(fig_output_path,f'cut_by_{agebin}.png'))\n",
    "    plt.savefig(os.path.join(fig_output_path,f'cut_by_{agebin}.eps'))\n",
    "    plt.close()"
   ]
  },
  {
   "cell_type": "code",
   "execution_count": null,
   "metadata": {},
   "outputs": [],
   "source": [
    "    best_sim_id = merged_df\n",
    "    acceptable_sim_ids = merged_df[(merged_df.Season == cut_season)&\n",
    "                                 (merged_df['Age Bin'] == cut_age)&\n",
    "                                 (merged_df['PfPR Bin'] == cut_pfpr)&\n",
    "                                (merged_df.sim_proportion<=(merged_df.proportion+merged_df['binomial error']))&\n",
    "                                (merged_df.sim_proportion>=(merged_df.proportion-merged_df['binomial error']))].sim_id\n",
    "    restricted_df = merged_df[merged_df['sim_id'].isin(list(acceptable_sim_ids))]\n",
    "\n",
    "    plt.clf()\n",
    "    fig, ax = plt.subplots(nrows = len(self.metadata['age_bins']),ncols = 1,figsize = (5,20))\n",
    "\n",
    "    for i, group in wetset.groupby(by = ['sim_id','Age Bin']):\n",
    "        age = i[1]\n",
    "        age_bin_index, = np.where(self.metadata['age_bins'] == age)[0]\n",
    "        ax[age_bin_index].plot(group['log10 PfPR Bin'],group['sim_proportion'],color = 'b', alpha = 0.1)\n",
    "\n",
    "    for j, ref_group in wet_ref.groupby(by = ['Channel','Age Bin']):\n",
    "        age = j[1]\n",
    "        age_bin_index, = np.where(self.metadata['age_bins'] == age)[0]\n",
    "        ax[age_bin_index].errorbar(ref_group['log10 PfPR Bin'],ref_group['proportion'],yerr =ref_group['binomial error'] ,fmt='o', capsize = 5,color = 'r', alpha = 1)\n",
    "\n",
    "    #     ax_index, = np.where(self.metadata['age_bins'] == j)[0]\n",
    "\n",
    "    #     print(ax_index)\n",
    "    village = self.metadata['village']\n",
    "    fig_output_path = rf'C:\\Users\\jorussell.INTERNAL\\Dropbox (IDM)\\Malaria Team Folder\\projects\\updated_infection_and_immunity\\malaria-two-pt-oh\\figures\\Garki_hm_cuts_comparison\\{village}\\{exp_id}'\n",
    "    os.makedirs(fig_output_path, exist_ok = True)\n",
    "    plt.savefig(os.path.join(fig_output_path,f'cut_by_{cut_season}_{cut_age}_{cut_pfpr}.png'))\n",
    "    plt.savefig(os.path.join(fig_output_path,f'cut_by_{cut_season}_{cut_age}_{cut_pfpr}.eps'))\n",
    "    plt.close()"
   ]
  },
  {
   "cell_type": "markdown",
   "metadata": {},
   "source": [
    "### Plot sim results against data by best result per density bin\n"
   ]
  },
  {
   "cell_type": "code",
   "execution_count": null,
   "metadata": {},
   "outputs": [],
   "source": []
  },
  {
   "cell_type": "markdown",
   "metadata": {},
   "source": [
    "### Plot sim results against data by each cut"
   ]
  },
  {
   "cell_type": "code",
   "execution_count": 52,
   "metadata": {},
   "outputs": [],
   "source": [
    "for (cut_season,cut_age,cut_pfpr) in itertools.product(*cut_lists):\n",
    "   \n",
    "\n",
    "\n",
    "    acceptable_sim_ids = merged_df[(merged_df.Season == cut_season)&\n",
    "                                 (merged_df['Age Bin'] == cut_age)&\n",
    "                                 (merged_df['PfPR Bin'] == cut_pfpr)&\n",
    "                                (merged_df.sim_proportion<=(merged_df.proportion+merged_df['binomial error']))&\n",
    "                                (merged_df.sim_proportion>=(merged_df.proportion-merged_df['binomial error']))].sim_id\n",
    "    restricted_df = merged_df[merged_df['sim_id'].isin(list(acceptable_sim_ids))]\n",
    "    season = cut_season\n",
    "    wetset = restricted_df[restricted_df.Season == season]\n",
    "    wet_ref =  new_ref_df[new_ref_df.Season == season]\n",
    "    fig, ax = plt.subplots(nrows = len(self.metadata['age_bins']),ncols = 1,figsize = (5,20))\n",
    "\n",
    "    for i, group in wetset.groupby(by = ['sim_id','Age Bin']):\n",
    "        age = i[1]\n",
    "        age_bin_index, = np.where(self.metadata['age_bins'] == age)[0]\n",
    "        ax[age_bin_index].plot(group['log10 PfPR Bin'],group['sim_proportion'],color = 'b', alpha = 0.1)\n",
    "\n",
    "    for j, ref_group in wet_ref.groupby(by = ['Channel','Age Bin']):\n",
    "        age = j[1]\n",
    "        age_bin_index, = np.where(self.metadata['age_bins'] == age)[0]\n",
    "        ax[age_bin_index].errorbar(ref_group['log10 PfPR Bin'],ref_group['proportion'],yerr =ref_group['binomial error'] ,fmt='o', capsize = 5,color = 'r', alpha = 1)\n",
    "\n",
    "    #     ax_index, = np.where(self.metadata['age_bins'] == j)[0]\n",
    "\n",
    "    #     print(ax_index)\n",
    "    village = self.metadata['village']\n",
    "    fig_output_path = rf'C:\\Users\\jorussell.INTERNAL\\Dropbox (IDM)\\Malaria Team Folder\\projects\\updated_infection_and_immunity\\malaria-two-pt-oh\\figures\\Garki_hm_cuts_comparison\\{village}\\{exp_id}'\n",
    "    os.makedirs(fig_output_path, exist_ok = True)\n",
    "    plt.savefig(os.path.join(fig_output_path,f'cut_by_{cut_season}_{cut_age}_{cut_pfpr}.png'))\n",
    "    plt.savefig(os.path.join(fig_output_path,f'cut_by_{cut_season}_{cut_age}_{cut_pfpr}.eps'))\n",
    "    plt.close()"
   ]
  },
  {
   "cell_type": "markdown",
   "metadata": {},
   "source": [
    "## Plot"
   ]
  },
  {
   "cell_type": "code",
   "execution_count": 9,
   "metadata": {
    "scrolled": false
   },
   "outputs": [],
   "source": [
    "# g = sns.FacetGrid(merged_df, col='Season', row='Age Bin')\n",
    "# g = g.map(plt.plot, \"log10 PfPR Bin\", \"proportion\", color='r')\n",
    "# g = g.map(plt.scatter, \"log10 PfPR Bin\", \"sim_proportion\", alpha = 0.02, color='b')\n",
    "# fig_output_path = rf'C:\\Users\\jorussell.INTERNAL\\Dropbox (IDM)\\Malaria Team Folder\\projects\\updated_infection_and_immunity\\malaria-two-pt-oh\\figures\\ASTMH_2019\\Garki_age_calibration\\{self.metadata.village}\\{exp_id}'\n",
    "# os.makedirs(fig_output_path, exist_ok = True)\n",
    "# plt.savefig(os.path.join(fig_output_path,'pfpr_by_season_age_denisty_bin.png'))\n",
    "# plt.savefig(os.path.join(fig_output_path,'pfpr_by_season_age_denisty_bin.eps'))"
   ]
  },
  {
   "cell_type": "code",
   "execution_count": null,
   "metadata": {},
   "outputs": [],
   "source": []
  }
 ],
 "metadata": {
  "kernelspec": {
   "display_name": "Python 3",
   "language": "python",
   "name": "python3"
  },
  "language_info": {
   "codemirror_mode": {
    "name": "ipython",
    "version": 3
   },
   "file_extension": ".py",
   "mimetype": "text/x-python",
   "name": "python",
   "nbconvert_exporter": "python",
   "pygments_lexer": "ipython3",
   "version": "3.6.6"
  }
 },
 "nbformat": 4,
 "nbformat_minor": 2
}
