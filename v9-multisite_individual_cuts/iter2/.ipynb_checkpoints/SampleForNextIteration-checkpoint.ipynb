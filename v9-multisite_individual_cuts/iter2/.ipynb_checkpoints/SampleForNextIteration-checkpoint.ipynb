{
 "cells": [
  {
   "cell_type": "code",
   "execution_count": 1,
   "metadata": {},
   "outputs": [
    {
     "name": "stdout",
     "output_type": "stream",
     "text": [
      "Looks like you don't have CUDA, that's okay, we'll try using CPU but it will be SLOW!\n",
      "Looks like you don't have CUDA, that's okay, we'll try using CPU but it will be SLOW!\n"
     ]
    }
   ],
   "source": [
    "# First load some libraries, including History Matching\n",
    "%load_ext autoreload\n",
    "%autoreload 2\n",
    "import re, os\n",
    "from history_matching import HistoryMatching, HistoryMatchingCut, quick_read, Basis\n",
    "import matplotlib.pyplot as plt\n",
    "import seaborn as sns\n",
    "import pandas as pd\n",
    "\n",
    "sns.set(font_scale=3)\n",
    "sns.set_style(\"white\")"
   ]
  },
  {
   "cell_type": "markdown",
   "metadata": {},
   "source": [
    "## Select samples for the next iteration\n",
    "Now that the emulators are fit, it's time to select samples for the next iteration.\n",
    "Here we use a class called HistoryMatchingCut.  It's job is to conduct rejection sampling in order to find n_samples_per_iteration new samples that are not implausible with respect to the emulation on this wave or any previous wave.  Resulting samples are saved to disk, so we'll load them in just to make a plot."
   ]
  },
  {
   "cell_type": "code",
   "execution_count": 2,
   "metadata": {},
   "outputs": [
    {
     "name": "stdout",
     "output_type": "stream",
     "text": [
      "Reading Params from ..\\Params_bbe09b53b075d0c7ce0bb97263972a47.hd5\n"
     ]
    }
   ],
   "source": [
    "iteration = int(re.search(r'iter(\\d+)', os.getcwd()).group(1)) # Index of the current iteration\n",
    "n_samples_to_generate_for_next_iter = 1000 # Number of simulations to conduct on this iteration\n",
    "params_file = os.path.join('..', 'Params.xlsx')\n",
    "param_info = quick_read(params_file, 'Params').set_index('Name')"
   ]
  },
  {
   "cell_type": "code",
   "execution_count": 3,
   "metadata": {},
   "outputs": [
    {
     "name": "stdout",
     "output_type": "stream",
     "text": [
      "================================================================================ \n",
      "Cut\n",
      " ================================================================================\n",
      "Reading iteration 0 . cut Density_by_age_and_season\n",
      "Welcome to IDM History Matching!\n",
      "Found 128 unique parameter configurations, each of which is repeated 1 time(s).\n",
      "--> Training with 96 unique parameter configurations ( 96  simulations including replicates)\n",
      "--> Testing  with 32  unique parameter configurations ( 32 simulations including replicates)\n",
      "\t Desired Result: 0.5702024269831375\n",
      "\t Desired Result Var: 0\n",
      "\t Discrepancy Var: 0\n",
      "\t Imp Thresh: 3\n",
      "Using Poisson family\n",
      "                 Generalized Linear Model Regression Results                  \n",
      "==============================================================================\n",
      "Dep. Variable:             Sim_Result   No. Observations:                   96\n",
      "Model:                            GLM   Df Residuals:                       50\n",
      "Model Family:                 Poisson   Df Model:                           45\n",
      "Link Function:                    log   Scale:                          1.0000\n",
      "Method:                          IRLS   Log-Likelihood:                -69.886\n",
      "Date:                Tue, 05 Nov 2019   Deviance:                      0.37537\n",
      "Time:                        11:37:22   Pearson chi2:                    0.376\n",
      "No. Iterations:                     4   Covariance Type:             nonrobust\n",
      "==========================================================================================================================================================\n",
      "                                                                                             coef    std err          z      P>|z|      [0.025      0.975]\n",
      "----------------------------------------------------------------------------------------------------------------------------------------------------------\n",
      "Intercept                                                                                 -0.2119      2.506     -0.085      0.933      -5.124       4.700\n",
      "Cumulative_Exposure_Immune_Coefficient_PPP                                                -0.1062      3.711     -0.029      0.977      -7.379       7.166\n",
      "Cumulative_Exposure_Immune_Coefficient_TM                                                 -0.4327      3.725     -0.116      0.908      -7.734       6.869\n",
      "Scale_Factor_Age_a                                                                         0.0190      2.313      0.008      0.993      -4.514       4.552\n",
      "Scale_Factor_Age_b                                                                        -0.2942      3.439     -0.086      0.932      -7.034       6.446\n",
      "Scale_Factor_Cum_Exp_shape                                                                 0.3070      4.610      0.067      0.947      -8.728       9.342\n",
      "Concurrent_Infections_a                                                                   -0.2396      3.299     -0.073      0.942      -6.705       6.226\n",
      "Concurrent_Infections_b                                                                   -0.4592      3.716     -0.124      0.902      -7.742       6.824\n",
      "Concurrent_Infections_c                                                                   -0.0915      3.379     -0.027      0.978      -6.713       6.530\n",
      "Biological_Age_Immune_Coefficient_PPP ** 2                                                -0.0418      1.648     -0.025      0.980      -3.272       3.189\n",
      "Biological_Age_Immune_Coefficient_TM ** 2                                                  0.0786      1.695      0.046      0.963      -3.243       3.401\n",
      "Cumulative_Exposure_Immune_Coefficient_PPP ** 2                                            0.0649      2.637      0.025      0.980      -5.104       5.234\n",
      "Cumulative_Exposure_Immune_Coefficient_TM ** 2                                            -0.3686      2.560     -0.144      0.886      -5.387       4.649\n",
      "Scale_Factor_Age_b ** 2                                                                    0.2669      2.345      0.114      0.909      -4.330       4.864\n",
      "Scale_Factor_Cum_Exp_shape ** 2                                                            0.2174      2.921      0.074      0.941      -5.507       5.942\n",
      "Concurrent_Infections_a ** 2                                                              -0.2896      2.623     -0.110      0.912      -5.430       4.851\n",
      "Concurrent_Infections_b ** 2                                                               0.2851      2.906      0.098      0.922      -5.410       5.980\n",
      "Wave_Vs_Infection_Relative_Weight ** 2                                                     0.1916      2.051      0.093      0.926      -3.828       4.211\n",
      "Biological_Age_Immune_Coefficient_PPP * Biological_Age_Immune_Coefficient_TM               0.2919      2.178      0.134      0.893      -3.977       4.560\n",
      "Biological_Age_Immune_Coefficient_PPP * Cumulative_Exposure_Immune_Coefficient_TM          0.0171      2.223      0.008      0.994      -4.340       4.374\n",
      "Biological_Age_Immune_Coefficient_PPP * Scale_Factor_Cum_Exp_shape                        -0.2165      2.122     -0.102      0.919      -4.376       3.943\n",
      "Biological_Age_Immune_Coefficient_PPP * Concurrent_Infections_a                            0.4179      2.728      0.153      0.878      -4.929       5.765\n",
      "Biological_Age_Immune_Coefficient_PPP * Concurrent_Infections_b                           -0.0558      2.322     -0.024      0.981      -4.607       4.496\n",
      "Biological_Age_Immune_Coefficient_PPP * Wave_Vs_Infection_Relative_Weight                 -0.3437      2.425     -0.142      0.887      -5.096       4.409\n",
      "Biological_Age_Immune_Coefficient_TM * Cumulative_Exposure_Immune_Coefficient_TM          -0.0511      2.434     -0.021      0.983      -4.821       4.719\n",
      "Biological_Age_Immune_Coefficient_TM * Scale_Factor_Cum_Exp_shape                         -0.4047      2.566     -0.158      0.875      -5.435       4.625\n",
      "Cumulative_Exposure_Immune_Coefficient_PPP * Cumulative_Exposure_Immune_Coefficient_TM     0.0220      2.173      0.010      0.992      -4.238       4.282\n",
      "Cumulative_Exposure_Immune_Coefficient_PPP * Scale_Factor_Cum_Exp_shape                   -0.1648      2.450     -0.067      0.946      -4.966       4.636\n",
      "Cumulative_Exposure_Immune_Coefficient_PPP * Concurrent_Infections_a                       0.3715      2.272      0.164      0.870      -4.081       4.824\n",
      "Cumulative_Exposure_Immune_Coefficient_PPP * Concurrent_Infections_b                      -0.0011      2.417     -0.000      1.000      -4.739       4.737\n",
      "Cumulative_Exposure_Immune_Coefficient_PPP * Concurrent_Infections_c                       0.0018      2.140      0.001      0.999      -4.193       4.197\n",
      "Cumulative_Exposure_Immune_Coefficient_PPP * Wave_Vs_Infection_Relative_Weight            -0.1637      2.158     -0.076      0.940      -4.393       4.066\n",
      "Cumulative_Exposure_Immune_Coefficient_TM * Scale_Factor_Age_a                            -0.1662      2.512     -0.066      0.947      -5.090       4.758\n",
      "Cumulative_Exposure_Immune_Coefficient_TM * Scale_Factor_Age_b                             0.1121      2.629      0.043      0.966      -5.041       5.265\n",
      "Scale_Factor_Age_a * Scale_Factor_Age_b                                                   -0.0245      2.061     -0.012      0.991      -4.064       4.015\n",
      "Scale_Factor_Age_a * Scale_Factor_Cum_Exp_shape                                           -0.1652      2.346     -0.070      0.944      -4.762       4.432\n",
      "Scale_Factor_Age_a * Concurrent_Infections_b                                               0.3179      2.408      0.132      0.895      -4.402       5.038\n",
      "Scale_Factor_Age_b * Concurrent_Infections_a                                              -0.0219      2.217     -0.010      0.992      -4.366       4.323\n",
      "Scale_Factor_Age_b * Concurrent_Infections_b                                              -0.1847      1.973     -0.094      0.925      -4.051       3.682\n",
      "Scale_Factor_Age_b * Concurrent_Infections_c                                               0.1993      2.327      0.086      0.932      -4.362       4.760\n",
      "Scale_Factor_Cum_Exp_shape * Concurrent_Infections_b                                      -0.0074      2.677     -0.003      0.998      -5.254       5.239\n",
      "Scale_Factor_Cum_Exp_shape * Concurrent_Infections_c                                      -0.1196      2.450     -0.049      0.961      -4.922       4.683\n",
      "Scale_Factor_Cum_Exp_shape * Wave_Vs_Infection_Relative_Weight                            -0.0612      2.330     -0.026      0.979      -4.629       4.506\n",
      "Concurrent_Infections_a * Concurrent_Infections_b                                          0.3490      2.279      0.153      0.878      -4.118       4.816\n",
      "Concurrent_Infections_b * Concurrent_Infections_c                                         -0.1214      2.648     -0.046      0.963      -5.311       5.068\n",
      "Concurrent_Infections_c * Wave_Vs_Infection_Relative_Weight                                0.2507      2.320      0.108      0.914      -4.296       4.797\n",
      "==========================================================================================================================================================\n",
      "AIC: 231.7715492424686\n",
      "BIC: -227.8420404937147\n",
      "ITERATION: 4\n",
      "from_config: ..\\iter0\\Cuts\\Density_by_age_and_season\\GPR\\model_with_test_data.json\n"
     ]
    },
    {
     "name": "stdout",
     "output_type": "stream",
     "text": [
      "--------------------------------------------------------------------------------\n",
      "LHS Sampling ( 1000 ): 0.00699615478515625\n",
      "LHS Scaling: 0.004959583282470703\n",
      "DataFrame: 0.0009975433349609375\n",
      "Constraint: 0.0\n",
      "(1000, 12)\n",
      "Performing cut: iteration 0 , cut Density_by_age_and_season\n",
      "Test plausibility: 9.872904539108276\n",
      "Merge plausibility (needed?): 0.0019941329956054688\n",
      "Plausible candidates: New = 406 , Tot = 406\n",
      "--------------------------------------------------------------------------------\n",
      "LHS Sampling ( 1824 ): 0.010961771011352539\n",
      "LHS Scaling: 0.0039882659912109375\n",
      "DataFrame: 0.0\n",
      "Constraint: 0.0\n",
      "(1824, 12)\n",
      "Performing cut: iteration 0 , cut Density_by_age_and_season\n",
      "Test plausibility: 28.76294231414795\n",
      "Merge plausibility (needed?): 0.0019545555114746094\n",
      "Plausible candidates: New = 748 , Tot = 1154\n",
      "Saving to: Candidates_for_iter1.hd5\n",
      "Rejected 59.1% [1670 / 2824]\n"
     ]
    }
   ],
   "source": [
    "### Cut #######################################################################\n",
    "print(\"=\"*80, \"\\nCut\\n\", \"=\"*80)\n",
    "###############################################################################\n",
    "# History Matching!\n",
    "hmc = HistoryMatchingCut(\n",
    "    cut_dir = 'Cuts',\n",
    "    iteration = int(re.search(r'iter(\\d+)', os.getcwd()).group(1))\n",
    ")\n",
    "\n",
    "(_, rejected_percent) = hmc.cut(num_desired_candidates=n_samples_to_generate_for_next_iter, constraint = None)"
   ]
  },
  {
   "cell_type": "code",
   "execution_count": null,
   "metadata": {},
   "outputs": [],
   "source": [
    "candidates = pd.read_csv('Candidates_for_iter%d.csv'%(iteration+1))\n",
    "\n",
    "g = sns.PairGrid(candidates, height=10)\n",
    "g.map_upper(plt.scatter, marker='+', linewidths=0.1, s=100)\n",
    "g.map_lower(sns.kdeplot)\n",
    "g.map_diag(sns.kdeplot, lw=3, legend=False);\n",
    "\n",
    "names = param_info.index.values.tolist()\n",
    "for col in range(len(names)):\n",
    "    for row in range(len(names)):\n",
    "        if row == col:\n",
    "            continue\n",
    "        xvar = names[col]\n",
    "        yvar = names[row]\n",
    "        #print('B', col, xvar, yvar, g.axes[row, col].get_xlim(), g.axes[row, col].get_ylim())\n",
    "        g.axes[row,col].set_xlim( param_info.loc[xvar, ['Min','Max']].values.tolist() )\n",
    "        g.axes[row,col].set_ylim( param_info.loc[yvar, ['Min','Max']].values.tolist() )"
   ]
  },
  {
   "cell_type": "code",
   "execution_count": null,
   "metadata": {},
   "outputs": [],
   "source": []
  }
 ],
 "metadata": {
  "kernelspec": {
   "display_name": "Python 3",
   "language": "python",
   "name": "python3"
  },
  "language_info": {
   "codemirror_mode": {
    "name": "ipython",
    "version": 3
   },
   "file_extension": ".py",
   "mimetype": "text/x-python",
   "name": "python",
   "nbconvert_exporter": "python",
   "pygments_lexer": "ipython3",
   "version": "3.6.6"
  }
 },
 "nbformat": 4,
 "nbformat_minor": 2
}
