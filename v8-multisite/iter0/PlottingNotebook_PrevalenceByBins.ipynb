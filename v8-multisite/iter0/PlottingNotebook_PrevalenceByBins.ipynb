{
 "cells": [
  {
   "cell_type": "markdown",
   "metadata": {},
   "source": [
    "## Plotting Notebook\n",
    "#### for visalizing binned prevalence of malaria from hm sims and cuts"
   ]
  },
  {
   "cell_type": "markdown",
   "metadata": {},
   "source": [
    "## Import Block"
   ]
  },
  {
   "cell_type": "code",
   "execution_count": 1,
   "metadata": {},
   "outputs": [],
   "source": [
    "import itertools\n",
    "import os, re\n",
    "import sqlite3\n",
    "from collections import OrderedDict\n",
    "\n",
    "import pandas as pd\n",
    "import numpy as np\n",
    "import seaborn as sns\n",
    "\n",
    "import matplotlib.pyplot as plt\n",
    "from scipy.special import gammaln\n",
    "\n",
    "from collections import OrderedDict\n",
    "import itertools\n",
    "from calibtool.analyzers.Helpers import \\\n",
    "    convert_to_counts, age_from_birth_cohort, season_from_time, aggregate_on_index"
   ]
  },
  {
   "cell_type": "markdown",
   "metadata": {},
   "source": [
    "## Specify experiment to analyze"
   ]
  },
  {
   "cell_type": "code",
   "execution_count": 2,
   "metadata": {},
   "outputs": [],
   "source": [
    "exp_id = '527ff53a-1d33-ea11-a2c3-c4346bcb1551'"
   ]
  },
  {
   "cell_type": "markdown",
   "metadata": {},
   "source": [
    "## Load in experiment analyzer_results"
   ]
  },
  {
   "cell_type": "code",
   "execution_count": 3,
   "metadata": {},
   "outputs": [
    {
     "name": "stdout",
     "output_type": "stream",
     "text": [
      "[500]\n",
      "   Unnamed: 0  sample                                sim_id Season  Age Bin  \\\n",
      "0           0       3  ed7aea41-1d33-ea11-a2c3-c4346bcb1551     W2        4   \n",
      "1           0       9  f37aea41-1d33-ea11-a2c3-c4346bcb1551     W2        4   \n",
      "2           0       0  ea7aea41-1d33-ea11-a2c3-c4346bcb1551     W2        4   \n",
      "3           0       4  ee7aea41-1d33-ea11-a2c3-c4346bcb1551     W2        4   \n",
      "4           0       6  f07aea41-1d33-ea11-a2c3-c4346bcb1551     W2        4   \n",
      "\n",
      "   PfPR Bin  sim_proportion  log10 PfPR Bin  \n",
      "0       500        0.088889         2.69897  \n",
      "1       500        0.410811         2.69897  \n",
      "2       500        0.293750         2.69897  \n",
      "3       500        0.244681         2.69897  \n",
      "4       500        0.213333         2.69897  \n"
     ]
    }
   ],
   "source": [
    "results_df = pd.read_csv(os.path.join(exp_id,'plotting_analyzer_results.csv'))\n",
    "results_df.rename(columns ={'age_bin':'Age Bin','density_bin': 'PfPR Bin','season':'Season','value':'sim_proportion'},inplace=True)\n",
    "results_df['log10 PfPR Bin'] = np.log10(results_df['PfPR Bin'])\n",
    "\n",
    "print(results_df['PfPR Bin'].unique())\n",
    "\n",
    "print(results_df.head())"
   ]
  },
  {
   "cell_type": "markdown",
   "metadata": {},
   "source": [
    "## Read reference data"
   ]
  },
  {
   "cell_type": "code",
   "execution_count": 4,
   "metadata": {},
   "outputs": [],
   "source": [
    "def grouped_df(df, pfprdict, index, column_keep, column_del):\n",
    "    \"\"\"\n",
    "    Recut dataframe to recategorize data into desired age and parasitemia bins\n",
    "\n",
    "    Args:\n",
    "        df: Dataframe to be rebinned\n",
    "        pfprdict: Dictionary mapping postive counts per slide view (http://garkiproject.nd.edu/demographic-parasitological-surveys.html)\n",
    "                to density of parasites/gametocytes per uL\n",
    "        index: Multi index into which 'df' is rebinned\n",
    "        column_keep: Column (e.g. parasitemia) to keep\n",
    "        column_del: Column (e.g. gametocytemia) to delete\n",
    "    \"\"\"\n",
    "    dftemp = df.copy()\n",
    "    del dftemp[column_del]\n",
    "\n",
    "    dftemp['PfPR Bin'] = df[column_keep]\n",
    "    dftemp = aggregate_on_index(dftemp, index)\n",
    "\n",
    "    dfGrouped = dftemp.groupby(['Season', 'Age Bin', 'PfPR Bin'])\n",
    "\n",
    "    dftemp = dfGrouped[column_keep].count()\n",
    "    dftemp = dftemp.unstack().fillna(0).stack()\n",
    "    dftemp = dftemp.rename(column_keep).reset_index()\n",
    "    dftemp['PfPR Bin'] = [pfprdict[p] for p in dftemp['PfPR Bin']]\n",
    "\n",
    "    dftemp = dftemp.set_index(['Season', 'Age Bin', 'PfPR Bin'])\n",
    "\n",
    "    return dftemp"
   ]
  },
  {
   "cell_type": "code",
   "execution_count": 5,
   "metadata": {},
   "outputs": [
    {
     "name": "stderr",
     "output_type": "stream",
     "text": [
      "c:\\venv\\malaria-ug-icemr\\lib\\site-packages\\ipykernel_launcher.py:14: UserWarning: Pandas doesn't allow columns to be created via a new attribute name - see https://pandas.pydata.org/pandas-docs/stable/indexing.html#attribute-access\n",
      "  \n",
      "c:\\venv\\malaria-ug-icemr\\lib\\site-packages\\pandas\\core\\generic.py:4405: SettingWithCopyWarning: \n",
      "A value is trying to be set on a copy of a slice from a DataFrame.\n",
      "Try using .loc[row_indexer,col_indexer] = value instead\n",
      "\n",
      "See the caveats in the documentation: http://pandas.pydata.org/pandas-docs/stable/indexing.html#indexing-view-versus-copy\n",
      "  self[name] = value\n"
     ]
    },
    {
     "name": "stdout",
     "output_type": "stream",
     "text": [
      "                             Channel Season Age Bin  PfPR Bin  bin_pop  \\\n",
      "106  PfPR by Parasitemia and Age Bin    DC2       1        50     49.0   \n",
      "108  PfPR by Parasitemia and Age Bin    DC2       1       500     49.0   \n",
      "109  PfPR by Parasitemia and Age Bin    DC2       1   2000000     49.0   \n",
      "111  PfPR by Parasitemia and Age Bin    DC2       4        50     87.0   \n",
      "113  PfPR by Parasitemia and Age Bin    DC2       4       500     87.0   \n",
      "114  PfPR by Parasitemia and Age Bin    DC2       4   2000000     87.0   \n",
      "116  PfPR by Parasitemia and Age Bin    DC2       8        50    162.0   \n",
      "118  PfPR by Parasitemia and Age Bin    DC2       8       500    162.0   \n",
      "119  PfPR by Parasitemia and Age Bin    DC2       8   2000000    162.0   \n",
      "121  PfPR by Parasitemia and Age Bin    DC2      18        50    119.0   \n",
      "123  PfPR by Parasitemia and Age Bin    DC2      18       500    119.0   \n",
      "124  PfPR by Parasitemia and Age Bin    DC2      18   2000000    119.0   \n",
      "126  PfPR by Parasitemia and Age Bin    DC2      28        50    161.0   \n",
      "128  PfPR by Parasitemia and Age Bin    DC2      28       500    161.0   \n",
      "129  PfPR by Parasitemia and Age Bin    DC2      28   2000000    161.0   \n",
      "131  PfPR by Parasitemia and Age Bin    DC2      43        50    263.0   \n",
      "\n",
      "     proportion  log10 PfPR Bin  \n",
      "106    0.469388         1.69897  \n",
      "108    0.244898         2.69897  \n",
      "109    0.285714         6.30103  \n",
      "111    0.149425         1.69897  \n",
      "113    0.367816         2.69897  \n",
      "114    0.482759         6.30103  \n",
      "116    0.240741         1.69897  \n",
      "118    0.456790         2.69897  \n",
      "119    0.302469         6.30103  \n",
      "121    0.495798         1.69897  \n",
      "123    0.369748         2.69897  \n",
      "124    0.134454         6.30103  \n",
      "126    0.950311         1.69897  \n",
      "128    0.037267         2.69897  \n",
      "129    0.012422         6.30103  \n",
      "131    0.939163         1.69897  \n"
     ]
    }
   ],
   "source": [
    "df = pd.read_csv(os.path.join('..','reference data','Garki_df.csv'))\n",
    "self = pd.DataFrame()\n",
    "self.metadata =  {\n",
    "        'density_bins': [0, 50, 200, 500, 2000000],  # (, 0] (0, 50] ... (50000, ]\n",
    "        'density_bin_edges':['0', '50', '200', '500'],\n",
    "        'age_bins': [1, 4, 8, 18, 28, 43, 125],  # (, 5] (5, 15] (15, ],\n",
    "        'age_bin_labels':['<1', '1-4', '4-8', '8-18', '18-28', '28-43', '>43'],\n",
    "        'seasons': ['DC2', 'DH2', 'W2'],\n",
    "        'seasons_by_month': {\n",
    "            'Apr': 'DH2',\n",
    "            'June/Aug': 'W2',\n",
    "            'Dec/Jan': 'DC2'\n",
    "        },\n",
    "        'village': 'Sugungum'\n",
    "    }\n",
    "\n",
    "df = df.loc[df['Village']==self.metadata['village']]\n",
    "pfprBinsDensity = self.metadata['density_bins']\n",
    "uL_per_field = 0.5 / 200.0  # from Garki PDF - page 111 - 0.5 uL per 200 views\n",
    "pfprBins = 1 - np.exp(-np.asarray(pfprBinsDensity) * uL_per_field)\n",
    "seasons = self.metadata['seasons']\n",
    "pfprdict = dict(zip(pfprBins, pfprBinsDensity))\n",
    "\n",
    "bins = OrderedDict([\n",
    "    ('Season', self.metadata['seasons']),\n",
    "    ('Age Bin', self.metadata['age_bins']),\n",
    "    ('PfPR Bin', pfprBins)\n",
    "])\n",
    "bin_tuples = list(itertools.product(*bins.values()))\n",
    "index = pd.MultiIndex.from_tuples(bin_tuples, names=bins.keys())\n",
    "\n",
    "df = df.loc[df['Seasons'].isin(seasons)]\n",
    "df = df.rename(columns={'Seasons': 'Season', 'Age': 'Age Bin'})\n",
    "\n",
    "df2 = grouped_df(df, pfprdict, index, 'Parasitemia', 'Gametocytemia')\n",
    "df3 = grouped_df(df, pfprdict, index, 'Gametocytemia', 'Parasitemia')\n",
    "dfJoined = df2.join(df3).fillna(0)\n",
    "dfJoined = pd.concat([dfJoined['Gametocytemia'], dfJoined['Parasitemia']])\n",
    "dfJoined.name = 'Counts'\n",
    "dftemp = dfJoined.reset_index()\n",
    "dftemp['Channel'] = 'PfPR by Gametocytemia and Age Bin'\n",
    "dftemp.loc[len(dftemp) / 2:, 'Channel'] = 'PfPR by Parasitemia and Age Bin'\n",
    "dftemp = dftemp.rename(columns={'Seasons': 'Season', 'PfPR Bins': 'PfPR Bin', 'Age Bins': 'Age Bin'})\n",
    "dftemp = dftemp.set_index(['Channel', 'Season', 'Age Bin', 'PfPR Bin'])\n",
    "\n",
    "ref_data =dftemp.copy(deep = True)\n",
    "\n",
    "\n",
    "ref_data['bin_pop'] = ref_data.groupby(by=['Channel', 'Season', 'Age Bin'])['Counts'].sum()\n",
    "ref_data['proportion'] = ref_data['Counts'] / ref_data['bin_pop']\n",
    "ref_data.reset_index(inplace=True)\n",
    "ref_data = ref_data[ref_data['Channel'] == 'PfPR by Parasitemia and Age Bin']\n",
    "new_ref_df = pd.DataFrame()\n",
    "new_ref_df = pd.DataFrame()\n",
    "for i, grouping in ref_data.groupby(by=['Channel', 'Season', 'Age Bin']):\n",
    "    group_subset = pd.DataFrame()\n",
    "    \n",
    "    low = grouping[grouping['PfPR Bin'] == 50]\n",
    "    low.proportion += grouping[grouping['PfPR Bin'] == 0]['proportion'].values[0]\n",
    "    \n",
    "    middle = grouping[grouping['PfPR Bin'] == 500]\n",
    "    middle.proportion += grouping[grouping['PfPR Bin'] == 200]['proportion'].values[0]\n",
    "    \n",
    "    high = grouping[grouping['PfPR Bin'] == 2000000]\n",
    "    new_ref_df = pd.concat([new_ref_df,low,middle,high])\n",
    "new_ref_df.drop('Counts',axis = 1, inplace=True)   \n",
    "new_ref_df['log10 PfPR Bin'] = np.log10(new_ref_df['PfPR Bin'])\n",
    "print(new_ref_df.head(16))\n"
   ]
  },
  {
   "cell_type": "markdown",
   "metadata": {},
   "source": [
    "## Compare sim and ref df"
   ]
  },
  {
   "cell_type": "code",
   "execution_count": 6,
   "metadata": {},
   "outputs": [
    {
     "name": "stdout",
     "output_type": "stream",
     "text": [
      "                           Channel Season  Age Bin  PfPR Bin  bin_pop  \\\n",
      "0  PfPR by Parasitemia and Age Bin     W2        4       500     84.0   \n",
      "1  PfPR by Parasitemia and Age Bin     W2        4       500     84.0   \n",
      "2  PfPR by Parasitemia and Age Bin     W2        4       500     84.0   \n",
      "3  PfPR by Parasitemia and Age Bin     W2        4       500     84.0   \n",
      "4  PfPR by Parasitemia and Age Bin     W2        4       500     84.0   \n",
      "\n",
      "   proportion  log10 PfPR Bin  binomial error  Unnamed: 0  sample  \\\n",
      "0    0.345238         2.69897        0.051875           0       3   \n",
      "1    0.345238         2.69897        0.051875           0       9   \n",
      "2    0.345238         2.69897        0.051875           0       0   \n",
      "3    0.345238         2.69897        0.051875           0       4   \n",
      "4    0.345238         2.69897        0.051875           0       6   \n",
      "\n",
      "                                 sim_id  sim_proportion  \n",
      "0  ed7aea41-1d33-ea11-a2c3-c4346bcb1551        0.088889  \n",
      "1  f37aea41-1d33-ea11-a2c3-c4346bcb1551        0.410811  \n",
      "2  ea7aea41-1d33-ea11-a2c3-c4346bcb1551        0.293750  \n",
      "3  ee7aea41-1d33-ea11-a2c3-c4346bcb1551        0.244681  \n",
      "4  f07aea41-1d33-ea11-a2c3-c4346bcb1551        0.213333  \n"
     ]
    }
   ],
   "source": [
    "# print(results_df.head())\n",
    "# print(ref_df.head())\n",
    "new_ref_df['Age Bin'] = new_ref_df['Age Bin'].astype(int)\n",
    "new_ref_df['binomial error'] = np.sqrt((new_ref_df['proportion']*(1-new_ref_df['proportion']))/new_ref_df['bin_pop'])\n",
    "\n",
    "merged_df = new_ref_df.merge(results_df)\n",
    "# merged_df.sort_values(by= ['sim_id'],inplace = True)\n",
    "print(merged_df.head(5))"
   ]
  },
  {
   "cell_type": "code",
   "execution_count": 7,
   "metadata": {},
   "outputs": [
    {
     "name": "stdout",
     "output_type": "stream",
     "text": [
      "[500]\n"
     ]
    }
   ],
   "source": [
    "season = 'W2'\n",
    "wetset = merged_df[merged_df.Season == season]\n",
    "wet_ref =  new_ref_df[new_ref_df.Season == season]\n",
    "\n",
    "print(wetset['PfPR Bin'].unique())"
   ]
  },
  {
   "cell_type": "code",
   "execution_count": 8,
   "metadata": {},
   "outputs": [
    {
     "data": {
      "image/png": "[encoded data removed]",
      "text/plain": [
       "<Figure size 360x1440 with 7 Axes>"
      ]
     },
     "metadata": {
      "needs_background": "light"
     },
     "output_type": "display_data"
    }
   ],
   "source": [
    "fig, ax = plt.subplots(nrows = len(self.metadata['age_bins']),ncols = 1,figsize = (5,20))\n",
    "\n",
    "for i, group in wetset.groupby(by = ['sim_id','Age Bin']):\n",
    "    age = i[1]\n",
    "    age_bin_index, = np.where(self.metadata['age_bins'] == age)[0]\n",
    "    ax[age_bin_index].plot(group['log10 PfPR Bin'],group['sim_proportion'],color = 'b', alpha = 0.01)\n",
    "    \n",
    "for j, ref_group in wet_ref.groupby(by = ['Channel','Age Bin']):\n",
    "    age = j[1]\n",
    "    age_bin_index, = np.where(self.metadata['age_bins'] == age)[0]\n",
    "    ax[age_bin_index].errorbar(ref_group['log10 PfPR Bin'],ref_group['proportion'],yerr =ref_group['binomial error'] ,fmt='o', capsize = 5,color = 'r', alpha = 1)\n",
    "\n",
    "#     ax_index, = np.where(self.metadata['age_bins'] == j)[0]\n",
    "\n",
    "#     print(ax_index)\n",
    "village = self.metadata['village']\n",
    "fig_output_path = rf'C:\\Users\\jorussell.INTERNAL\\Dropbox (IDM)\\Malaria Team Folder\\projects\\updated_infection_and_immunity\\malaria-two-pt-oh\\figures\\ASTMH_2019\\Garki_age_calibration\\{village}\\{exp_id}'\n",
    "os.makedirs(fig_output_path, exist_ok = True)\n",
    "plt.savefig(os.path.join(fig_output_path,f'pfpr_by_season_age_denisty_bin_lineerror_{season}.png'))\n",
    "plt.savefig(os.path.join(fig_output_path,f'pfpr_by_season_age_denisty_bin_lineerror_{season}.eps'))\n",
    "plt.show()"
   ]
  },
  {
   "cell_type": "markdown",
   "metadata": {},
   "source": [
    "## Plot"
   ]
  },
  {
   "cell_type": "code",
   "execution_count": 9,
   "metadata": {
    "scrolled": false
   },
   "outputs": [],
   "source": [
    "# g = sns.FacetGrid(merged_df, col='Season', row='Age Bin')\n",
    "# g = g.map(plt.plot, \"log10 PfPR Bin\", \"proportion\", color='r')\n",
    "# g = g.map(plt.scatter, \"log10 PfPR Bin\", \"sim_proportion\", alpha = 0.02, color='b')\n",
    "# fig_output_path = rf'C:\\Users\\jorussell.INTERNAL\\Dropbox (IDM)\\Malaria Team Folder\\projects\\updated_infection_and_immunity\\malaria-two-pt-oh\\figures\\ASTMH_2019\\Garki_age_calibration\\{self.metadata.village}\\{exp_id}'\n",
    "# os.makedirs(fig_output_path, exist_ok = True)\n",
    "# plt.savefig(os.path.join(fig_output_path,'pfpr_by_season_age_denisty_bin.png'))\n",
    "# plt.savefig(os.path.join(fig_output_path,'pfpr_by_season_age_denisty_bin.eps'))"
   ]
  },
  {
   "cell_type": "code",
   "execution_count": null,
   "metadata": {},
   "outputs": [],
   "source": []
  }
 ],
 "metadata": {
  "kernelspec": {
   "display_name": "Python 3",
   "language": "python",
   "name": "python3"
  },
  "language_info": {
   "codemirror_mode": {
    "name": "ipython",
    "version": 3
   },
   "file_extension": ".py",
   "mimetype": "text/x-python",
   "name": "python",
   "nbconvert_exporter": "python",
   "pygments_lexer": "ipython3",
   "version": "3.6.6"
  }
 },
 "nbformat": 4,
 "nbformat_minor": 2
}
