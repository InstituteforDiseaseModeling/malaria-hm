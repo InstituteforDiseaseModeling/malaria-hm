{
 "cells": [
  {
   "cell_type": "code",
   "execution_count": 1,
   "metadata": {},
   "outputs": [
    {
     "name": "stderr",
     "output_type": "stream",
     "text": [
      "C:\\conda\\envs\\history_matching\\lib\\site-packages\\skcuda\\cublas.py:284: UserWarning: creating CUBLAS context to get version number\n",
      "  warnings.warn('creating CUBLAS context to get version number')\n"
     ]
    }
   ],
   "source": [
    "# First load some libraries, including History Matching\n",
    "%load_ext autoreload\n",
    "%autoreload 2\n",
    "import re, os\n",
    "from history_matching import HistoryMatching, HistoryMatchingCut, quick_read, Basis\n",
    "import matplotlib.pyplot as plt\n",
    "import seaborn as sns\n",
    "import pandas as pd\n",
    "import pycuda\n",
    "\n",
    "sns.set(font_scale=3)\n",
    "sns.set_style(\"white\")"
   ]
  },
  {
   "cell_type": "markdown",
   "metadata": {},
   "source": [
    "## Select samples for the next iteration\n",
    "Now that the emulators are fit, it's time to select samples for the next iteration.\n",
    "Here we use a class called HistoryMatchingCut.  It's job is to conduct rejection sampling in order to find n_samples_per_iteration new samples that are not implausible with respect to the emulation on this wave or any previous wave.  Resulting samples are saved to disk, so we'll load them in just to make a plot."
   ]
  },
  {
   "cell_type": "code",
   "execution_count": 2,
   "metadata": {},
   "outputs": [
    {
     "name": "stdout",
     "output_type": "stream",
     "text": [
      "Reading Params from ..\\Params.xlsx\n"
     ]
    }
   ],
   "source": [
    "iteration = int(re.search(r'iter(\\d+)', os.getcwd()).group(1)) # Index of the current iteration\n",
    "n_samples_to_generate_for_next_iter = 200 # Number of simulations to conduct on this iteration\n",
    "params_file = os.path.join('..', 'Params.xlsx')\n",
    "param_info = quick_read(params_file, 'Params').set_index('Name')"
   ]
  },
  {
   "cell_type": "code",
   "execution_count": null,
   "metadata": {},
   "outputs": [
    {
     "name": "stdout",
     "output_type": "stream",
     "text": [
      "================================================================================ \n",
      "Cut\n",
      " ================================================================================\n",
      "Reading iteration 2 . cut 500_8_W2_Sugungum\n",
      "Welcome to IDM History Matching!\n",
      "Found 200 unique parameter configurations, each of which is repeated 1 time(s).\n",
      "--> Training with 150 unique parameter configurations ( 150  simulations including replicates)\n",
      "--> Testing  with 50  unique parameter configurations ( 50 simulations including replicates)\n",
      "\t Desired Result: 0.4876543209876543\n",
      "\t Desired Result Var: 0\n",
      "\t Discrepancy Var: 0\n",
      "\t Imp Thresh: 3\n",
      "Using Poisson family\n",
      "                 Generalized Linear Model Regression Results                  \n",
      "==============================================================================\n",
      "Dep. Variable:             Sim_Result   No. Observations:                  150\n",
      "Model:                            GLM   Df Residuals:                      132\n",
      "Model Family:                 Poisson   Df Model:                           17\n",
      "Link Function:                    log   Scale:                          1.0000\n",
      "Method:                          IRLS   Log-Likelihood:                -35.232\n",
      "Date:                Sat, 07 Mar 2020   Deviance:                      0.42942\n",
      "Time:                        18:06:58   Pearson chi2:                    0.434\n",
      "No. Iterations:                     4   Covariance Type:             nonrobust\n",
      "==========================================================================================================================================================\n",
      "                                                                                             coef    std err          z      P>|z|      [0.025      0.975]\n",
      "----------------------------------------------------------------------------------------------------------------------------------------------------------\n",
      "Intercept                                                                                 -2.9186      6.601     -0.442      0.658     -15.856      10.019\n",
      "Biological_Age_Immune_Coefficient_PPP                                                      0.7069      9.732      0.073      0.942     -18.367      19.781\n",
      "Biological_Age_Immune_Coefficient_TM                                                       0.1382      7.076      0.020      0.984     -13.730      14.007\n",
      "Parasite_Density_Wave_Sigma                                                                2.6028     21.492      0.121      0.904     -39.521      44.727\n",
      "Immune_Modifier_Include_Cumulative_Exposure                                               -0.7455     16.908     -0.044      0.965     -33.884      32.393\n",
      "Biological_Age_Immune_Coefficient_PPP ** 2                                                 0.3654      3.987      0.092      0.927      -7.449       8.179\n",
      "Cumulative_Exposure_Immune_Coefficient_PPP ** 2                                            0.5853      4.805      0.122      0.903      -8.833      10.003\n",
      "Immune_Modifier_Include_Cumulative_Exposure ** 2                                           0.9292     14.045      0.066      0.947     -26.598      28.456\n",
      "Biological_Age_Immune_Coefficient_PPP * Cumulative_Exposure_Immune_Coefficient_PPP        -1.2383      7.417     -0.167      0.867     -15.775      13.298\n",
      "Biological_Age_Immune_Coefficient_PPP * Scale_Factor_Age_a                                -0.0453      3.598     -0.013      0.990      -7.097       7.007\n",
      "Biological_Age_Immune_Coefficient_PPP * Immune_Modifier_Include_Age                        1.4233      5.585      0.255      0.799      -9.522      12.369\n",
      "Biological_Age_Immune_Coefficient_PPP * Immune_Modifier_Include_Cumulative_Exposure       -0.3258     10.275     -0.032      0.975     -20.464      19.812\n",
      "Biological_Age_Immune_Coefficient_TM * Cumulative_Exposure_Immune_Coefficient_PPP         -0.6216      6.468     -0.096      0.923     -13.299      12.056\n",
      "Biological_Age_Immune_Coefficient_TM * Cumulative_Exposure_Immune_Coefficient_TM           0.7019      6.159      0.114      0.909     -11.369      12.772\n",
      "Biological_Age_Immune_Coefficient_TM * Scale_Factor_Age_a                                  0.0360      3.414      0.011      0.992      -6.655       6.727\n",
      "Cumulative_Exposure_Immune_Coefficient_PPP * Cumulative_Exposure_Immune_Coefficient_TM    -0.6647      6.590     -0.101      0.920     -13.582      12.252\n",
      "Cumulative_Exposure_Immune_Coefficient_TM * Immune_Modifier_Include_Age                    0.2206      4.393      0.050      0.960      -8.390       8.831\n",
      "Scale_Factor_Age_a * Immune_Modifier_Include_Cumulative_Exposure                           0.2050      4.526      0.045      0.964      -8.665       9.075\n",
      "==========================================================================================================================================================\n",
      "AIC: 106.46337741095297\n",
      "BIC: -660.9744438191143\n",
      "ITERATION: 4\n",
      "from_config: ..\\iter2\\Cuts\\500_8_W2_Sugungum\\GPR\\model_with_test_data.json\n",
      "Reading iteration 1 . cut 50_28_W2_Sugungum\n",
      "Welcome to IDM History Matching!\n",
      "Found 998 unique parameter configurations, each of which is repeated 1 time(s).\n",
      "--> Training with 748 unique parameter configurations ( 748  simulations including replicates)\n",
      "--> Testing  with 250  unique parameter configurations ( 250 simulations including replicates)\n",
      "\t Desired Result: 0.9371069182389937\n",
      "\t Desired Result Var: 0\n",
      "\t Discrepancy Var: 0\n",
      "\t Imp Thresh: 3\n",
      "Using Poisson family\n",
      "                 Generalized Linear Model Regression Results                  \n",
      "==============================================================================\n",
      "Dep. Variable:             Sim_Result   No. Observations:                  748\n",
      "Model:                            GLM   Df Residuals:                      738\n",
      "Model Family:                 Poisson   Df Model:                            9\n",
      "Link Function:                    log   Scale:                          1.0000\n",
      "Method:                          IRLS   Log-Likelihood:                -104.05\n",
      "Date:                Sat, 07 Mar 2020   Deviance:                       15.268\n",
      "Time:                        18:06:58   Pearson chi2:                     14.9\n",
      "No. Iterations:                     7   Covariance Type:             nonrobust\n",
      "============================================================================================================================================================\n",
      "                                                                                               coef    std err          z      P>|z|      [0.025      0.975]\n",
      "------------------------------------------------------------------------------------------------------------------------------------------------------------\n",
      "Intercept                                                                                   -2.8226      1.175     -2.402      0.016      -5.126      -0.519\n",
      "Biological_Age_Immune_Coefficient_TM                                                         0.0965      0.520      0.186      0.853      -0.922       1.115\n",
      "Cumulative_Exposure_Immune_Coefficient_PPP                                                   5.4682      3.514      1.556      0.120      -1.420      12.356\n",
      "Parasite_Density_Wave_Sigma                                                                 -7.3989      3.598     -2.056      0.040     -14.451      -0.346\n",
      "Immune_Modifier_Include_Age                                                                 -1.4638      0.559     -2.619      0.009      -2.559      -0.369\n",
      "Cumulative_Exposure_Immune_Coefficient_PPP ** 2                                             -4.4653      2.831     -1.577      0.115     -10.014       1.084\n",
      "Cumulative_Exposure_Immune_Coefficient_PPP * Cumulative_Exposure_Immune_Coefficient_TM       1.2382      0.783      1.582      0.114      -0.296       2.772\n",
      "Cumulative_Exposure_Immune_Coefficient_PPP * Parasite_Density_Wave_Sigma                     2.2223      4.021      0.553      0.581      -5.659      10.104\n",
      "Cumulative_Exposure_Immune_Coefficient_PPP * Immune_Modifier_Include_Cumulative_Exposure     2.6577      1.283      2.072      0.038       0.144       5.172\n",
      "Parasite_Density_Wave_Sigma * Immune_Modifier_Include_Cumulative_Exposure                    0.4073      3.065      0.133      0.894      -5.600       6.415\n",
      "============================================================================================================================================================\n",
      "AIC: 228.09373057043595\n",
      "BIC: -4868.375049987297\n",
      "ITERATION: 7\n",
      "from_config: ..\\iter1\\Cuts\\50_28_W2_Sugungum\\GPR\\model_with_test_data.json\n"
     ]
    },
    {
     "name": "stdout",
     "output_type": "stream",
     "text": [
      "Reading iteration 0 . cut 50_8_W2_Sugungum\n",
      "Welcome to IDM History Matching!\n",
      "Found 999 unique parameter configurations, each of which is repeated 1 time(s).\n",
      "--> Training with 749 unique parameter configurations ( 749  simulations including replicates)\n",
      "--> Testing  with 250  unique parameter configurations ( 250 simulations including replicates)\n",
      "\t Desired Result: 0.3209876543209876\n",
      "\t Desired Result Var: 0\n",
      "\t Discrepancy Var: 0\n",
      "\t Imp Thresh: 3\n",
      "Using Poisson family\n",
      "                 Generalized Linear Model Regression Results                  \n",
      "==============================================================================\n",
      "Dep. Variable:             Sim_Result   No. Observations:                  749\n",
      "Model:                            GLM   Df Residuals:                      739\n",
      "Model Family:                 Poisson   Df Model:                            9\n",
      "Link Function:                    log   Scale:                          1.0000\n",
      "Method:                          IRLS   Log-Likelihood:                -356.28\n",
      "Date:                Sat, 07 Mar 2020   Deviance:                       35.325\n",
      "Time:                        18:07:06   Pearson chi2:                     34.2\n",
      "No. Iterations:                     6   Covariance Type:             nonrobust\n",
      "============================================================================================================================================================\n",
      "                                                                                               coef    std err          z      P>|z|      [0.025      0.975]\n",
      "------------------------------------------------------------------------------------------------------------------------------------------------------------\n",
      "Intercept                                                                                   -0.1007      0.168     -0.601      0.548      -0.429       0.228\n",
      "Parasite_Density_Wave_Sigma                                                                 -1.1141      0.323     -3.454      0.001      -1.746      -0.482\n",
      "Immune_Modifier_Include_Age                                                                 -1.5056      0.214     -7.045      0.000      -1.924      -1.087\n",
      "Cumulative_Exposure_Immune_Coefficient_PPP ** 2                                             -0.0527      0.317     -0.166      0.868      -0.675       0.569\n",
      "Immune_Modifier_Include_Age ** 2                                                            -1.5056      0.214     -7.045      0.000      -1.924      -1.087\n",
      "Biological_Age_Immune_Coefficient_PPP * Immune_Modifier_Include_Cumulative_Exposure         -0.4859      0.295     -1.650      0.099      -1.063       0.091\n",
      "Cumulative_Exposure_Immune_Coefficient_PPP * Cumulative_Exposure_Immune_Coefficient_TM       0.3980      0.365      1.092      0.275      -0.317       1.113\n",
      "Cumulative_Exposure_Immune_Coefficient_PPP * Immune_Modifier_Include_Cumulative_Exposure     0.9139      0.359      2.546      0.011       0.210       1.617\n",
      "Scale_Factor_Age_a * Immune_Modifier_Include_Cumulative_Exposure                            -0.3042      0.287     -1.059      0.290      -0.867       0.259\n",
      "Parasite_Density_Wave_Sigma * Immune_Modifier_Include_Cumulative_Exposure                   -1.1613      0.443     -2.619      0.009      -2.031      -0.292\n",
      "Immune_Modifier_Include_Age * Immune_Modifier_Include_Cumulative_Exposure                    2.2537      0.468      4.810      0.000       1.335       3.172\n",
      "============================================================================================================================================================\n",
      "AIC: 732.5657628477226\n",
      "BIC: -4855.923103710804\n",
      "ITERATION: 6\n",
      "from_config: ..\\iter0\\Cuts\\50_8_W2_Sugungum\\GPR\\model_with_test_data.json\n",
      "--------------------------------------------------------------------------------\n",
      "LHS Sampling ( 200 ): 0.0019948482513427734\n",
      "LHS Scaling: 0.003991127014160156\n",
      "DataFrame: 0.002093076705932617\n",
      "Constraint: 0.0\n",
      "(200, 9)\n",
      "Performing cut: iteration 2 , cut 500_8_W2_Sugungum\n",
      "(179, 9)\n",
      "Performing cut: iteration 1 , cut 50_28_W2_Sugungum\n"
     ]
    },
    {
     "name": "stderr",
     "output_type": "stream",
     "text": [
      "c:\\git\\history_matching\\history_matching\\HistoryMatchingCut.py:80: SettingWithCopyWarning: \n",
      "A value is trying to be set on a copy of a slice from a DataFrame.\n",
      "Try using .loc[row_indexer,col_indexer] = value instead\n",
      "\n",
      "See the caveats in the documentation: http://pandas.pydata.org/pandas-docs/stable/indexing.html#indexing-view-versus-copy\n",
      "  plausible_candidates['Yglm'] = self.glm_all[cut].evaluate(plausible_candidates)\n",
      "c:\\git\\history_matching\\history_matching\\HistoryMatchingCut.py:86: SettingWithCopyWarning: \n",
      "A value is trying to be set on a copy of a slice from a DataFrame.\n",
      "Try using .loc[row_indexer,col_indexer] = value instead\n",
      "\n",
      "See the caveats in the documentation: http://pandas.pydata.org/pandas-docs/stable/indexing.html#indexing-view-versus-copy\n",
      "  plausible_candidates['Mean_Estimate'] = plausible_candidates['Yglm'] + ret['Mean']\n",
      "c:\\git\\history_matching\\history_matching\\HistoryMatchingCut.py:87: SettingWithCopyWarning: \n",
      "A value is trying to be set on a copy of a slice from a DataFrame.\n",
      "Try using .loc[row_indexer,col_indexer] = value instead\n",
      "\n",
      "See the caveats in the documentation: http://pandas.pydata.org/pandas-docs/stable/indexing.html#indexing-view-versus-copy\n",
      "  plausible_candidates['Var_Predictive'] = ret['Var_Predictive']\n",
      "c:\\git\\history_matching\\history_matching\\HistoryMatchingCut.py:91: SettingWithCopyWarning: \n",
      "A value is trying to be set on a copy of a slice from a DataFrame.\n",
      "Try using .loc[row_indexer,col_indexer] = value instead\n",
      "\n",
      "See the caveats in the documentation: http://pandas.pydata.org/pandas-docs/stable/indexing.html#indexing-view-versus-copy\n",
      "  np.sqrt(plausible_candidates['Var_Predictive'] + self.hm_params[cut]['desired_result_var'] + self.hm_params[cut]['discrepancy_var'] )\n",
      "c:\\git\\history_matching\\history_matching\\HistoryMatchingCut.py:93: SettingWithCopyWarning: \n",
      "A value is trying to be set on a copy of a slice from a DataFrame.\n",
      "Try using .loc[row_indexer,col_indexer] = value instead\n",
      "\n",
      "See the caveats in the documentation: http://pandas.pydata.org/pandas-docs/stable/indexing.html#indexing-view-versus-copy\n",
      "  plausible_candidates[ 'Implausible_%d_%s'%(it, cut_name) ] = plausible_candidates[ 'Implausibility_%d_%s'%(it, cut_name) ] > self.hm_params[cut]['implausibility_threshold']\n"
     ]
    },
    {
     "name": "stdout",
     "output_type": "stream",
     "text": [
      "(0, 9)\n",
      "Returning early because none of the candidates are plausible.\n",
      "Test plausibility: 3.8540115356445312\n",
      "Merge plausibility (needed?): 0.0\n",
      "Plausible candidates: New = 0 , Tot = 0\n",
      "--------------------------------------------------------------------------------\n",
      "LHS Sampling ( 5000 ): 0.01595449447631836\n",
      "LHS Scaling: 0.0029921531677246094\n",
      "DataFrame: 0.0010037422180175781\n",
      "Constraint: 0.0\n",
      "(5000, 9)\n",
      "Performing cut: iteration 2 , cut 500_8_W2_Sugungum\n"
     ]
    },
    {
     "name": "stderr",
     "output_type": "stream",
     "text": [
      "c:\\git\\history_matching\\history_matching\\HistoryMatchingCut.py:91: RuntimeWarning: invalid value encountered in sqrt\n",
      "  np.sqrt(plausible_candidates['Var_Predictive'] + self.hm_params[cut]['desired_result_var'] + self.hm_params[cut]['discrepancy_var'] )\n"
     ]
    },
    {
     "name": "stdout",
     "output_type": "stream",
     "text": [
      "(4450, 9)\n",
      "Performing cut: iteration 1 , cut 50_28_W2_Sugungum\n",
      "(1, 9)\n",
      "Performing cut: iteration 0 , cut 50_8_W2_Sugungum\n",
      "Test plausibility: 420.1066393852234\n",
      "Merge plausibility (needed?): 0.001995563507080078\n",
      "Plausible candidates: New = 1 , Tot = 1\n",
      "--------------------------------------------------------------------------------\n",
      "LHS Sampling ( 5000 ): 0.025917768478393555\n",
      "LHS Scaling: 0.006982326507568359\n",
      "DataFrame: 0.001998424530029297\n",
      "Constraint: 0.0009922981262207031\n",
      "(5000, 9)\n",
      "Performing cut: iteration 2 , cut 500_8_W2_Sugungum\n",
      "(4398, 9)\n",
      "Performing cut: iteration 1 , cut 50_28_W2_Sugungum\n"
     ]
    }
   ],
   "source": [
    "### Cut #######################################################################\n",
    "print(\"=\"*80, \"\\nCut\\n\", \"=\"*80)\n",
    "###############################################################################\n",
    "# History Matching!\n",
    "hmc = HistoryMatchingCut(\n",
    "    cut_dir = 'Cuts',\n",
    "    iteration = int(re.search(r'iter(\\d+)', os.getcwd()).group(1))\n",
    ")\n",
    "\n",
    "(_, rejected_percent) = hmc.cut(num_desired_candidates=n_samples_to_generate_for_next_iter, constraint = None)"
   ]
  },
  {
   "cell_type": "code",
   "execution_count": null,
   "metadata": {},
   "outputs": [],
   "source": [
    "candidates = pd.read_csv('Candidates_for_iter%d.csv'%(iteration+1))\n",
    "\n",
    "g = sns.PairGrid(candidates)\n",
    "g.map_upper(plt.scatter, marker='+', linewidths=0.1, s=100)\n",
    "g.map_lower(sns.kdeplot)\n",
    "g.map_diag(sns.kdeplot, lw=3, legend=False);\n",
    "\n",
    "names = param_info.index.values.tolist()\n",
    "for col in range(len(names)):\n",
    "    for row in range(len(names)):\n",
    "        if row == col:\n",
    "            continue\n",
    "        xvar = names[col]\n",
    "        yvar = names[row]\n",
    "        #print('B', col, xvar, yvar, g.axes[row, col].get_xlim(), g.axes[row, col].get_ylim())\n",
    "        g.axes[row,col].set_xlim( param_info.loc[xvar, ['Min','Max']].values.tolist() )\n",
    "        g.axes[row,col].set_ylim( param_info.loc[yvar, ['Min','Max']].values.tolist() )"
   ]
  },
  {
   "cell_type": "code",
   "execution_count": null,
   "metadata": {},
   "outputs": [],
   "source": []
  }
 ],
 "metadata": {
  "kernelspec": {
   "display_name": "Python 3",
   "language": "python",
   "name": "python3"
  },
  "language_info": {
   "codemirror_mode": {
    "name": "ipython",
    "version": 3
   },
   "file_extension": ".py",
   "mimetype": "text/x-python",
   "name": "python",
   "nbconvert_exporter": "python",
   "pygments_lexer": "ipython3",
   "version": "3.7.6"
  }
 },
 "nbformat": 4,
 "nbformat_minor": 2
}
