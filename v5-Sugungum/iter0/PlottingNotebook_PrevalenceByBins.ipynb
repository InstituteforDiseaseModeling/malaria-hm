{
 "cells": [
  {
   "cell_type": "markdown",
   "metadata": {},
   "source": [
    "## Plotting Notebook\n",
    "#### for visalizing binned prevalence of malaria from hm sims and cuts"
   ]
  },
  {
   "cell_type": "markdown",
   "metadata": {},
   "source": [
    "## Import Block"
   ]
  },
  {
   "cell_type": "code",
   "execution_count": 1,
   "metadata": {},
   "outputs": [],
   "source": [
    "import itertools\n",
    "import os, re\n",
    "import sqlite3\n",
    "from collections import OrderedDict\n",
    "\n",
    "import pandas as pd\n",
    "import numpy as np\n",
    "import seaborn as sns\n",
    "\n",
    "import matplotlib.pyplot as plt\n",
    "from scipy.special import gammaln\n",
    "\n",
    "from collections import OrderedDict\n",
    "import itertools\n",
    "from calibtool.analyzers.Helpers import \\\n",
    "    convert_to_counts, age_from_birth_cohort, season_from_time, aggregate_on_index"
   ]
  },
  {
   "cell_type": "markdown",
   "metadata": {},
   "source": [
    "## Specify experiment to analyze"
   ]
  },
  {
   "cell_type": "code",
   "execution_count": 2,
   "metadata": {},
   "outputs": [],
   "source": [
    "# exp_id  = '85f915dc-8c01-ea11-a2c3-c4346bcb1551'\n",
    "exp_id = 'afdeb53c-b404-ea11-a2c3-c4346bcb1551'"
   ]
  },
  {
   "cell_type": "markdown",
   "metadata": {},
   "source": [
    "## Load in experiment analyzer_results"
   ]
  },
  {
   "cell_type": "code",
   "execution_count": 3,
   "metadata": {},
   "outputs": [
    {
     "ename": "FileNotFoundError",
     "evalue": "File b'afdeb53c-b404-ea11-a2c3-c4346bcb1551\\\\analyzer_results.csv' does not exist",
     "output_type": "error",
     "traceback": [
      "\u001b[0;31m---------------------------------------------------------------------------\u001b[0m",
      "\u001b[0;31mFileNotFoundError\u001b[0m                         Traceback (most recent call last)",
      "\u001b[0;32m<ipython-input-3-b4f390f20ff0>\u001b[0m in \u001b[0;36m<module>\u001b[0;34m()\u001b[0m\n\u001b[0;32m----> 1\u001b[0;31m \u001b[0mresults_df\u001b[0m \u001b[0;34m=\u001b[0m \u001b[0mpd\u001b[0m\u001b[0;34m.\u001b[0m\u001b[0mread_csv\u001b[0m\u001b[0;34m(\u001b[0m\u001b[0mos\u001b[0m\u001b[0;34m.\u001b[0m\u001b[0mpath\u001b[0m\u001b[0;34m.\u001b[0m\u001b[0mjoin\u001b[0m\u001b[0;34m(\u001b[0m\u001b[0mexp_id\u001b[0m\u001b[0;34m,\u001b[0m\u001b[0;34m'analyzer_results.csv'\u001b[0m\u001b[0;34m)\u001b[0m\u001b[0;34m)\u001b[0m\u001b[0;34m\u001b[0m\u001b[0m\n\u001b[0m\u001b[1;32m      2\u001b[0m \u001b[0mresults_df\u001b[0m\u001b[0;34m.\u001b[0m\u001b[0mrename\u001b[0m\u001b[0;34m(\u001b[0m\u001b[0mcolumns\u001b[0m \u001b[0;34m=\u001b[0m\u001b[0;34m{\u001b[0m\u001b[0;34m'age_bin'\u001b[0m\u001b[0;34m:\u001b[0m\u001b[0;34m'Age Bin'\u001b[0m\u001b[0;34m,\u001b[0m\u001b[0;34m'density_bin'\u001b[0m\u001b[0;34m:\u001b[0m \u001b[0;34m'PfPR Bin'\u001b[0m\u001b[0;34m,\u001b[0m\u001b[0;34m'season'\u001b[0m\u001b[0;34m:\u001b[0m\u001b[0;34m'Season'\u001b[0m\u001b[0;34m,\u001b[0m\u001b[0;34m'value'\u001b[0m\u001b[0;34m:\u001b[0m\u001b[0;34m'sim_proportion'\u001b[0m\u001b[0;34m}\u001b[0m\u001b[0;34m,\u001b[0m\u001b[0minplace\u001b[0m\u001b[0;34m=\u001b[0m\u001b[0;32mTrue\u001b[0m\u001b[0;34m)\u001b[0m\u001b[0;34m\u001b[0m\u001b[0m\n",
      "\u001b[0;32mc:\\venv\\malaria-ug-icemr\\lib\\site-packages\\pandas\\io\\parsers.py\u001b[0m in \u001b[0;36mparser_f\u001b[0;34m(filepath_or_buffer, sep, delimiter, header, names, index_col, usecols, squeeze, prefix, mangle_dupe_cols, dtype, engine, converters, true_values, false_values, skipinitialspace, skiprows, nrows, na_values, keep_default_na, na_filter, verbose, skip_blank_lines, parse_dates, infer_datetime_format, keep_date_col, date_parser, dayfirst, iterator, chunksize, compression, thousands, decimal, lineterminator, quotechar, quoting, escapechar, comment, encoding, dialect, tupleize_cols, error_bad_lines, warn_bad_lines, skipfooter, doublequote, delim_whitespace, low_memory, memory_map, float_precision)\u001b[0m\n\u001b[1;32m    676\u001b[0m                     skip_blank_lines=skip_blank_lines)\n\u001b[1;32m    677\u001b[0m \u001b[0;34m\u001b[0m\u001b[0m\n\u001b[0;32m--> 678\u001b[0;31m         \u001b[0;32mreturn\u001b[0m \u001b[0m_read\u001b[0m\u001b[0;34m(\u001b[0m\u001b[0mfilepath_or_buffer\u001b[0m\u001b[0;34m,\u001b[0m \u001b[0mkwds\u001b[0m\u001b[0;34m)\u001b[0m\u001b[0;34m\u001b[0m\u001b[0m\n\u001b[0m\u001b[1;32m    679\u001b[0m \u001b[0;34m\u001b[0m\u001b[0m\n\u001b[1;32m    680\u001b[0m     \u001b[0mparser_f\u001b[0m\u001b[0;34m.\u001b[0m\u001b[0m__name__\u001b[0m \u001b[0;34m=\u001b[0m \u001b[0mname\u001b[0m\u001b[0;34m\u001b[0m\u001b[0m\n",
      "\u001b[0;32mc:\\venv\\malaria-ug-icemr\\lib\\site-packages\\pandas\\io\\parsers.py\u001b[0m in \u001b[0;36m_read\u001b[0;34m(filepath_or_buffer, kwds)\u001b[0m\n\u001b[1;32m    438\u001b[0m \u001b[0;34m\u001b[0m\u001b[0m\n\u001b[1;32m    439\u001b[0m     \u001b[0;31m# Create the parser.\u001b[0m\u001b[0;34m\u001b[0m\u001b[0;34m\u001b[0m\u001b[0m\n\u001b[0;32m--> 440\u001b[0;31m     \u001b[0mparser\u001b[0m \u001b[0;34m=\u001b[0m \u001b[0mTextFileReader\u001b[0m\u001b[0;34m(\u001b[0m\u001b[0mfilepath_or_buffer\u001b[0m\u001b[0;34m,\u001b[0m \u001b[0;34m**\u001b[0m\u001b[0mkwds\u001b[0m\u001b[0;34m)\u001b[0m\u001b[0;34m\u001b[0m\u001b[0m\n\u001b[0m\u001b[1;32m    441\u001b[0m \u001b[0;34m\u001b[0m\u001b[0m\n\u001b[1;32m    442\u001b[0m     \u001b[0;32mif\u001b[0m \u001b[0mchunksize\u001b[0m \u001b[0;32mor\u001b[0m \u001b[0miterator\u001b[0m\u001b[0;34m:\u001b[0m\u001b[0;34m\u001b[0m\u001b[0m\n",
      "\u001b[0;32mc:\\venv\\malaria-ug-icemr\\lib\\site-packages\\pandas\\io\\parsers.py\u001b[0m in \u001b[0;36m__init__\u001b[0;34m(self, f, engine, **kwds)\u001b[0m\n\u001b[1;32m    785\u001b[0m             \u001b[0mself\u001b[0m\u001b[0;34m.\u001b[0m\u001b[0moptions\u001b[0m\u001b[0;34m[\u001b[0m\u001b[0;34m'has_index_names'\u001b[0m\u001b[0;34m]\u001b[0m \u001b[0;34m=\u001b[0m \u001b[0mkwds\u001b[0m\u001b[0;34m[\u001b[0m\u001b[0;34m'has_index_names'\u001b[0m\u001b[0;34m]\u001b[0m\u001b[0;34m\u001b[0m\u001b[0m\n\u001b[1;32m    786\u001b[0m \u001b[0;34m\u001b[0m\u001b[0m\n\u001b[0;32m--> 787\u001b[0;31m         \u001b[0mself\u001b[0m\u001b[0;34m.\u001b[0m\u001b[0m_make_engine\u001b[0m\u001b[0;34m(\u001b[0m\u001b[0mself\u001b[0m\u001b[0;34m.\u001b[0m\u001b[0mengine\u001b[0m\u001b[0;34m)\u001b[0m\u001b[0;34m\u001b[0m\u001b[0m\n\u001b[0m\u001b[1;32m    788\u001b[0m \u001b[0;34m\u001b[0m\u001b[0m\n\u001b[1;32m    789\u001b[0m     \u001b[0;32mdef\u001b[0m \u001b[0mclose\u001b[0m\u001b[0;34m(\u001b[0m\u001b[0mself\u001b[0m\u001b[0;34m)\u001b[0m\u001b[0;34m:\u001b[0m\u001b[0;34m\u001b[0m\u001b[0m\n",
      "\u001b[0;32mc:\\venv\\malaria-ug-icemr\\lib\\site-packages\\pandas\\io\\parsers.py\u001b[0m in \u001b[0;36m_make_engine\u001b[0;34m(self, engine)\u001b[0m\n\u001b[1;32m   1012\u001b[0m     \u001b[0;32mdef\u001b[0m \u001b[0m_make_engine\u001b[0m\u001b[0;34m(\u001b[0m\u001b[0mself\u001b[0m\u001b[0;34m,\u001b[0m \u001b[0mengine\u001b[0m\u001b[0;34m=\u001b[0m\u001b[0;34m'c'\u001b[0m\u001b[0;34m)\u001b[0m\u001b[0;34m:\u001b[0m\u001b[0;34m\u001b[0m\u001b[0m\n\u001b[1;32m   1013\u001b[0m         \u001b[0;32mif\u001b[0m \u001b[0mengine\u001b[0m \u001b[0;34m==\u001b[0m \u001b[0;34m'c'\u001b[0m\u001b[0;34m:\u001b[0m\u001b[0;34m\u001b[0m\u001b[0m\n\u001b[0;32m-> 1014\u001b[0;31m             \u001b[0mself\u001b[0m\u001b[0;34m.\u001b[0m\u001b[0m_engine\u001b[0m \u001b[0;34m=\u001b[0m \u001b[0mCParserWrapper\u001b[0m\u001b[0;34m(\u001b[0m\u001b[0mself\u001b[0m\u001b[0;34m.\u001b[0m\u001b[0mf\u001b[0m\u001b[0;34m,\u001b[0m \u001b[0;34m**\u001b[0m\u001b[0mself\u001b[0m\u001b[0;34m.\u001b[0m\u001b[0moptions\u001b[0m\u001b[0;34m)\u001b[0m\u001b[0;34m\u001b[0m\u001b[0m\n\u001b[0m\u001b[1;32m   1015\u001b[0m         \u001b[0;32melse\u001b[0m\u001b[0;34m:\u001b[0m\u001b[0;34m\u001b[0m\u001b[0m\n\u001b[1;32m   1016\u001b[0m             \u001b[0;32mif\u001b[0m \u001b[0mengine\u001b[0m \u001b[0;34m==\u001b[0m \u001b[0;34m'python'\u001b[0m\u001b[0;34m:\u001b[0m\u001b[0;34m\u001b[0m\u001b[0m\n",
      "\u001b[0;32mc:\\venv\\malaria-ug-icemr\\lib\\site-packages\\pandas\\io\\parsers.py\u001b[0m in \u001b[0;36m__init__\u001b[0;34m(self, src, **kwds)\u001b[0m\n\u001b[1;32m   1706\u001b[0m         \u001b[0mkwds\u001b[0m\u001b[0;34m[\u001b[0m\u001b[0;34m'usecols'\u001b[0m\u001b[0;34m]\u001b[0m \u001b[0;34m=\u001b[0m \u001b[0mself\u001b[0m\u001b[0;34m.\u001b[0m\u001b[0musecols\u001b[0m\u001b[0;34m\u001b[0m\u001b[0m\n\u001b[1;32m   1707\u001b[0m \u001b[0;34m\u001b[0m\u001b[0m\n\u001b[0;32m-> 1708\u001b[0;31m         \u001b[0mself\u001b[0m\u001b[0;34m.\u001b[0m\u001b[0m_reader\u001b[0m \u001b[0;34m=\u001b[0m \u001b[0mparsers\u001b[0m\u001b[0;34m.\u001b[0m\u001b[0mTextReader\u001b[0m\u001b[0;34m(\u001b[0m\u001b[0msrc\u001b[0m\u001b[0;34m,\u001b[0m \u001b[0;34m**\u001b[0m\u001b[0mkwds\u001b[0m\u001b[0;34m)\u001b[0m\u001b[0;34m\u001b[0m\u001b[0m\n\u001b[0m\u001b[1;32m   1709\u001b[0m \u001b[0;34m\u001b[0m\u001b[0m\n\u001b[1;32m   1710\u001b[0m         \u001b[0mpassed_names\u001b[0m \u001b[0;34m=\u001b[0m \u001b[0mself\u001b[0m\u001b[0;34m.\u001b[0m\u001b[0mnames\u001b[0m \u001b[0;32mis\u001b[0m \u001b[0;32mNone\u001b[0m\u001b[0;34m\u001b[0m\u001b[0m\n",
      "\u001b[0;32mpandas\\_libs\\parsers.pyx\u001b[0m in \u001b[0;36mpandas._libs.parsers.TextReader.__cinit__\u001b[0;34m()\u001b[0m\n",
      "\u001b[0;32mpandas\\_libs\\parsers.pyx\u001b[0m in \u001b[0;36mpandas._libs.parsers.TextReader._setup_parser_source\u001b[0;34m()\u001b[0m\n",
      "\u001b[0;31mFileNotFoundError\u001b[0m: File b'afdeb53c-b404-ea11-a2c3-c4346bcb1551\\\\analyzer_results.csv' does not exist"
     ]
    }
   ],
   "source": [
    "results_df = pd.read_csv(os.path.join(exp_id,'analyzer_results.csv'))\n",
    "results_df.rename(columns ={'age_bin':'Age Bin','density_bin': 'PfPR Bin','season':'Season','value':'sim_proportion'},inplace=True)\n"
   ]
  },
  {
   "cell_type": "markdown",
   "metadata": {},
   "source": [
    "## Read reference data"
   ]
  },
  {
   "cell_type": "code",
   "execution_count": null,
   "metadata": {},
   "outputs": [],
   "source": [
    "def grouped_df(df, pfprdict, index, column_keep, column_del):\n",
    "    \"\"\"\n",
    "    Recut dataframe to recategorize data into desired age and parasitemia bins\n",
    "\n",
    "    Args:\n",
    "        df: Dataframe to be rebinned\n",
    "        pfprdict: Dictionary mapping postive counts per slide view (http://garkiproject.nd.edu/demographic-parasitological-surveys.html)\n",
    "                to density of parasites/gametocytes per uL\n",
    "        index: Multi index into which 'df' is rebinned\n",
    "        column_keep: Column (e.g. parasitemia) to keep\n",
    "        column_del: Column (e.g. gametocytemia) to delete\n",
    "    \"\"\"\n",
    "    dftemp = df.copy()\n",
    "    del dftemp[column_del]\n",
    "\n",
    "    dftemp['PfPR Bin'] = df[column_keep]\n",
    "    dftemp = aggregate_on_index(dftemp, index)\n",
    "\n",
    "    dfGrouped = dftemp.groupby(['Season', 'Age Bin', 'PfPR Bin'])\n",
    "\n",
    "    dftemp = dfGrouped[column_keep].count()\n",
    "    dftemp = dftemp.unstack().fillna(0).stack()\n",
    "    dftemp = dftemp.rename(column_keep).reset_index()\n",
    "    dftemp['PfPR Bin'] = [pfprdict[p] for p in dftemp['PfPR Bin']]\n",
    "\n",
    "    dftemp = dftemp.set_index(['Season', 'Age Bin', 'PfPR Bin'])\n",
    "\n",
    "    return dftemp"
   ]
  },
  {
   "cell_type": "code",
   "execution_count": null,
   "metadata": {},
   "outputs": [],
   "source": [
    "df = pd.read_csv(os.path.join('..','reference data','Garki_df.csv'))\n",
    "self = pd.DataFrame()\n",
    "self.metadata =  {\n",
    "        'density_bins': [0, 50, 200, 500, 2000000],  # (, 0] (0, 50] ... (50000, ]\n",
    "        'density_bin_edges':['0', '50', '200', '500'],\n",
    "        'age_bins': [1, 4, 8, 18, 28, 43, 125],  # (, 5] (5, 15] (15, ],\n",
    "        'age_bin_labels':['<1', '1-4', '4-8', '8-18', '18-28', '28-43', '>43'],\n",
    "        'seasons': ['DC2', 'DH2', 'W2'],\n",
    "        'seasons_by_month': {\n",
    "            'Apr': 'DH2',\n",
    "            'June/Aug': 'W2',\n",
    "            'Dec/Jan': 'DC2'\n",
    "        },\n",
    "        'village': 'Sugungum'\n",
    "    }\n",
    "\n",
    "df = df.loc[df['Village']==self.metadata['village']]\n",
    "pfprBinsDensity = self.metadata['density_bins']\n",
    "uL_per_field = 0.5 / 200.0  # from Garki PDF - page 111 - 0.5 uL per 200 views\n",
    "pfprBins = 1 - np.exp(-np.asarray(pfprBinsDensity) * uL_per_field)\n",
    "seasons = self.metadata['seasons']\n",
    "pfprdict = dict(zip(pfprBins, pfprBinsDensity))\n",
    "\n",
    "bins = OrderedDict([\n",
    "    ('Season', self.metadata['seasons']),\n",
    "    ('Age Bin', self.metadata['age_bins']),\n",
    "    ('PfPR Bin', pfprBins)\n",
    "])\n",
    "bin_tuples = list(itertools.product(*bins.values()))\n",
    "index = pd.MultiIndex.from_tuples(bin_tuples, names=bins.keys())\n",
    "\n",
    "df = df.loc[df['Seasons'].isin(seasons)]\n",
    "df = df.rename(columns={'Seasons': 'Season', 'Age': 'Age Bin'})\n",
    "\n",
    "df2 = grouped_df(df, pfprdict, index, 'Parasitemia', 'Gametocytemia')\n",
    "df3 = grouped_df(df, pfprdict, index, 'Gametocytemia', 'Parasitemia')\n",
    "dfJoined = df2.join(df3).fillna(0)\n",
    "dfJoined = pd.concat([dfJoined['Gametocytemia'], dfJoined['Parasitemia']])\n",
    "dfJoined.name = 'Counts'\n",
    "dftemp = dfJoined.reset_index()\n",
    "dftemp['Channel'] = 'PfPR by Gametocytemia and Age Bin'\n",
    "dftemp.loc[len(dftemp) / 2:, 'Channel'] = 'PfPR by Parasitemia and Age Bin'\n",
    "dftemp = dftemp.rename(columns={'Seasons': 'Season', 'PfPR Bins': 'PfPR Bin', 'Age Bins': 'Age Bin'})\n",
    "dftemp = dftemp.set_index(['Channel', 'Season', 'Age Bin', 'PfPR Bin'])\n",
    "\n",
    "ref_df =dftemp.copy(deep = True)\n",
    "ref_df['bin_pop'] = ref_df.groupby(by=['Channel', 'Season', 'Age Bin'])['Counts'].sum()\n",
    "ref_df['proportion'] = ref_df['Counts'] / ref_df['bin_pop']\n",
    "ref_df.reset_index(inplace=True)\n",
    "ref_df = ref_df[ref_df.Channel == 'PfPR by Parasitemia and Age Bin'].drop(columns = ['Channel'])\n",
    "print(ref_df.head())\n"
   ]
  },
  {
   "cell_type": "markdown",
   "metadata": {},
   "source": [
    "## Compare sim and ref df"
   ]
  },
  {
   "cell_type": "code",
   "execution_count": null,
   "metadata": {},
   "outputs": [],
   "source": [
    "# print(results_df.head())\n",
    "# print(ref_df.head())\n",
    "ref_df['Age Bin'] = ref_df['Age Bin'].astype(int)\n",
    "\n",
    "\n",
    "merged_df = ref_df.merge(results_df)\n",
    "# merged_df.sort_values(by= ['sim_id'],inplace = True)\n",
    "print(merged_df.head(10))"
   ]
  },
  {
   "cell_type": "markdown",
   "metadata": {},
   "source": [
    "## Plot"
   ]
  },
  {
   "cell_type": "code",
   "execution_count": null,
   "metadata": {
    "scrolled": true
   },
   "outputs": [],
   "source": [
    "g = sns.FacetGrid(merged_df, col='Season', row='Age Bin')\n",
    "g = g.map(plt.plot, \"PfPR Bin\", \"proportion\", color='r')\n",
    "g = g.map(plt.scatter, \"PfPR Bin\", \"sim_proportion\", alpha = 0.05, color='b')\n",
    "fig_output_path = rf'C:\\Users\\jorussell.INTERNAL\\Dropbox (IDM)\\Malaria Team Folder\\projects\\updated_infection_and_immunity\\malaria-two-pt-oh\\figures\\Garki_age_calibration\\Sugungum\\{exp_id}'\n",
    "os.makedirs(fig_output_path, exist_ok = True)\n",
    "plt.savefig(os.path.join(fig_output_path,'pfpr_by_season_age_denisty_bin.png'))"
   ]
  },
  {
   "cell_type": "code",
   "execution_count": null,
   "metadata": {},
   "outputs": [],
   "source": []
  }
 ],
 "metadata": {
  "kernelspec": {
   "display_name": "Python 3",
   "language": "python",
   "name": "python3"
  },
  "language_info": {
   "codemirror_mode": {
    "name": "ipython",
    "version": 3
   },
   "file_extension": ".py",
   "mimetype": "text/x-python",
   "name": "python",
   "nbconvert_exporter": "python",
   "pygments_lexer": "ipython3",
   "version": "3.6.6"
  }
 },
 "nbformat": 4,
 "nbformat_minor": 2
}
