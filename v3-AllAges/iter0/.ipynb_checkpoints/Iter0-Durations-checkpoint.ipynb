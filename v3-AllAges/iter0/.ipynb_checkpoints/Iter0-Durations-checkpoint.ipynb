{
 "cells": [
  {
   "cell_type": "markdown",
   "metadata": {},
   "source": [
    "# Malaria challenge trial calibration"
   ]
  },
  {
   "cell_type": "markdown",
   "metadata": {},
   "source": [
    "### A history matching approach to calibrating an empirical model of malaria infection and immunity\n",
    "### For iter0 we will cut down parameter space by using the distribution of infection durations by age in the KND cohort in Navrongo, Ghana"
   ]
  },
  {
   "cell_type": "markdown",
   "metadata": {},
   "source": [
    "# Import block"
   ]
  },
  {
   "cell_type": "code",
   "execution_count": 1,
   "metadata": {},
   "outputs": [
    {
     "name": "stdout",
     "output_type": "stream",
     "text": [
      "Looks like you don't have CUDA, that's okay, we'll try using CPU but it will be SLOW!\n",
      "Looks like you don't have CUDA, that's okay, we'll try using CPU but it will be SLOW!\n"
     ]
    }
   ],
   "source": [
    "from IPython.extensions import autoreload\n",
    "%load_ext autoreload\n",
    "%autoreload 2\n",
    "import os, glob, re, sys, json\n",
    "import pandas as pd\n",
    "import numpy as np\n",
    "import matplotlib.pyplot as plt\n",
    "import seaborn as sns\n",
    "\n",
    "# from wand.image import Image as WImage\n",
    "from IPython.display import IFrame, display\n",
    "\n",
    "from pyDOE import lhs\n",
    "from history_matching import HistoryMatching, HistoryMatchingCut, quick_read, Basis\n",
    "\n",
    "sns.set(font_scale=2)\n",
    "sns.set_style(\"white\")"
   ]
  },
  {
   "cell_type": "code",
   "execution_count": 2,
   "metadata": {},
   "outputs": [],
   "source": [
    "def fix_glob(pth):\n",
    "    return re.sub('([\\[\\]])','[\\\\1]', pth)"
   ]
  },
  {
   "cell_type": "markdown",
   "metadata": {},
   "source": [
    "# Configure parameters and data for history matching"
   ]
  },
  {
   "cell_type": "code",
   "execution_count": 3,
   "metadata": {},
   "outputs": [],
   "source": [
    "age_bin = ['20.0-40.0']\n",
    "cut_name = f'Duration for'\n",
    "DROP_BIN_20 = True\n",
    "\n",
    "# iteration = int(re.search(r'iter(\\d+)', os.getcwd())) # Index of the current iteration\n",
    "iteration = 0 \n",
    "#list of exp_ids/folders that correspond to exp_ids from which our emulation will draw\n",
    "exp_ids = ['8435ba1a-12b8-e911-a2c1-c4346bcb1555'] # TODO: only uses first for now, should loop\n",
    "basedir = 'C:\\git\\Malaria-Uganda-PRISM'\n",
    "datafile = os.path.join(basedir, 'v0-challengeTrial','reference data', 'Ghana_Durations.xlsx')"
   ]
  },
  {
   "cell_type": "code",
   "execution_count": 4,
   "metadata": {},
   "outputs": [],
   "source": [
    "# The implausibility threshold determines how willing we are to retain regions\n",
    "# of parameter space that are inconsistent with the underlying data. A higher\n",
    "# threshold is more risk averse in that potentially good regions are less likely\n",
    "# to be rejected, however it will take more iterations/simulations to achieve results.\n",
    "implausibility_threshold = 3\n",
    "training_fraction = 0.75 # Fraction of simulations to use as training\n",
    "discrepancy_std = 0.0 # Accounts for uncertainty w.r.t model structure\n",
    "n_samples_to_generate_for_next_iter = 1000 # Number of simulations to conduct on this iteration"
   ]
  },
  {
   "cell_type": "code",
   "execution_count": 5,
   "metadata": {},
   "outputs": [
    {
     "name": "stdout",
     "output_type": "stream",
     "text": [
      "Reading Params from ..\\Params_1aed7489c975abea315d4649ccac49be.hd5\n"
     ]
    },
    {
     "data": {
      "text/html": [
       "<div>\n",
       "<style scoped>\n",
       "    .dataframe tbody tr th:only-of-type {\n",
       "        vertical-align: middle;\n",
       "    }\n",
       "\n",
       "    .dataframe tbody tr th {\n",
       "        vertical-align: top;\n",
       "    }\n",
       "\n",
       "    .dataframe thead th {\n",
       "        text-align: right;\n",
       "    }\n",
       "</style>\n",
       "<table border=\"1\" class=\"dataframe\">\n",
       "  <thead>\n",
       "    <tr style=\"text-align: right;\">\n",
       "      <th></th>\n",
       "      <th>Min</th>\n",
       "      <th>Max</th>\n",
       "      <th>MapTo</th>\n",
       "    </tr>\n",
       "    <tr>\n",
       "      <th>Name</th>\n",
       "      <th></th>\n",
       "      <th></th>\n",
       "      <th></th>\n",
       "    </tr>\n",
       "  </thead>\n",
       "  <tbody>\n",
       "    <tr>\n",
       "      <th>TM_Fixed_Scale_Factor</th>\n",
       "      <td>-1</td>\n",
       "      <td>1</td>\n",
       "      <td>TM_Fixed_Scale_Factor</td>\n",
       "    </tr>\n",
       "    <tr>\n",
       "      <th>PPP_Scale_Factor</th>\n",
       "      <td>0</td>\n",
       "      <td>2</td>\n",
       "      <td>PPP_Scale_Factor</td>\n",
       "    </tr>\n",
       "  </tbody>\n",
       "</table>\n",
       "</div>"
      ],
      "text/plain": [
       "                       Min  Max                  MapTo\n",
       "Name                                                  \n",
       "TM_Fixed_Scale_Factor   -1    1  TM_Fixed_Scale_Factor\n",
       "PPP_Scale_Factor         0    2       PPP_Scale_Factor"
      ]
     },
     "metadata": {},
     "output_type": "display_data"
    }
   ],
   "source": [
    "# Here we define the parameter names and ranges\n",
    "params_file = os.path.join('..','Params.xlsx')\n",
    "param_info = quick_read(params_file, 'Params').set_index('Name')\n",
    "param_names = param_info.index.tolist()\n",
    "\n",
    "params = param_info.index.values\n",
    "n_params = param_info.shape[0] # We'll use this one place later\n",
    "display(param_info)"
   ]
  },
  {
   "cell_type": "markdown",
   "metadata": {},
   "source": [
    "## Read in Sim Results"
   ]
  },
  {
   "cell_type": "code",
   "execution_count": 6,
   "metadata": {},
   "outputs": [
    {
     "name": "stdout",
     "output_type": "stream",
     "text": [
      "-------------------------------------------------------------------------------- \n",
      "Experiment: 8435ba1a-12b8-e911-a2c1-c4346bcb1555\n",
      "C:\\git\\Malaria-Uganda-PRISM\\v0-challengeTrial\\iter0\\8435ba1a-12b8-e911-a2c1-c4346bcb1555\\analyzer_results.csv\n"
     ]
    },
    {
     "data": {
      "text/html": [
       "<div>\n",
       "<style scoped>\n",
       "    .dataframe tbody tr th:only-of-type {\n",
       "        vertical-align: middle;\n",
       "    }\n",
       "\n",
       "    .dataframe tbody tr th {\n",
       "        vertical-align: top;\n",
       "    }\n",
       "\n",
       "    .dataframe thead th {\n",
       "        text-align: right;\n",
       "    }\n",
       "</style>\n",
       "<table border=\"1\" class=\"dataframe\">\n",
       "  <thead>\n",
       "    <tr style=\"text-align: right;\">\n",
       "      <th></th>\n",
       "      <th></th>\n",
       "      <th>Sim_Result</th>\n",
       "    </tr>\n",
       "    <tr>\n",
       "      <th>Sample_Id</th>\n",
       "      <th>Sim_Id</th>\n",
       "      <th></th>\n",
       "    </tr>\n",
       "  </thead>\n",
       "  <tbody>\n",
       "    <tr>\n",
       "      <th>8435ba1a-12b8-e911-a2c1-c4346bcb1555.000000</th>\n",
       "      <th>532f0527-12b8-e911-a2c1-c4346bcb1555</th>\n",
       "      <td>62.929000</td>\n",
       "    </tr>\n",
       "    <tr>\n",
       "      <th>8435ba1a-12b8-e911-a2c1-c4346bcb1555.000001</th>\n",
       "      <th>542f0527-12b8-e911-a2c1-c4346bcb1555</th>\n",
       "      <td>61.925926</td>\n",
       "    </tr>\n",
       "    <tr>\n",
       "      <th>8435ba1a-12b8-e911-a2c1-c4346bcb1555.000002</th>\n",
       "      <th>552f0527-12b8-e911-a2c1-c4346bcb1555</th>\n",
       "      <td>61.243000</td>\n",
       "    </tr>\n",
       "    <tr>\n",
       "      <th>8435ba1a-12b8-e911-a2c1-c4346bcb1555.000003</th>\n",
       "      <th>562f0527-12b8-e911-a2c1-c4346bcb1555</th>\n",
       "      <td>62.872000</td>\n",
       "    </tr>\n",
       "    <tr>\n",
       "      <th>8435ba1a-12b8-e911-a2c1-c4346bcb1555.000004</th>\n",
       "      <th>572f0527-12b8-e911-a2c1-c4346bcb1555</th>\n",
       "      <td>62.514000</td>\n",
       "    </tr>\n",
       "  </tbody>\n",
       "</table>\n",
       "</div>"
      ],
      "text/plain": [
       "                                                                                  Sim_Result\n",
       "Sample_Id                                   Sim_Id                                          \n",
       "8435ba1a-12b8-e911-a2c1-c4346bcb1555.000000 532f0527-12b8-e911-a2c1-c4346bcb1555   62.929000\n",
       "8435ba1a-12b8-e911-a2c1-c4346bcb1555.000001 542f0527-12b8-e911-a2c1-c4346bcb1555   61.925926\n",
       "8435ba1a-12b8-e911-a2c1-c4346bcb1555.000002 552f0527-12b8-e911-a2c1-c4346bcb1555   61.243000\n",
       "8435ba1a-12b8-e911-a2c1-c4346bcb1555.000003 562f0527-12b8-e911-a2c1-c4346bcb1555   62.872000\n",
       "8435ba1a-12b8-e911-a2c1-c4346bcb1555.000004 572f0527-12b8-e911-a2c1-c4346bcb1555   62.514000"
      ]
     },
     "metadata": {},
     "output_type": "display_data"
    }
   ],
   "source": [
    "all_samples = []\n",
    "all_results = []\n",
    "for exp_id in exp_ids:\n",
    "    \n",
    "    print('-'*80, '\\nExperiment:', exp_id)\n",
    "    sim_results_fn = os.path.join(basedir,'v0-challengeTrial','iter0', exp_id, 'analyzer_results.csv')\n",
    "    print(sim_results_fn)\n",
    "    sr = pd.read_csv(sim_results_fn, skipinitialspace=True)\n",
    "    sr['Sample_Id'] = sr['sample'].apply(lambda x: '%s.%06d' % (exp_id, x))\n",
    "    sr.rename(columns = {'sim_id': 'Sim_Id','age_cat': 'AgeBin','value':'Result'}, inplace=True)\n",
    "    all_results.append( sr )\n",
    "    #read in tags making a samples.xlsx file \n",
    "    s = pd.read_excel(os.path.join(basedir,'v0-challengeTrial','iter0', exp_id, 'Samples.xlsx'))\n",
    "    # s.drop('Sim_Id', axis=1, inplace=True)\n",
    "    s['Sample_Id'] = s['Sample'].apply(lambda x: '%s.%06d' % (exp_id, x))\n",
    "    all_samples.append( s )\n",
    "\n",
    "#.rename(columns={'level_1': 'Year', 0: 'Cases'}) \\\n",
    "all_results = pd.concat(all_results) \\\n",
    "    .set_index(['Sample_Id', 'Sim_Id', 'AgeBin']) \\\n",
    "    [['Result']] \\\n",
    "    .sort_index()\n",
    "\n",
    "samples = pd.concat(all_samples).set_index('Sample_Id').sort_index() # Bad because sample will be repeated across exp_id!\n",
    "                       \n",
    "samples.to_csv('Samples.csv')\n",
    "all_results.to_csv('Results_by_age.csv')\n",
    "results = all_results['Result']\n",
    "\n",
    "results = all_results[ \n",
    "        \n",
    "        (all_results.index.get_level_values('AgeBin').isin(age_bin))\n",
    "    ] \\\n",
    "    .groupby(['Sample_Id', 'Sim_Id']) \\\n",
    "    .mean()\n",
    "\n",
    "    \n",
    "results.rename(columns={'Result':'Sim_Result'}, inplace=True)\n",
    "\n",
    "display(results.head())"
   ]
  },
  {
   "cell_type": "code",
   "execution_count": 7,
   "metadata": {},
   "outputs": [
    {
     "name": "stdout",
     "output_type": "stream",
     "text": [
      "Before logit, desired result is 129.000 [123.898, 134.102]: \n"
     ]
    }
   ],
   "source": [
    "ref_data_path = os.path.join('..','reference data','GhanaDurations.xlsx')\n",
    "ref_df = pd.read_excel(ref_data_path)\n",
    "\n",
    "# how to set the cwd\n",
    "\n",
    "\n",
    "desired_result_ref_age = ref_df.loc[ref_df['Age bin'] == int(age_bin[0][:2])]\n",
    "desired_result = desired_result_ref_age['Mean']\n",
    "desired_result_std = (desired_result_ref_age['CI_upper']-desired_result_ref_age['CI_lower'])/(2*1.96)\n",
    "\n",
    "desired_result = desired_result.values[[0]].item()\n",
    "desired_result_std = desired_result_std.values[[0]].item()\n",
    "\n",
    "print('Before logit, desired result is %.3f [%.3f, %.3f]: ' % (desired_result, desired_result-2*desired_result_std, desired_result+2*desired_result_std))\n"
   ]
  },
  {
   "cell_type": "code",
   "execution_count": 8,
   "metadata": {},
   "outputs": [
    {
     "ename": "KeyError",
     "evalue": "'the label [Biological_Age_Immune_Coefficient_PPP] is not in the [index]'",
     "output_type": "error",
     "traceback": [
      "\u001b[0;31m---------------------------------------------------------------------------\u001b[0m",
      "\u001b[0;31mKeyError\u001b[0m                                  Traceback (most recent call last)",
      "\u001b[0;32mc:\\venv\\malaria-ug-icemr\\lib\\site-packages\\pandas\\core\\indexing.py\u001b[0m in \u001b[0;36m_validate_key\u001b[0;34m(self, key, axis)\u001b[0m\n\u001b[1;32m   1789\u001b[0m                 \u001b[0;32mif\u001b[0m \u001b[0;32mnot\u001b[0m \u001b[0max\u001b[0m\u001b[0;34m.\u001b[0m\u001b[0mcontains\u001b[0m\u001b[0;34m(\u001b[0m\u001b[0mkey\u001b[0m\u001b[0;34m)\u001b[0m\u001b[0;34m:\u001b[0m\u001b[0;34m\u001b[0m\u001b[0m\n\u001b[0;32m-> 1790\u001b[0;31m                     \u001b[0merror\u001b[0m\u001b[0;34m(\u001b[0m\u001b[0;34m)\u001b[0m\u001b[0;34m\u001b[0m\u001b[0m\n\u001b[0m\u001b[1;32m   1791\u001b[0m             \u001b[0;32mexcept\u001b[0m \u001b[0mTypeError\u001b[0m \u001b[0;32mas\u001b[0m \u001b[0me\u001b[0m\u001b[0;34m:\u001b[0m\u001b[0;34m\u001b[0m\u001b[0m\n",
      "\u001b[0;32mc:\\venv\\malaria-ug-icemr\\lib\\site-packages\\pandas\\core\\indexing.py\u001b[0m in \u001b[0;36merror\u001b[0;34m()\u001b[0m\n\u001b[1;32m   1784\u001b[0m                                .format(key=key,\n\u001b[0;32m-> 1785\u001b[0;31m                                        axis=self.obj._get_axis_name(axis)))\n\u001b[0m\u001b[1;32m   1786\u001b[0m \u001b[0;34m\u001b[0m\u001b[0m\n",
      "\u001b[0;31mKeyError\u001b[0m: 'the label [Biological_Age_Immune_Coefficient_PPP] is not in the [index]'",
      "\nDuring handling of the above exception, another exception occurred:\n",
      "\u001b[0;31mKeyError\u001b[0m                                  Traceback (most recent call last)",
      "\u001b[0;32m<ipython-input-8-a08e13305c2a>\u001b[0m in \u001b[0;36m<module>\u001b[0;34m()\u001b[0m\n\u001b[1;32m      8\u001b[0m     \u001b[0mplt\u001b[0m\u001b[0;34m.\u001b[0m\u001b[0mscatter\u001b[0m\u001b[0;34m(\u001b[0m\u001b[0mz\u001b[0m\u001b[0;34m[\u001b[0m\u001b[0mxvar\u001b[0m\u001b[0;34m]\u001b[0m\u001b[0;34m,\u001b[0m \u001b[0mz\u001b[0m\u001b[0;34m[\u001b[0m\u001b[0myvar\u001b[0m\u001b[0;34m]\u001b[0m\u001b[0;34m,\u001b[0m \u001b[0mc\u001b[0m\u001b[0;34m=\u001b[0m\u001b[0;36m100\u001b[0m\u001b[0;34m*\u001b[0m\u001b[0mz\u001b[0m\u001b[0;34m[\u001b[0m\u001b[0;34m'Sim_Result'\u001b[0m\u001b[0;34m]\u001b[0m\u001b[0;34m,\u001b[0m \u001b[0ms\u001b[0m\u001b[0;34m=\u001b[0m\u001b[0;36m1\u001b[0m\u001b[0;34m*\u001b[0m\u001b[0mz\u001b[0m\u001b[0;34m[\u001b[0m\u001b[0;34m'Sim_Result'\u001b[0m\u001b[0;34m]\u001b[0m\u001b[0;34m,\u001b[0m \u001b[0mcmap\u001b[0m\u001b[0;34m=\u001b[0m\u001b[0;34m'jet'\u001b[0m\u001b[0;34m)\u001b[0m\u001b[0;34m\u001b[0m\u001b[0m\n\u001b[1;32m      9\u001b[0m     \u001b[0mplt\u001b[0m\u001b[0;34m.\u001b[0m\u001b[0mxlabel\u001b[0m\u001b[0;34m(\u001b[0m\u001b[0mxvar\u001b[0m\u001b[0;34m)\u001b[0m\u001b[0;34m;\u001b[0m \u001b[0mplt\u001b[0m\u001b[0;34m.\u001b[0m\u001b[0mylabel\u001b[0m\u001b[0;34m(\u001b[0m\u001b[0myvar\u001b[0m\u001b[0;34m)\u001b[0m\u001b[0;34m\u001b[0m\u001b[0m\n\u001b[0;32m---> 10\u001b[0;31m     \u001b[0mplt\u001b[0m\u001b[0;34m.\u001b[0m\u001b[0mxlim\u001b[0m\u001b[0;34m(\u001b[0m\u001b[0;34m[\u001b[0m\u001b[0mparam_info\u001b[0m\u001b[0;34m.\u001b[0m\u001b[0mloc\u001b[0m\u001b[0;34m[\u001b[0m\u001b[0mxvar\u001b[0m\u001b[0;34m,\u001b[0m \u001b[0;34m'Min'\u001b[0m\u001b[0;34m]\u001b[0m\u001b[0;34m,\u001b[0m \u001b[0mparam_info\u001b[0m\u001b[0;34m.\u001b[0m\u001b[0mloc\u001b[0m\u001b[0;34m[\u001b[0m\u001b[0mxvar\u001b[0m\u001b[0;34m,\u001b[0m \u001b[0;34m'Max'\u001b[0m\u001b[0;34m]\u001b[0m\u001b[0;34m]\u001b[0m\u001b[0;34m)\u001b[0m\u001b[0;34m\u001b[0m\u001b[0m\n\u001b[0m\u001b[1;32m     11\u001b[0m     \u001b[0mplt\u001b[0m\u001b[0;34m.\u001b[0m\u001b[0mylim\u001b[0m\u001b[0;34m(\u001b[0m\u001b[0;34m[\u001b[0m\u001b[0mparam_info\u001b[0m\u001b[0;34m.\u001b[0m\u001b[0mloc\u001b[0m\u001b[0;34m[\u001b[0m\u001b[0myvar\u001b[0m\u001b[0;34m,\u001b[0m \u001b[0;34m'Min'\u001b[0m\u001b[0;34m]\u001b[0m\u001b[0;34m,\u001b[0m \u001b[0mparam_info\u001b[0m\u001b[0;34m.\u001b[0m\u001b[0mloc\u001b[0m\u001b[0;34m[\u001b[0m\u001b[0myvar\u001b[0m\u001b[0;34m,\u001b[0m \u001b[0;34m'Max'\u001b[0m\u001b[0;34m]\u001b[0m\u001b[0;34m]\u001b[0m\u001b[0;34m)\u001b[0m\u001b[0;34m\u001b[0m\u001b[0m\n\u001b[1;32m     12\u001b[0m     \u001b[0;31m# TODO: Show as surface and plot desired result as isocline\u001b[0m\u001b[0;34m\u001b[0m\u001b[0;34m\u001b[0m\u001b[0m\n",
      "\u001b[0;32mc:\\venv\\malaria-ug-icemr\\lib\\site-packages\\pandas\\core\\indexing.py\u001b[0m in \u001b[0;36m__getitem__\u001b[0;34m(self, key)\u001b[0m\n\u001b[1;32m   1470\u001b[0m             \u001b[0;32mexcept\u001b[0m \u001b[0;34m(\u001b[0m\u001b[0mKeyError\u001b[0m\u001b[0;34m,\u001b[0m \u001b[0mIndexError\u001b[0m\u001b[0;34m)\u001b[0m\u001b[0;34m:\u001b[0m\u001b[0;34m\u001b[0m\u001b[0m\n\u001b[1;32m   1471\u001b[0m                 \u001b[0;32mpass\u001b[0m\u001b[0;34m\u001b[0m\u001b[0m\n\u001b[0;32m-> 1472\u001b[0;31m             \u001b[0;32mreturn\u001b[0m \u001b[0mself\u001b[0m\u001b[0;34m.\u001b[0m\u001b[0m_getitem_tuple\u001b[0m\u001b[0;34m(\u001b[0m\u001b[0mkey\u001b[0m\u001b[0;34m)\u001b[0m\u001b[0;34m\u001b[0m\u001b[0m\n\u001b[0m\u001b[1;32m   1473\u001b[0m         \u001b[0;32melse\u001b[0m\u001b[0;34m:\u001b[0m\u001b[0;34m\u001b[0m\u001b[0m\n\u001b[1;32m   1474\u001b[0m             \u001b[0;31m# we by definition only have the 0th axis\u001b[0m\u001b[0;34m\u001b[0m\u001b[0;34m\u001b[0m\u001b[0m\n",
      "\u001b[0;32mc:\\venv\\malaria-ug-icemr\\lib\\site-packages\\pandas\\core\\indexing.py\u001b[0m in \u001b[0;36m_getitem_tuple\u001b[0;34m(self, tup)\u001b[0m\n\u001b[1;32m    868\u001b[0m     \u001b[0;32mdef\u001b[0m \u001b[0m_getitem_tuple\u001b[0m\u001b[0;34m(\u001b[0m\u001b[0mself\u001b[0m\u001b[0;34m,\u001b[0m \u001b[0mtup\u001b[0m\u001b[0;34m)\u001b[0m\u001b[0;34m:\u001b[0m\u001b[0;34m\u001b[0m\u001b[0m\n\u001b[1;32m    869\u001b[0m         \u001b[0;32mtry\u001b[0m\u001b[0;34m:\u001b[0m\u001b[0;34m\u001b[0m\u001b[0m\n\u001b[0;32m--> 870\u001b[0;31m             \u001b[0;32mreturn\u001b[0m \u001b[0mself\u001b[0m\u001b[0;34m.\u001b[0m\u001b[0m_getitem_lowerdim\u001b[0m\u001b[0;34m(\u001b[0m\u001b[0mtup\u001b[0m\u001b[0;34m)\u001b[0m\u001b[0;34m\u001b[0m\u001b[0m\n\u001b[0m\u001b[1;32m    871\u001b[0m         \u001b[0;32mexcept\u001b[0m \u001b[0mIndexingError\u001b[0m\u001b[0;34m:\u001b[0m\u001b[0;34m\u001b[0m\u001b[0m\n\u001b[1;32m    872\u001b[0m             \u001b[0;32mpass\u001b[0m\u001b[0;34m\u001b[0m\u001b[0m\n",
      "\u001b[0;32mc:\\venv\\malaria-ug-icemr\\lib\\site-packages\\pandas\\core\\indexing.py\u001b[0m in \u001b[0;36m_getitem_lowerdim\u001b[0;34m(self, tup)\u001b[0m\n\u001b[1;32m    996\u001b[0m         \u001b[0;32mfor\u001b[0m \u001b[0mi\u001b[0m\u001b[0;34m,\u001b[0m \u001b[0mkey\u001b[0m \u001b[0;32min\u001b[0m \u001b[0menumerate\u001b[0m\u001b[0;34m(\u001b[0m\u001b[0mtup\u001b[0m\u001b[0;34m)\u001b[0m\u001b[0;34m:\u001b[0m\u001b[0;34m\u001b[0m\u001b[0m\n\u001b[1;32m    997\u001b[0m             \u001b[0;32mif\u001b[0m \u001b[0mis_label_like\u001b[0m\u001b[0;34m(\u001b[0m\u001b[0mkey\u001b[0m\u001b[0;34m)\u001b[0m \u001b[0;32mor\u001b[0m \u001b[0misinstance\u001b[0m\u001b[0;34m(\u001b[0m\u001b[0mkey\u001b[0m\u001b[0;34m,\u001b[0m \u001b[0mtuple\u001b[0m\u001b[0;34m)\u001b[0m\u001b[0;34m:\u001b[0m\u001b[0;34m\u001b[0m\u001b[0m\n\u001b[0;32m--> 998\u001b[0;31m                 \u001b[0msection\u001b[0m \u001b[0;34m=\u001b[0m \u001b[0mself\u001b[0m\u001b[0;34m.\u001b[0m\u001b[0m_getitem_axis\u001b[0m\u001b[0;34m(\u001b[0m\u001b[0mkey\u001b[0m\u001b[0;34m,\u001b[0m \u001b[0maxis\u001b[0m\u001b[0;34m=\u001b[0m\u001b[0mi\u001b[0m\u001b[0;34m)\u001b[0m\u001b[0;34m\u001b[0m\u001b[0m\n\u001b[0m\u001b[1;32m    999\u001b[0m \u001b[0;34m\u001b[0m\u001b[0m\n\u001b[1;32m   1000\u001b[0m                 \u001b[0;31m# we have yielded a scalar ?\u001b[0m\u001b[0;34m\u001b[0m\u001b[0;34m\u001b[0m\u001b[0m\n",
      "\u001b[0;32mc:\\venv\\malaria-ug-icemr\\lib\\site-packages\\pandas\\core\\indexing.py\u001b[0m in \u001b[0;36m_getitem_axis\u001b[0;34m(self, key, axis)\u001b[0m\n\u001b[1;32m   1909\u001b[0m \u001b[0;34m\u001b[0m\u001b[0m\n\u001b[1;32m   1910\u001b[0m         \u001b[0;31m# fall thru to straight lookup\u001b[0m\u001b[0;34m\u001b[0m\u001b[0;34m\u001b[0m\u001b[0m\n\u001b[0;32m-> 1911\u001b[0;31m         \u001b[0mself\u001b[0m\u001b[0;34m.\u001b[0m\u001b[0m_validate_key\u001b[0m\u001b[0;34m(\u001b[0m\u001b[0mkey\u001b[0m\u001b[0;34m,\u001b[0m \u001b[0maxis\u001b[0m\u001b[0;34m)\u001b[0m\u001b[0;34m\u001b[0m\u001b[0m\n\u001b[0m\u001b[1;32m   1912\u001b[0m         \u001b[0;32mreturn\u001b[0m \u001b[0mself\u001b[0m\u001b[0;34m.\u001b[0m\u001b[0m_get_label\u001b[0m\u001b[0;34m(\u001b[0m\u001b[0mkey\u001b[0m\u001b[0;34m,\u001b[0m \u001b[0maxis\u001b[0m\u001b[0;34m=\u001b[0m\u001b[0maxis\u001b[0m\u001b[0;34m)\u001b[0m\u001b[0;34m\u001b[0m\u001b[0m\n\u001b[1;32m   1913\u001b[0m \u001b[0;34m\u001b[0m\u001b[0m\n",
      "\u001b[0;32mc:\\venv\\malaria-ug-icemr\\lib\\site-packages\\pandas\\core\\indexing.py\u001b[0m in \u001b[0;36m_validate_key\u001b[0;34m(self, key, axis)\u001b[0m\n\u001b[1;32m   1796\u001b[0m                 \u001b[0;32mraise\u001b[0m\u001b[0;34m\u001b[0m\u001b[0m\n\u001b[1;32m   1797\u001b[0m             \u001b[0;32mexcept\u001b[0m\u001b[0;34m:\u001b[0m\u001b[0;34m\u001b[0m\u001b[0m\n\u001b[0;32m-> 1798\u001b[0;31m                 \u001b[0merror\u001b[0m\u001b[0;34m(\u001b[0m\u001b[0;34m)\u001b[0m\u001b[0;34m\u001b[0m\u001b[0m\n\u001b[0m\u001b[1;32m   1799\u001b[0m \u001b[0;34m\u001b[0m\u001b[0m\n\u001b[1;32m   1800\u001b[0m     \u001b[0;32mdef\u001b[0m \u001b[0m_is_scalar_access\u001b[0m\u001b[0;34m(\u001b[0m\u001b[0mself\u001b[0m\u001b[0;34m,\u001b[0m \u001b[0mkey\u001b[0m\u001b[0;34m)\u001b[0m\u001b[0;34m:\u001b[0m\u001b[0;34m\u001b[0m\u001b[0m\n",
      "\u001b[0;32mc:\\venv\\malaria-ug-icemr\\lib\\site-packages\\pandas\\core\\indexing.py\u001b[0m in \u001b[0;36merror\u001b[0;34m()\u001b[0m\n\u001b[1;32m   1783\u001b[0m                 raise KeyError(u\"the label [{key}] is not in the [{axis}]\"\n\u001b[1;32m   1784\u001b[0m                                .format(key=key,\n\u001b[0;32m-> 1785\u001b[0;31m                                        axis=self.obj._get_axis_name(axis)))\n\u001b[0m\u001b[1;32m   1786\u001b[0m \u001b[0;34m\u001b[0m\u001b[0m\n\u001b[1;32m   1787\u001b[0m             \u001b[0;32mtry\u001b[0m\u001b[0;34m:\u001b[0m\u001b[0;34m\u001b[0m\u001b[0m\n",
      "\u001b[0;31mKeyError\u001b[0m: 'the label [Biological_Age_Immune_Coefficient_PPP] is not in the [index]'"
     ]
    },
    {
     "data": {
      "image/png": "[encoded data removed]",
      "text/plain": [
       "<Figure size 432x432 with 1 Axes>"
      ]
     },
     "metadata": {
      "needs_background": "light"
     },
     "output_type": "display_data"
    }
   ],
   "source": [
    "z = pd.merge(samples, results, on='Sample_Id') # Return to Sample_Id\n",
    "\n",
    "#sub in variables here, can be list of tuples\n",
    "xyvars = [('TM_Fixed_Scale_Factor',\t'PPP_Scale_Factor'\n",
    ")]\n",
    "for (xvar, yvar) in xyvars:\n",
    "    fig = plt.figure(figsize=(6,6))\n",
    "    plt.scatter(z[xvar], z[yvar], c=100*z['Sim_Result'], s=1*z['Sim_Result'], cmap='jet')\n",
    "    plt.xlabel(xvar); plt.ylabel(yvar)\n",
    "    plt.xlim([param_info.loc[xvar, 'Min'], param_info.loc[xvar, 'Max']])\n",
    "    plt.ylim([param_info.loc[yvar, 'Min'], param_info.loc[yvar, 'Max']])\n",
    "    # TODO: Show as surface and plot desired result as isocline\n",
    "plt.show()"
   ]
  },
  {
   "cell_type": "code",
   "execution_count": null,
   "metadata": {},
   "outputs": [],
   "source": [
    "# Finally we get to do some History Matching!\n",
    "# Begin by creating an instance of the HistoryMatching class\n",
    "ext = 'svg' # Filetype for figures produced by history matching\n",
    "hm = HistoryMatching(\n",
    "    cut_name = cut_name,\n",
    "    param_info = param_info,\n",
    "    inputs = samples,\n",
    "    results = results.squeeze(),\n",
    "    desired_result = desired_result,\n",
    "    desired_result_var = desired_result_std**2,\n",
    "    iteration = iteration,\n",
    "    implausibility_threshold = implausibility_threshold,\n",
    "    discrepancy_var = discrepancy_std**2,\n",
    "    training_fraction = training_fraction,\n",
    "    fig_type = ext\n",
    ")\n",
    "hm.save() # Save to disk"
   ]
  },
  {
   "cell_type": "code",
   "execution_count": null,
   "metadata": {},
   "outputs": [],
   "source": [
    "try:\n",
    "    existing_basis = True\n",
    "    need_basis = True\n",
    "    with open(os.path.join('Cuts', cut_name, 'basis_glm.json')) as data_file:\n",
    "        config = json.load( data_file )\n",
    "        basis_glm = Basis.deserialize(config['Basis'])\n",
    "        fitted_values = pd.read_json(config['Fitted_Values'], orient='split').set_index(['Sample_Id', 'Sim_Id']).squeeze()\n",
    "except:\n",
    "    existing_basis = False\n",
    "    \n",
    "if existing_basis:\n",
    "    print('Found existing GLM basis with the following terms:')\n",
    "    display(basis_glm.model_terms)\n",
    "    reply = input('Would you like to use this basis? [Y]/n: ')\n",
    "    \n",
    "    if reply.lower() != 'n':\n",
    "        need_basis = False\n",
    "    \n",
    "if need_basis:\n",
    "    basis_glm = Basis.polynomial_basis(params=param_names, intercept = True, first_order=True, second_order=True, third_order=False, param_info=param_info)\n",
    "\n",
    "#     basis_glm.plot_regularize(samples, results, alpha = np.logspace(-5, -2, 15), scaleX=True)\n",
    "#     alpha_glm = float(input('What would you like to use for the GLM regularization parameter, alpha_glm = '))\n",
    "    alpha_glm = 1e-1\n",
    "    \n",
    "    fitted_values = basis_glm.regularize(samples, results, alpha = alpha_glm, scaleX=True)\n",
    "    print('Regularization for GLM selected:\\n', ' *','\\n * '.join(basis_glm.get_terms()))\n",
    "    with open(os.path.join('Cuts', cut_name, 'basis_glm.json'), 'w') as fout:\n",
    "        json.dump( {\n",
    "            'Basis': basis_glm.serialize(),\n",
    "            'Fitted_Values': fitted_values.reset_index().to_json(orient='split')\n",
    "        }, fout, indent=4)"
   ]
  },
  {
   "cell_type": "code",
   "execution_count": null,
   "metadata": {},
   "outputs": [],
   "source": [
    "# Now fit the glm and plot\n",
    "\n",
    "### GLM ###############################################################\n",
    "print(\"=\"*80, \"\\nGeneralized Linear Modeling\\n\", \"=\"*80)\n",
    "#######################################################################\n",
    "f = hm.glm(\n",
    "    basis = basis_glm,\n",
    "    family = 'Poisson',\n",
    "    force_optimize_glm = True,\n",
    "    glm_fit_maxiter = 100000,\n",
    "    plot = True, #force_optimize_glm,\n",
    "    plot_data = False\n",
    ")"
   ]
  },
  {
   "cell_type": "code",
   "execution_count": null,
   "metadata": {},
   "outputs": [],
   "source": [
    "for file in glob.glob(fix_glob(os.path.join(hm.glmdir, \"PairwiseResults\", \"*.%s\"%ext))):\n",
    "    img = IFrame(file, width=800, height=600)\n",
    "    print(file)\n",
    "    display(img)"
   ]
  },
  {
   "cell_type": "code",
   "execution_count": null,
   "metadata": {},
   "outputs": [],
   "source": [
    "# Results get saved to disk, so load and display:\n",
    "for file in glob.glob(fix_glob(os.path.join(hm.glmdir, \"GLM Predicted vs Actual*.%s\"%ext))):\n",
    "    img = IFrame(file, width=800, height=600)\n",
    "    print(file)\n",
    "    display(img)"
   ]
  },
  {
   "cell_type": "code",
   "execution_count": null,
   "metadata": {},
   "outputs": [],
   "source": [
    "basis_gpr = Basis.polynomial_basis(\n",
    "    params =  ['Scale_Factor_Age_a', 'Scale_Factor_Age_b'],\n",
    "    #params = param_info.index.values, #\n",
    "    intercept = False, \n",
    "    first_order = True, \n",
    "    param_info=param_info)"
   ]
  },
  {
   "cell_type": "code",
   "execution_count": null,
   "metadata": {},
   "outputs": [],
   "source": [
    "\n",
    "### GPR ###############################################################\n",
    "print(\"=\"*80, \"\\nGaussian Process Regression\\n\", \"=\"*80)\n",
    "#######################################################################\n",
    "hm.gpr(\n",
    "    basis = basis_gpr,\n",
    "    force_optimize_gpr = True,\n",
    "\n",
    "    sigma2_f_guess = 0.6,\n",
    "    sigma2_f_bounds = (0.1, 1000),\n",
    "    sigma2_n_guess =  2.0,\n",
    "    sigma2_n_bounds = (0.01, 100),\n",
    "\n",
    "    #lengthscale_guess = [0.09844299, 0.1256657, 0.0976875, 0.09889085, 0.1051974, 0.0950809, 0.10032171, 0.10599185, 0.10627393, 0.09950996, 0.09445544, 0.10285915, 0.10007409, 0.09847433, 0.08963389, 0.10205652, 0.09360044, 0.1024141, 0.09786228, 0.10247492, 0.09852253, 0.09632744, 0.09997534, 0.10767302, 0.10095249, 0.09941825, 0.10214923, 0.10221497, 0.09734157, 0.09093285, 0.10780673, 0.09881377, 0.10597152],\n",
    "    lengthscale_guess = 0.25,\n",
    "    lengthscale_bounds = (0.01, 100),\n",
    "\n",
    "    optimize_sigma2_n = True,\n",
    "    log_transform = False,\n",
    "\n",
    "    verbose = True,\n",
    "    optimizer_options = {\n",
    "        'eps': 5e-3,\n",
    "        'disp': True,\n",
    "        'maxiter': 15000,\n",
    "        'ftol': 2 * np.finfo(float).eps,\n",
    "        'gtol': 2 * np.finfo(float).eps,\n",
    "    },\n",
    "    plot = True, #force_optimize_gpr,\n",
    "    plot_data = False\n",
    ")"
   ]
  },
  {
   "cell_type": "code",
   "execution_count": null,
   "metadata": {},
   "outputs": [],
   "source": [
    "pi = param_info.loc[basis_gpr.param_dict.keys()].reset_index()\n",
    "pi['Lengthscale'] = hm.gpr_model.theta[2:]\n",
    "print(pi[['Name', 'Lengthscale']].sort_values('Lengthscale'))"
   ]
  },
  {
   "cell_type": "code",
   "execution_count": null,
   "metadata": {},
   "outputs": [],
   "source": [
    "# Results get saved to disk, so load and display:\n",
    "for file in glob.glob(fix_glob(os.path.join(hm.gprdir, \"PairwiseResults\", \"*.%s\"%ext))):\n",
    "    img = IFrame(file, width=800, height=600)\n",
    "    print(file)\n",
    "    display(img)"
   ]
  },
  {
   "cell_type": "code",
   "execution_count": null,
   "metadata": {},
   "outputs": [],
   "source": [
    "### Implausibility ############################################################\n",
    "print(\"=\"*80, \"\\nImplausibility\\n\", \"=\"*80)\n",
    "###############################################################################\n",
    "hm.calc_and_plot_implausibility(\n",
    "    plot = True,\n",
    "    do_plot_data = False,\n",
    "    plot_data_highlight = pd.DataFrame() #hm.test_data.loc['prime.000049']\n",
    ") \n",
    "    #plot_data_highlight=pd.DataFrame() # plot_data_highlight=hm.training_data.loc['prime.000049']\n",
    "\n",
    "hm.training_data.to_excel(os.path.join('Cuts', cut_name, 'train_data.xlsx'))\n",
    "hm.test_data.to_excel(os.path.join('Cuts', cut_name, 'test_data.xlsx'))\n",
    "\n",
    "print('Good')"
   ]
  },
  {
   "cell_type": "code",
   "execution_count": null,
   "metadata": {},
   "outputs": [],
   "source": [
    "# Results get saved to disk, so load and display:\n",
    "for file in glob.glob(fix_glob(os.path.join(hm.combineddir, \"*.%s\"%ext))):\n",
    "    img = IFrame(file, width=800, height=600)\n",
    "    print(file)\n",
    "    display(img)"
   ]
  },
  {
   "cell_type": "code",
   "execution_count": null,
   "metadata": {},
   "outputs": [],
   "source": [
    "ar = all_results.reset_index()\n",
    "\n",
    "data = ar.loc[ar['AgeBin']==age_bin[0]].groupby(['Sample_Id','AgeBin'])['Result'].mean().reset_index().set_index('Sample_Id')\n",
    "\n",
    "train = hm.training_data\n",
    "train['Train'] = True\n",
    "test = hm.test_data\n",
    "test['Train'] = False\n",
    "train_test = pd.concat([train, test])\n",
    "\n",
    "fig, ax = plt.subplots(figsize=(16,10))\n",
    "\n",
    "# Reference\n",
    "#ref_by_year = reference_data[['Prevalence']].reset_index()\n",
    "\n",
    "ref_by_year = ref_df.loc[ref_df['Age bin'] == int(age_bin[0][:2])] \\\n",
    "    .groupby('Age bin') \\\n",
    "    .mean() \\\n",
    "    .reset_index()\n",
    "print(ref_by_year)\n",
    "print(data)\n",
    "sns.lineplot(data=ref_by_year, x='Age bin', y='Mean', color='k', marker='o', alpha=1, lw=2, zorder=1);\n",
    "\n",
    "# Sims\n",
    "tmp = data.merge(train_test[['Sample_Orig', 'Implausible', 'Train']], left_on='Sample_Id', right_on='Sample_Orig')\n",
    "print(tmp.head())\n",
    "sns.lineplot(data=tmp, x='AgeBin', y='Result', hue='Implausible', style='Train', \n",
    "             units='Sample_Orig', estimator=None, alpha=0.5, lw=0.5,\n",
    "             ax=ax, zorder=-1)\n",
    "ax.set_xlabel('AgeBin');\n",
    "ax.set_ylabel('Duration');\n",
    "ax.set_xticks(ref_by_year['Age bin'].unique());"
   ]
  }
 ],
 "metadata": {
  "kernelspec": {
   "display_name": "Python 3",
   "language": "python",
   "name": "python3"
  },
  "language_info": {
   "codemirror_mode": {
    "name": "ipython",
    "version": 3
   },
   "file_extension": ".py",
   "mimetype": "text/x-python",
   "name": "python",
   "nbconvert_exporter": "python",
   "pygments_lexer": "ipython3",
   "version": "3.6.6"
  }
 },
 "nbformat": 4,
 "nbformat_minor": 2
}
