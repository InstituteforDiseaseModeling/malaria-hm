{
 "cells": [
  {
   "cell_type": "markdown",
   "metadata": {},
   "source": [
    "# Malaria challenge trial calibration"
   ]
  },
  {
   "cell_type": "markdown",
   "metadata": {},
   "source": [
    "### A history matching approach to calibrating an empirical model of malaria infection and immunity\n",
    "### For iter0 we will cut down parameter space by using the distribution of infection durations by age in the KND cohort in Navrongo, Ghana"
   ]
  },
  {
   "cell_type": "markdown",
   "metadata": {},
   "source": [
    "# Import block"
   ]
  },
  {
   "cell_type": "code",
   "execution_count": 1,
   "metadata": {},
   "outputs": [
    {
     "name": "stderr",
     "output_type": "stream",
     "text": [
      "c:\\python36\\lib\\site-packages\\statsmodels\\compat\\pandas.py:56: FutureWarning: The pandas.core.datetools module is deprecated and will be removed in a future version. Please use the pandas.tseries module instead.\n",
      "  from pandas.core import datetools\n"
     ]
    },
    {
     "ename": "RuntimeError",
     "evalue": "cuInit failed: no CUDA-capable device is detected",
     "output_type": "error",
     "traceback": [
      "\u001b[1;31m---------------------------------------------------------------------------\u001b[0m",
      "\u001b[1;31mRuntimeError\u001b[0m                              Traceback (most recent call last)",
      "\u001b[1;32m<ipython-input-1-bc68ff5c11c4>\u001b[0m in \u001b[0;36m<module>\u001b[1;34m\u001b[0m\n\u001b[0;32m     12\u001b[0m \u001b[1;33m\u001b[0m\u001b[0m\n\u001b[0;32m     13\u001b[0m \u001b[1;32mfrom\u001b[0m \u001b[0mpyDOE\u001b[0m \u001b[1;32mimport\u001b[0m \u001b[0mlhs\u001b[0m\u001b[1;33m\u001b[0m\u001b[0m\n\u001b[1;32m---> 14\u001b[1;33m \u001b[1;32mfrom\u001b[0m \u001b[0mhistory_matching\u001b[0m \u001b[1;32mimport\u001b[0m \u001b[0mHistoryMatching\u001b[0m\u001b[1;33m,\u001b[0m \u001b[0mHistoryMatchingCut\u001b[0m\u001b[1;33m,\u001b[0m \u001b[0mquick_read\u001b[0m\u001b[1;33m,\u001b[0m \u001b[0mBasis\u001b[0m\u001b[1;33m\u001b[0m\u001b[0m\n\u001b[0m\u001b[0;32m     15\u001b[0m \u001b[1;33m\u001b[0m\u001b[0m\n\u001b[0;32m     16\u001b[0m \u001b[1;32mimport\u001b[0m \u001b[0mpycuda\u001b[0m\u001b[1;33m\u001b[0m\u001b[0m\n",
      "\u001b[1;32mc:\\python36\\lib\\site-packages\\historymatching-0.1-py3.6.egg\\history_matching\\__init__.py\u001b[0m in \u001b[0;36m<module>\u001b[1;34m\u001b[0m\n\u001b[0;32m      1\u001b[0m \u001b[1;32mfrom\u001b[0m \u001b[1;33m.\u001b[0m\u001b[0mbasis\u001b[0m \u001b[1;32mimport\u001b[0m \u001b[0mBasis\u001b[0m\u001b[1;33m\u001b[0m\u001b[0m\n\u001b[0;32m      2\u001b[0m \u001b[1;32mfrom\u001b[0m \u001b[1;33m.\u001b[0m\u001b[0mquick_read\u001b[0m \u001b[1;32mimport\u001b[0m \u001b[0mquick_read\u001b[0m\u001b[1;33m\u001b[0m\u001b[0m\n\u001b[1;32m----> 3\u001b[1;33m \u001b[1;32mfrom\u001b[0m \u001b[1;33m.\u001b[0m\u001b[0mHistoryMatching\u001b[0m \u001b[1;32mimport\u001b[0m \u001b[0mHistoryMatching\u001b[0m\u001b[1;33m\u001b[0m\u001b[0m\n\u001b[0m\u001b[0;32m      4\u001b[0m \u001b[1;32mfrom\u001b[0m \u001b[1;33m.\u001b[0m\u001b[0mHistoryMatchingCut\u001b[0m \u001b[1;32mimport\u001b[0m \u001b[0mHistoryMatchingCut\u001b[0m\u001b[1;33m\u001b[0m\u001b[0m\n\u001b[0;32m      5\u001b[0m \u001b[1;32mfrom\u001b[0m \u001b[1;33m.\u001b[0m\u001b[0mProgressPlotting\u001b[0m \u001b[1;32mimport\u001b[0m \u001b[0mProgressPlotting\u001b[0m\u001b[1;33m\u001b[0m\u001b[0m\n",
      "\u001b[1;32mc:\\python36\\lib\\site-packages\\historymatching-0.1-py3.6.egg\\history_matching\\HistoryMatching.py\u001b[0m in \u001b[0;36m<module>\u001b[1;34m\u001b[0m\n\u001b[0;32m      9\u001b[0m \u001b[1;33m\u001b[0m\u001b[0m\n\u001b[0;32m     10\u001b[0m \u001b[1;32mfrom\u001b[0m \u001b[0mhistory_matching\u001b[0m\u001b[1;33m.\u001b[0m\u001b[0mglm\u001b[0m \u001b[1;32mimport\u001b[0m \u001b[0mGLM\u001b[0m\u001b[1;33m\u001b[0m\u001b[0m\n\u001b[1;32m---> 11\u001b[1;33m \u001b[1;32mfrom\u001b[0m \u001b[0mhistory_matching\u001b[0m\u001b[1;33m.\u001b[0m\u001b[0mgpr\u001b[0m \u001b[1;32mimport\u001b[0m \u001b[0mGPR\u001b[0m\u001b[1;33m\u001b[0m\u001b[0m\n\u001b[0m\u001b[0;32m     12\u001b[0m \u001b[1;32mfrom\u001b[0m \u001b[0mhistory_matching\u001b[0m\u001b[1;33m.\u001b[0m\u001b[0mplotting\u001b[0m \u001b[1;32mimport\u001b[0m \u001b[0mplot_data\u001b[0m\u001b[1;33m,\u001b[0m \u001b[0mjoint_plot\u001b[0m\u001b[1;33m,\u001b[0m \u001b[0mplot_errors\u001b[0m\u001b[1;33m,\u001b[0m \u001b[0mplot_implausibility\u001b[0m\u001b[1;33m,\u001b[0m \u001b[0mplot_implausibility_by_iter\u001b[0m\u001b[1;33m,\u001b[0m \u001b[0mhistogram_implausibility\u001b[0m \u001b[1;31m# <-- TODO: Fix names\u001b[0m\u001b[1;33m\u001b[0m\u001b[0m\n\u001b[0;32m     13\u001b[0m \u001b[1;33m\u001b[0m\u001b[0m\n",
      "\u001b[1;32mc:\\python36\\lib\\site-packages\\historymatching-0.1-py3.6.egg\\history_matching\\gpr.py\u001b[0m in \u001b[0;36m<module>\u001b[1;34m\u001b[0m\n\u001b[0;32m     24\u001b[0m \u001b[1;32mtry\u001b[0m\u001b[1;33m:\u001b[0m\u001b[1;33m\u001b[0m\u001b[0m\n\u001b[0;32m     25\u001b[0m     \u001b[1;32mfrom\u001b[0m \u001b[0mpycuda\u001b[0m \u001b[1;32mimport\u001b[0m \u001b[0mdriver\u001b[0m\u001b[1;33m,\u001b[0m \u001b[0mcompiler\u001b[0m\u001b[1;33m,\u001b[0m \u001b[0mgpuarray\u001b[0m\u001b[1;33m,\u001b[0m \u001b[0mtools\u001b[0m\u001b[1;33m\u001b[0m\u001b[0m\n\u001b[1;32m---> 26\u001b[1;33m     \u001b[1;32mimport\u001b[0m \u001b[0mpycuda\u001b[0m\u001b[1;33m.\u001b[0m\u001b[0mautoinit\u001b[0m\u001b[1;33m\u001b[0m\u001b[0m\n\u001b[0m\u001b[0;32m     27\u001b[0m     \u001b[1;32mimport\u001b[0m \u001b[0mpycuda\u001b[0m\u001b[1;33m.\u001b[0m\u001b[0mdriver\u001b[0m \u001b[1;32mas\u001b[0m \u001b[0mdrv\u001b[0m\u001b[1;33m\u001b[0m\u001b[0m\n\u001b[0;32m     28\u001b[0m     \u001b[1;32mfrom\u001b[0m \u001b[0mpycuda\u001b[0m\u001b[1;33m.\u001b[0m\u001b[0mcompiler\u001b[0m \u001b[1;32mimport\u001b[0m \u001b[0mSourceModule\u001b[0m\u001b[1;33m\u001b[0m\u001b[0m\n",
      "\u001b[1;32mc:\\python36\\lib\\site-packages\\pycuda\\autoinit.py\u001b[0m in \u001b[0;36m<module>\u001b[1;34m\u001b[0m\n\u001b[0;32m      3\u001b[0m \u001b[1;33m\u001b[0m\u001b[0m\n\u001b[0;32m      4\u001b[0m \u001b[1;31m# Initialize CUDA\u001b[0m\u001b[1;33m\u001b[0m\u001b[1;33m\u001b[0m\u001b[0m\n\u001b[1;32m----> 5\u001b[1;33m \u001b[0mcuda\u001b[0m\u001b[1;33m.\u001b[0m\u001b[0minit\u001b[0m\u001b[1;33m(\u001b[0m\u001b[1;33m)\u001b[0m\u001b[1;33m\u001b[0m\u001b[0m\n\u001b[0m\u001b[0;32m      6\u001b[0m \u001b[1;33m\u001b[0m\u001b[0m\n\u001b[0;32m      7\u001b[0m \u001b[1;32mfrom\u001b[0m \u001b[0mpycuda\u001b[0m\u001b[1;33m.\u001b[0m\u001b[0mtools\u001b[0m \u001b[1;32mimport\u001b[0m \u001b[0mmake_default_context\u001b[0m\u001b[1;33m\u001b[0m\u001b[0m\n",
      "\u001b[1;31mRuntimeError\u001b[0m: cuInit failed: no CUDA-capable device is detected"
     ]
    }
   ],
   "source": [
    "%load_ext autoreload\n",
    "%autoreload 2\n",
    "\n",
    "import os, glob, re, sys, json\n",
    "import pandas as pd\n",
    "import numpy as np\n",
    "import matplotlib.pyplot as plt\n",
    "import seaborn as sns\n",
    "\n",
    "from wand.image import Image as WImage\n",
    "from IPython.display import display\n",
    "\n",
    "from pyDOE import lhs\n",
    "from history_matching import HistoryMatching, HistoryMatchingCut, quick_read, Basis\n",
    "\n",
    "import pycuda\n",
    "\n",
    "sns.set(font_scale=2)\n",
    "sns.set_style(\"white\")"
   ]
  },
  {
   "cell_type": "markdown",
   "metadata": {},
   "source": [
    "# Configure parameters and data for history matching"
   ]
  },
  {
   "cell_type": "code",
   "execution_count": null,
   "metadata": {},
   "outputs": [],
   "source": [
    "age_bin = 0\n",
    "cut_name = 'Duration for age='%age_bin\n",
    "DROP_BIN_20 = True\n",
    "\n",
    "iteration = int(re.search(r'iter(\\d+)', os.getcwd()).group(1)) # Index of the current iteration\n",
    "exp_ids = [''] # TODO: only uses first for now, should loop"
   ]
  }
 ],
 "metadata": {
  "kernelspec": {
   "display_name": "Python 3",
   "language": "python",
   "name": "python3"
  },
  "language_info": {
   "codemirror_mode": {
    "name": "ipython",
    "version": 3
   },
   "file_extension": ".py",
   "mimetype": "text/x-python",
   "name": "python",
   "nbconvert_exporter": "python",
   "pygments_lexer": "ipython3",
   "version": "3.6.6"
  }
 },
 "nbformat": 4,
 "nbformat_minor": 2
}
